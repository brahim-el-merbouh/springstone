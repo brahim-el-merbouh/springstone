{
 "cells": [
  {
   "cell_type": "code",
   "execution_count": 58,
   "id": "b118df96",
   "metadata": {},
   "outputs": [],
   "source": [
    "import pandas as pd\n",
    "import yfinance as yfB\n",
    "\n",
    "ticker_name = \"TSLA\"\n",
    "\n",
    "import yfinance as yfB\n",
    "def get_data(ticker_name,start=\"2012-02-18\",end=\"2022-02-19\"):\n",
    "    '''returns a DataFrame from yfinance'''\n",
    "    data = yfB.download(ticker_name,start,end)\n",
    "    return data"
   ]
  },
  {
   "cell_type": "code",
   "execution_count": 59,
   "id": "ab23a162",
   "metadata": {},
   "outputs": [
    {
     "name": "stdout",
     "output_type": "stream",
     "text": [
      "[*********************100%***********************]  1 of 1 completed\n"
     ]
    }
   ],
   "source": [
    "data = get_data('TSLA')"
   ]
  },
  {
   "cell_type": "code",
   "execution_count": 60,
   "id": "3bb04886",
   "metadata": {},
   "outputs": [
    {
     "data": {
      "text/plain": [
       "(2518, 6)"
      ]
     },
     "execution_count": 60,
     "metadata": {},
     "output_type": "execute_result"
    }
   ],
   "source": [
    "data.shape"
   ]
  },
  {
   "cell_type": "code",
   "execution_count": 61,
   "id": "25221c1e",
   "metadata": {},
   "outputs": [],
   "source": [
    "def create_train_test(train_size = 0.8):\n",
    "    '''create the test and train dataset'''   \n",
    "    index = round(train_size*data.shape[0])\n",
    "    data_train = data.iloc[:index]\n",
    "    data_test = data.iloc[index:]\n",
    "    return data_train, data_test"
   ]
  },
  {
   "cell_type": "code",
   "execution_count": 62,
   "id": "7b2b8506",
   "metadata": {},
   "outputs": [],
   "source": [
    "train, test = create_train_test(train_size = 0.8)"
   ]
  },
  {
   "cell_type": "code",
   "execution_count": 92,
   "id": "255d488e",
   "metadata": {},
   "outputs": [],
   "source": [
    "def create_df_for_prophet(df):\n",
    "    '''create a dataset fit for prophet'''   \n",
    "    df = df['Close']\n",
    "    df = df.reset_index(name='y').rename(columns={'Date': 'ds'})\n",
    "    return df"
   ]
  },
  {
   "cell_type": "code",
   "execution_count": 95,
   "id": "a594db9f",
   "metadata": {},
   "outputs": [],
   "source": [
    "test_prophet = create_df_for_prophet(test)"
   ]
  },
  {
   "cell_type": "code",
   "execution_count": 105,
   "id": "15d5cf21",
   "metadata": {},
   "outputs": [],
   "source": [
    "def create_df_for_prophet(data):\n",
    "    '''create a dataset fit for prophet'''\n",
    "    data_prophet = data['Close'].copy().reset_index().rename(columns={'Date': 'ds','Close': 'y'})\n",
    "    print (data_prophet)"
   ]
  },
  {
   "cell_type": "code",
   "execution_count": 106,
   "id": "5c97c711",
   "metadata": {},
   "outputs": [
    {
     "name": "stdout",
     "output_type": "stream",
     "text": [
      "            ds           y\n",
      "0   2020-02-24  166.757996\n",
      "1   2020-02-25  159.981995\n",
      "2   2020-02-26  155.759995\n",
      "3   2020-02-27  135.800003\n",
      "4   2020-02-28  133.598007\n",
      "..         ...         ...\n",
      "499 2022-02-14  875.760010\n",
      "500 2022-02-15  922.429993\n",
      "501 2022-02-16  923.390015\n",
      "502 2022-02-17  876.349976\n",
      "503 2022-02-18  856.979980\n",
      "\n",
      "[504 rows x 2 columns]\n"
     ]
    }
   ],
   "source": [
    "create_df_for_prophet(test)"
   ]
  },
  {
   "cell_type": "code",
   "execution_count": null,
   "id": "639a281f",
   "metadata": {},
   "outputs": [],
   "source": []
  }
 ],
 "metadata": {
  "kernelspec": {
   "display_name": "Python 3 (ipykernel)",
   "language": "python",
   "name": "python3"
  },
  "language_info": {
   "codemirror_mode": {
    "name": "ipython",
    "version": 3
   },
   "file_extension": ".py",
   "mimetype": "text/x-python",
   "name": "python",
   "nbconvert_exporter": "python",
   "pygments_lexer": "ipython3",
   "version": "3.8.12"
  },
  "toc": {
   "base_numbering": 1,
   "nav_menu": {},
   "number_sections": true,
   "sideBar": true,
   "skip_h1_title": false,
   "title_cell": "Table of Contents",
   "title_sidebar": "Contents",
   "toc_cell": false,
   "toc_position": {},
   "toc_section_display": true,
   "toc_window_display": false
  }
 },
 "nbformat": 4,
 "nbformat_minor": 5
}
