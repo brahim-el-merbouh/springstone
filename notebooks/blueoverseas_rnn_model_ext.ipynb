{
 "cells": [
  {
   "cell_type": "code",
   "execution_count": 1,
   "id": "0df1d11b",
   "metadata": {},
   "outputs": [],
   "source": [
    "%load_ext autoreload\n",
    "%autoreload 2\n",
    "import warnings\n",
    "warnings.filterwarnings(\"ignore\")"
   ]
  },
  {
   "cell_type": "code",
   "execution_count": 2,
   "id": "3532c2a2",
   "metadata": {},
   "outputs": [
    {
     "name": "stderr",
     "output_type": "stream",
     "text": [
      "2022-03-17 16:46:34.401988: W tensorflow/stream_executor/platform/default/dso_loader.cc:64] Could not load dynamic library 'libcudart.so.11.0'; dlerror: libcudart.so.11.0: cannot open shared object file: No such file or directory\n",
      "2022-03-17 16:46:34.402044: I tensorflow/stream_executor/cuda/cudart_stub.cc:29] Ignore above cudart dlerror if you do not have a GPU set up on your machine.\n"
     ]
    },
    {
     "name": "stdout",
     "output_type": "stream",
     "text": [
      "2022-03-17 16:46:36,613 loading file /home/blueoverseas/.flair/models/sentiment-en-mix-distillbert_4.pt\n"
     ]
    }
   ],
   "source": [
    "from springstone.data import get_data, add_missing_days, create_train_test, drop_nan, subsample_sequence, get_X_y\n",
    "from springstone.utils import bollinger_bands, moving_average, daily_return\n",
    "from springstone.encoders import TimeFeaturesEncoder, BollingerBandsTransformer, MovingAverageTransformer, DailyReturnTransformer\n",
    "import pandas as pd\n",
    "import numpy as np\n",
    "import matplotlib.pyplot as plt"
   ]
  },
  {
   "cell_type": "code",
   "execution_count": 3,
   "id": "687f6e1e",
   "metadata": {},
   "outputs": [],
   "source": [
    "from tensorflow.keras.models import Sequential, save_model\n",
    "from tensorflow.keras.layers import Dense, GRU, Dropout, Masking\n",
    "from tensorflow.keras.preprocessing.sequence import pad_sequences\n",
    "from tensorflow.keras.optimizers import RMSprop\n",
    "from tensorflow.keras.metrics import MAPE, MAE\n",
    "from tensorflow.keras.callbacks import EarlyStopping\n",
    "from sklearn.preprocessing import MinMaxScaler, StandardScaler, OneHotEncoder, FunctionTransformer\n",
    "from sklearn.pipeline import Pipeline\n",
    "from sklearn.compose import ColumnTransformer\n",
    "from sklearn import set_config; set_config(display='diagram')\n",
    "import keras_tuner as kt\n",
    "import joblib"
   ]
  },
  {
   "cell_type": "markdown",
   "id": "6ef93ced-0b25-4ede-98f8-080f540b9772",
   "metadata": {
    "tags": []
   },
   "source": [
    "# Get the original data set for the AAPL ticker and preprocess it"
   ]
  },
  {
   "cell_type": "code",
   "execution_count": 4,
   "id": "6331e8b2-d394-4888-ab42-701a644ed5d4",
   "metadata": {},
   "outputs": [],
   "source": [
    "ticker = 'RIOT'"
   ]
  },
  {
   "cell_type": "markdown",
   "id": "53a96132-978b-4167-8466-159d69491599",
   "metadata": {},
   "source": [
    "## Get the data from Yahoo Finance"
   ]
  },
  {
   "cell_type": "code",
   "execution_count": 5,
   "id": "e8af04d1",
   "metadata": {},
   "outputs": [
    {
     "name": "stdout",
     "output_type": "stream",
     "text": [
      "[*********************100%***********************]  1 of 1 completed\n"
     ]
    }
   ],
   "source": [
    "hist = get_data(ticker, end='2022-03-11')"
   ]
  },
  {
   "cell_type": "code",
   "execution_count": 6,
   "id": "eea3a4cd",
   "metadata": {},
   "outputs": [
    {
     "data": {
      "text/plain": [
       "(1498, 5)"
      ]
     },
     "execution_count": 6,
     "metadata": {},
     "output_type": "execute_result"
    }
   ],
   "source": [
    "hist.shape"
   ]
  },
  {
   "cell_type": "markdown",
   "id": "5e1b55df-f076-4f36-95eb-0664fbd9f9ca",
   "metadata": {},
   "source": [
    "## Split the data into a train and test set"
   ]
  },
  {
   "cell_type": "code",
   "execution_count": 7,
   "id": "6332ef01-dd4d-4236-a5cc-bf346b0f199b",
   "metadata": {},
   "outputs": [
    {
     "name": "stdout",
     "output_type": "stream",
     "text": [
      "(1198, 5) (300, 5)\n"
     ]
    }
   ],
   "source": [
    "df_train, df_test = create_train_test(hist)\n",
    "print(df_train.shape, df_test.shape)"
   ]
  },
  {
   "cell_type": "markdown",
   "id": "b7ab9273-fb5d-4818-ad4e-2640a4bf4458",
   "metadata": {},
   "source": [
    "## Pipeline to clean the data, add the engineered features and transform it to be ingested by a RNN model"
   ]
  },
  {
   "cell_type": "code",
   "execution_count": 8,
   "id": "c6cb0bd5-fc3d-4d74-a730-91515ca15505",
   "metadata": {},
   "outputs": [
    {
     "data": {
      "text/html": [
       "<style>#sk-18f7266b-37a7-4bdc-96f6-6c4b31289c26 {color: black;background-color: white;}#sk-18f7266b-37a7-4bdc-96f6-6c4b31289c26 pre{padding: 0;}#sk-18f7266b-37a7-4bdc-96f6-6c4b31289c26 div.sk-toggleable {background-color: white;}#sk-18f7266b-37a7-4bdc-96f6-6c4b31289c26 label.sk-toggleable__label {cursor: pointer;display: block;width: 100%;margin-bottom: 0;padding: 0.3em;box-sizing: border-box;text-align: center;}#sk-18f7266b-37a7-4bdc-96f6-6c4b31289c26 label.sk-toggleable__label-arrow:before {content: \"▸\";float: left;margin-right: 0.25em;color: #696969;}#sk-18f7266b-37a7-4bdc-96f6-6c4b31289c26 label.sk-toggleable__label-arrow:hover:before {color: black;}#sk-18f7266b-37a7-4bdc-96f6-6c4b31289c26 div.sk-estimator:hover label.sk-toggleable__label-arrow:before {color: black;}#sk-18f7266b-37a7-4bdc-96f6-6c4b31289c26 div.sk-toggleable__content {max-height: 0;max-width: 0;overflow: hidden;text-align: left;background-color: #f0f8ff;}#sk-18f7266b-37a7-4bdc-96f6-6c4b31289c26 div.sk-toggleable__content pre {margin: 0.2em;color: black;border-radius: 0.25em;background-color: #f0f8ff;}#sk-18f7266b-37a7-4bdc-96f6-6c4b31289c26 input.sk-toggleable__control:checked~div.sk-toggleable__content {max-height: 200px;max-width: 100%;overflow: auto;}#sk-18f7266b-37a7-4bdc-96f6-6c4b31289c26 input.sk-toggleable__control:checked~label.sk-toggleable__label-arrow:before {content: \"▾\";}#sk-18f7266b-37a7-4bdc-96f6-6c4b31289c26 div.sk-estimator input.sk-toggleable__control:checked~label.sk-toggleable__label {background-color: #d4ebff;}#sk-18f7266b-37a7-4bdc-96f6-6c4b31289c26 div.sk-label input.sk-toggleable__control:checked~label.sk-toggleable__label {background-color: #d4ebff;}#sk-18f7266b-37a7-4bdc-96f6-6c4b31289c26 input.sk-hidden--visually {border: 0;clip: rect(1px 1px 1px 1px);clip: rect(1px, 1px, 1px, 1px);height: 1px;margin: -1px;overflow: hidden;padding: 0;position: absolute;width: 1px;}#sk-18f7266b-37a7-4bdc-96f6-6c4b31289c26 div.sk-estimator {font-family: monospace;background-color: #f0f8ff;border: 1px dotted black;border-radius: 0.25em;box-sizing: border-box;margin-bottom: 0.5em;}#sk-18f7266b-37a7-4bdc-96f6-6c4b31289c26 div.sk-estimator:hover {background-color: #d4ebff;}#sk-18f7266b-37a7-4bdc-96f6-6c4b31289c26 div.sk-parallel-item::after {content: \"\";width: 100%;border-bottom: 1px solid gray;flex-grow: 1;}#sk-18f7266b-37a7-4bdc-96f6-6c4b31289c26 div.sk-label:hover label.sk-toggleable__label {background-color: #d4ebff;}#sk-18f7266b-37a7-4bdc-96f6-6c4b31289c26 div.sk-serial::before {content: \"\";position: absolute;border-left: 1px solid gray;box-sizing: border-box;top: 2em;bottom: 0;left: 50%;}#sk-18f7266b-37a7-4bdc-96f6-6c4b31289c26 div.sk-serial {display: flex;flex-direction: column;align-items: center;background-color: white;padding-right: 0.2em;padding-left: 0.2em;}#sk-18f7266b-37a7-4bdc-96f6-6c4b31289c26 div.sk-item {z-index: 1;}#sk-18f7266b-37a7-4bdc-96f6-6c4b31289c26 div.sk-parallel {display: flex;align-items: stretch;justify-content: center;background-color: white;}#sk-18f7266b-37a7-4bdc-96f6-6c4b31289c26 div.sk-parallel::before {content: \"\";position: absolute;border-left: 1px solid gray;box-sizing: border-box;top: 2em;bottom: 0;left: 50%;}#sk-18f7266b-37a7-4bdc-96f6-6c4b31289c26 div.sk-parallel-item {display: flex;flex-direction: column;position: relative;background-color: white;}#sk-18f7266b-37a7-4bdc-96f6-6c4b31289c26 div.sk-parallel-item:first-child::after {align-self: flex-end;width: 50%;}#sk-18f7266b-37a7-4bdc-96f6-6c4b31289c26 div.sk-parallel-item:last-child::after {align-self: flex-start;width: 50%;}#sk-18f7266b-37a7-4bdc-96f6-6c4b31289c26 div.sk-parallel-item:only-child::after {width: 0;}#sk-18f7266b-37a7-4bdc-96f6-6c4b31289c26 div.sk-dashed-wrapped {border: 1px dashed gray;margin: 0 0.4em 0.5em 0.4em;box-sizing: border-box;padding-bottom: 0.4em;background-color: white;position: relative;}#sk-18f7266b-37a7-4bdc-96f6-6c4b31289c26 div.sk-label label {font-family: monospace;font-weight: bold;background-color: white;display: inline-block;line-height: 1.2em;}#sk-18f7266b-37a7-4bdc-96f6-6c4b31289c26 div.sk-label-container {position: relative;z-index: 2;text-align: center;}#sk-18f7266b-37a7-4bdc-96f6-6c4b31289c26 div.sk-container {/* jupyter's `normalize.less` sets `[hidden] { display: none; }` but bootstrap.min.css set `[hidden] { display: none !important; }` so we also need the `!important` here to be able to override the default hidden behavior on the sphinx rendered scikit-learn.org. See: https://github.com/scikit-learn/scikit-learn/issues/21755 */display: inline-block !important;position: relative;}#sk-18f7266b-37a7-4bdc-96f6-6c4b31289c26 div.sk-text-repr-fallback {display: none;}</style><div id=\"sk-18f7266b-37a7-4bdc-96f6-6c4b31289c26\" class=\"sk-top-container\"><div class=\"sk-text-repr-fallback\"><pre>Pipeline(steps=[(&#x27;add_missing_days&#x27;,\n",
       "                 FunctionTransformer(func=&lt;function add_missing_days at 0x7f2b026128b0&gt;)),\n",
       "                (&#x27;add_Close_bb20_2&#x27;, BollingerBandsTransformer()),\n",
       "                (&#x27;add_Close_bb20_-2&#x27;,\n",
       "                 BollingerBandsTransformer(standard_deviations=-2)),\n",
       "                (&#x27;add_Close_ma7&#x27;, MovingAverageTransformer()),\n",
       "                (&#x27;add_Close_percentage_change&#x27;, DailyReturnTransformer()),\n",
       "                (&#x27;add_time_features&#x27;,...\n",
       "                 FunctionTransformer(func=&lt;function drop_nan at 0x7f2b02612940&gt;)),\n",
       "                (&#x27;transform&#x27;,\n",
       "                 ColumnTransformer(transformers=[(&#x27;fin_scaller&#x27;,\n",
       "                                                  StandardScaler(),\n",
       "                                                  [&#x27;Open&#x27;, &#x27;Close&#x27;, &#x27;Volume&#x27;,\n",
       "                                                   &#x27;Close_bb20_2&#x27;,\n",
       "                                                   &#x27;Close_bb20_-2&#x27;, &#x27;Close_ma7&#x27;,\n",
       "                                                   &#x27;Close_percentage_change&#x27;]),\n",
       "                                                 (&#x27;onehotencode_time_features&#x27;,\n",
       "                                                  OneHotEncoder(drop=&#x27;if_binary&#x27;,\n",
       "                                                                handle_unknown=&#x27;ignore&#x27;,\n",
       "                                                                sparse=False),\n",
       "                                                  [&#x27;dow&#x27;, &#x27;month&#x27;])]))])</pre><b>Please rerun this cell to show the HTML repr or trust the notebook.</b></div><div class=\"sk-container\" hidden><div class=\"sk-item sk-dashed-wrapped\"><div class=\"sk-label-container\"><div class=\"sk-label sk-toggleable\"><input class=\"sk-toggleable__control sk-hidden--visually\" id=\"9a1b0bde-6f97-44e3-8c8b-b7705ff6821b\" type=\"checkbox\" ><label for=\"9a1b0bde-6f97-44e3-8c8b-b7705ff6821b\" class=\"sk-toggleable__label sk-toggleable__label-arrow\">Pipeline</label><div class=\"sk-toggleable__content\"><pre>Pipeline(steps=[(&#x27;add_missing_days&#x27;,\n",
       "                 FunctionTransformer(func=&lt;function add_missing_days at 0x7f2b026128b0&gt;)),\n",
       "                (&#x27;add_Close_bb20_2&#x27;, BollingerBandsTransformer()),\n",
       "                (&#x27;add_Close_bb20_-2&#x27;,\n",
       "                 BollingerBandsTransformer(standard_deviations=-2)),\n",
       "                (&#x27;add_Close_ma7&#x27;, MovingAverageTransformer()),\n",
       "                (&#x27;add_Close_percentage_change&#x27;, DailyReturnTransformer()),\n",
       "                (&#x27;add_time_features&#x27;,...\n",
       "                 FunctionTransformer(func=&lt;function drop_nan at 0x7f2b02612940&gt;)),\n",
       "                (&#x27;transform&#x27;,\n",
       "                 ColumnTransformer(transformers=[(&#x27;fin_scaller&#x27;,\n",
       "                                                  StandardScaler(),\n",
       "                                                  [&#x27;Open&#x27;, &#x27;Close&#x27;, &#x27;Volume&#x27;,\n",
       "                                                   &#x27;Close_bb20_2&#x27;,\n",
       "                                                   &#x27;Close_bb20_-2&#x27;, &#x27;Close_ma7&#x27;,\n",
       "                                                   &#x27;Close_percentage_change&#x27;]),\n",
       "                                                 (&#x27;onehotencode_time_features&#x27;,\n",
       "                                                  OneHotEncoder(drop=&#x27;if_binary&#x27;,\n",
       "                                                                handle_unknown=&#x27;ignore&#x27;,\n",
       "                                                                sparse=False),\n",
       "                                                  [&#x27;dow&#x27;, &#x27;month&#x27;])]))])</pre></div></div></div><div class=\"sk-serial\"><div class=\"sk-item\"><div class=\"sk-estimator sk-toggleable\"><input class=\"sk-toggleable__control sk-hidden--visually\" id=\"e4398b5e-89a3-4a19-bbfb-480950224346\" type=\"checkbox\" ><label for=\"e4398b5e-89a3-4a19-bbfb-480950224346\" class=\"sk-toggleable__label sk-toggleable__label-arrow\">FunctionTransformer</label><div class=\"sk-toggleable__content\"><pre>FunctionTransformer(func=&lt;function add_missing_days at 0x7f2b026128b0&gt;)</pre></div></div></div><div class=\"sk-item\"><div class=\"sk-estimator sk-toggleable\"><input class=\"sk-toggleable__control sk-hidden--visually\" id=\"ee4e7b2f-a89c-4309-b964-701436817a6f\" type=\"checkbox\" ><label for=\"ee4e7b2f-a89c-4309-b964-701436817a6f\" class=\"sk-toggleable__label sk-toggleable__label-arrow\">BollingerBandsTransformer</label><div class=\"sk-toggleable__content\"><pre>BollingerBandsTransformer()</pre></div></div></div><div class=\"sk-item\"><div class=\"sk-estimator sk-toggleable\"><input class=\"sk-toggleable__control sk-hidden--visually\" id=\"b8951335-4158-4a2d-b180-23a3b8df6c8f\" type=\"checkbox\" ><label for=\"b8951335-4158-4a2d-b180-23a3b8df6c8f\" class=\"sk-toggleable__label sk-toggleable__label-arrow\">BollingerBandsTransformer</label><div class=\"sk-toggleable__content\"><pre>BollingerBandsTransformer(standard_deviations=-2)</pre></div></div></div><div class=\"sk-item\"><div class=\"sk-estimator sk-toggleable\"><input class=\"sk-toggleable__control sk-hidden--visually\" id=\"aa506fe3-9038-4df0-a94e-b6d6ea971a90\" type=\"checkbox\" ><label for=\"aa506fe3-9038-4df0-a94e-b6d6ea971a90\" class=\"sk-toggleable__label sk-toggleable__label-arrow\">MovingAverageTransformer</label><div class=\"sk-toggleable__content\"><pre>MovingAverageTransformer()</pre></div></div></div><div class=\"sk-item\"><div class=\"sk-estimator sk-toggleable\"><input class=\"sk-toggleable__control sk-hidden--visually\" id=\"6b3535ce-2ef3-4bde-ac41-7bed13e1e3ce\" type=\"checkbox\" ><label for=\"6b3535ce-2ef3-4bde-ac41-7bed13e1e3ce\" class=\"sk-toggleable__label sk-toggleable__label-arrow\">DailyReturnTransformer</label><div class=\"sk-toggleable__content\"><pre>DailyReturnTransformer()</pre></div></div></div><div class=\"sk-item\"><div class=\"sk-estimator sk-toggleable\"><input class=\"sk-toggleable__control sk-hidden--visually\" id=\"162e576c-308f-4624-a796-aee9c83856c3\" type=\"checkbox\" ><label for=\"162e576c-308f-4624-a796-aee9c83856c3\" class=\"sk-toggleable__label sk-toggleable__label-arrow\">TimeFeaturesEncoder</label><div class=\"sk-toggleable__content\"><pre>TimeFeaturesEncoder()</pre></div></div></div><div class=\"sk-item\"><div class=\"sk-estimator sk-toggleable\"><input class=\"sk-toggleable__control sk-hidden--visually\" id=\"5bfd496f-e384-4f76-95ab-218bdcfb0634\" type=\"checkbox\" ><label for=\"5bfd496f-e384-4f76-95ab-218bdcfb0634\" class=\"sk-toggleable__label sk-toggleable__label-arrow\">FunctionTransformer</label><div class=\"sk-toggleable__content\"><pre>FunctionTransformer(func=&lt;function drop_nan at 0x7f2b02612940&gt;)</pre></div></div></div><div class=\"sk-item sk-dashed-wrapped\"><div class=\"sk-label-container\"><div class=\"sk-label sk-toggleable\"><input class=\"sk-toggleable__control sk-hidden--visually\" id=\"126be681-d49e-4cff-a1b0-34869a256c86\" type=\"checkbox\" ><label for=\"126be681-d49e-4cff-a1b0-34869a256c86\" class=\"sk-toggleable__label sk-toggleable__label-arrow\">transform: ColumnTransformer</label><div class=\"sk-toggleable__content\"><pre>ColumnTransformer(transformers=[(&#x27;fin_scaller&#x27;, StandardScaler(),\n",
       "                                 [&#x27;Open&#x27;, &#x27;Close&#x27;, &#x27;Volume&#x27;, &#x27;Close_bb20_2&#x27;,\n",
       "                                  &#x27;Close_bb20_-2&#x27;, &#x27;Close_ma7&#x27;,\n",
       "                                  &#x27;Close_percentage_change&#x27;]),\n",
       "                                (&#x27;onehotencode_time_features&#x27;,\n",
       "                                 OneHotEncoder(drop=&#x27;if_binary&#x27;,\n",
       "                                               handle_unknown=&#x27;ignore&#x27;,\n",
       "                                               sparse=False),\n",
       "                                 [&#x27;dow&#x27;, &#x27;month&#x27;])])</pre></div></div></div><div class=\"sk-parallel\"><div class=\"sk-parallel-item\"><div class=\"sk-item\"><div class=\"sk-label-container\"><div class=\"sk-label sk-toggleable\"><input class=\"sk-toggleable__control sk-hidden--visually\" id=\"8ee363ab-9dcd-4d2e-9e51-1469ce062a20\" type=\"checkbox\" ><label for=\"8ee363ab-9dcd-4d2e-9e51-1469ce062a20\" class=\"sk-toggleable__label sk-toggleable__label-arrow\">fin_scaller</label><div class=\"sk-toggleable__content\"><pre>[&#x27;Open&#x27;, &#x27;Close&#x27;, &#x27;Volume&#x27;, &#x27;Close_bb20_2&#x27;, &#x27;Close_bb20_-2&#x27;, &#x27;Close_ma7&#x27;, &#x27;Close_percentage_change&#x27;]</pre></div></div></div><div class=\"sk-serial\"><div class=\"sk-item\"><div class=\"sk-estimator sk-toggleable\"><input class=\"sk-toggleable__control sk-hidden--visually\" id=\"06c66506-8d85-469f-9e7c-dbce531ad1ab\" type=\"checkbox\" ><label for=\"06c66506-8d85-469f-9e7c-dbce531ad1ab\" class=\"sk-toggleable__label sk-toggleable__label-arrow\">StandardScaler</label><div class=\"sk-toggleable__content\"><pre>StandardScaler()</pre></div></div></div></div></div></div><div class=\"sk-parallel-item\"><div class=\"sk-item\"><div class=\"sk-label-container\"><div class=\"sk-label sk-toggleable\"><input class=\"sk-toggleable__control sk-hidden--visually\" id=\"5dae40a2-8c23-4f68-9c17-65b34da417e2\" type=\"checkbox\" ><label for=\"5dae40a2-8c23-4f68-9c17-65b34da417e2\" class=\"sk-toggleable__label sk-toggleable__label-arrow\">onehotencode_time_features</label><div class=\"sk-toggleable__content\"><pre>[&#x27;dow&#x27;, &#x27;month&#x27;]</pre></div></div></div><div class=\"sk-serial\"><div class=\"sk-item\"><div class=\"sk-estimator sk-toggleable\"><input class=\"sk-toggleable__control sk-hidden--visually\" id=\"2c424ffb-6b1d-4f57-8d2d-40f186e5f8f7\" type=\"checkbox\" ><label for=\"2c424ffb-6b1d-4f57-8d2d-40f186e5f8f7\" class=\"sk-toggleable__label sk-toggleable__label-arrow\">OneHotEncoder</label><div class=\"sk-toggleable__content\"><pre>OneHotEncoder(drop=&#x27;if_binary&#x27;, handle_unknown=&#x27;ignore&#x27;, sparse=False)</pre></div></div></div></div></div></div></div></div></div></div></div></div>"
      ],
      "text/plain": [
       "Pipeline(steps=[('add_missing_days',\n",
       "                 FunctionTransformer(func=<function add_missing_days at 0x7f2b026128b0>)),\n",
       "                ('add_Close_bb20_2', BollingerBandsTransformer()),\n",
       "                ('add_Close_bb20_-2',\n",
       "                 BollingerBandsTransformer(standard_deviations=-2)),\n",
       "                ('add_Close_ma7', MovingAverageTransformer()),\n",
       "                ('add_Close_percentage_change', DailyReturnTransformer()),\n",
       "                ('add_time_features',...\n",
       "                 FunctionTransformer(func=<function drop_nan at 0x7f2b02612940>)),\n",
       "                ('transform',\n",
       "                 ColumnTransformer(transformers=[('fin_scaller',\n",
       "                                                  StandardScaler(),\n",
       "                                                  ['Open', 'Close', 'Volume',\n",
       "                                                   'Close_bb20_2',\n",
       "                                                   'Close_bb20_-2', 'Close_ma7',\n",
       "                                                   'Close_percentage_change']),\n",
       "                                                 ('onehotencode_time_features',\n",
       "                                                  OneHotEncoder(drop='if_binary',\n",
       "                                                                handle_unknown='ignore',\n",
       "                                                                sparse=False),\n",
       "                                                  ['dow', 'month'])]))])"
      ]
     },
     "execution_count": 8,
     "metadata": {},
     "output_type": "execute_result"
    }
   ],
   "source": [
    "# Parallelize \"fin scaler\" and \"One hot encoder\"\n",
    "transform = ColumnTransformer([('fin_scaller', StandardScaler(), ['Open', 'Close', 'Volume', 'Close_bb20_2', 'Close_bb20_-2', 'Close_ma7', 'Close_percentage_change']),\n",
    "                               ('onehotencode_time_features', OneHotEncoder(drop='if_binary', sparse=False, handle_unknown='ignore'), ['dow', 'month'])],\n",
    "                               remainder='drop')\n",
    "\n",
    "# preprocessor\n",
    "preprocessor = Pipeline([('add_missing_days', FunctionTransformer(add_missing_days)),\n",
    "                         ('add_Close_bb20_2', BollingerBandsTransformer()),\n",
    "                         ('add_Close_bb20_-2', BollingerBandsTransformer(standard_deviations=-2)),\n",
    "                         ('add_Close_ma7', MovingAverageTransformer()),\n",
    "                         ('add_Close_percentage_change', DailyReturnTransformer()),\n",
    "                         ('add_time_features', TimeFeaturesEncoder()),\n",
    "                         ('drop_nan', FunctionTransformer(drop_nan)),\n",
    "                         ('transform', transform)])\n",
    "preprocessor"
   ]
  },
  {
   "cell_type": "code",
   "execution_count": 9,
   "id": "9c585366-1f73-42c4-a5e3-3884496abb28",
   "metadata": {},
   "outputs": [],
   "source": [
    "preprocessor.fit(df_train)\n",
    "df_train_preprocessed = preprocessor.transform(df_train)\n",
    "df_test_preprocessed = preprocessor.transform(df_test)"
   ]
  },
  {
   "cell_type": "code",
   "execution_count": 10,
   "id": "6d227f91-d42d-4f4b-bb40-1a1f2f1ef04d",
   "metadata": {},
   "outputs": [
    {
     "data": {
      "text/plain": [
       "['preprocessor_RIOT.joblib']"
      ]
     },
     "execution_count": 10,
     "metadata": {},
     "output_type": "execute_result"
    }
   ],
   "source": [
    "joblib.dump(preprocessor, f'preprocessor_{ticker}.joblib')"
   ]
  },
  {
   "cell_type": "code",
   "execution_count": 11,
   "id": "b925e709-ebe0-463e-bf84-08b950355886",
   "metadata": {},
   "outputs": [
    {
     "name": "stdout",
     "output_type": "stream",
     "text": [
      "(1717, 26) (416, 26)\n"
     ]
    }
   ],
   "source": [
    "print(df_train_preprocessed.shape, df_test_preprocessed.shape)"
   ]
  },
  {
   "cell_type": "markdown",
   "id": "b5325462-b64d-4558-941f-61dcf1d07237",
   "metadata": {},
   "source": [
    "# Additional required data preprocessing for a RNN model with only 1 sequence (1 ticker)"
   ]
  },
  {
   "cell_type": "markdown",
   "id": "201da7a5-6ded-4612-a322-47694efd3dad",
   "metadata": {},
   "source": [
    "## Generate random train and test samples of random length of the ticker sequence  "
   ]
  },
  {
   "cell_type": "code",
   "execution_count": 12,
   "id": "5d9b25ac",
   "metadata": {},
   "outputs": [],
   "source": [
    "length_of_observations = np.random.randint(7, 15, 2000)\n",
    "X_train, y_train = get_X_y(df_train_preprocessed, 1, length_of_observations)\n",
    "length_of_observations = np.random.randint(7, 15, 500)\n",
    "X_test, y_test = get_X_y(df_test_preprocessed, 1, length_of_observations)"
   ]
  },
  {
   "cell_type": "markdown",
   "id": "eecf5030-57b5-4750-9b02-50f2dd35d478",
   "metadata": {},
   "source": [
    "## Pad the train and test samples to the same number of observations"
   ]
  },
  {
   "cell_type": "code",
   "execution_count": 13,
   "id": "ab3399d5",
   "metadata": {},
   "outputs": [],
   "source": [
    "X_train_pad = pad_sequences(X_train, dtype='float32', padding='post', value=-1000)\n",
    "X_test_pad = pad_sequences(X_test, dtype='float32', padding='post', value=-1000)"
   ]
  },
  {
   "cell_type": "code",
   "execution_count": 14,
   "id": "605326d3-2e7d-44c7-9c1a-c3a1111712d1",
   "metadata": {},
   "outputs": [
    {
     "data": {
      "text/plain": [
       "(2000, 14, 26)"
      ]
     },
     "execution_count": 14,
     "metadata": {},
     "output_type": "execute_result"
    }
   ],
   "source": [
    "X_train_pad.shape"
   ]
  },
  {
   "cell_type": "code",
   "execution_count": 15,
   "id": "71354d8a-ea5b-437e-8890-4f4ef7e9d094",
   "metadata": {},
   "outputs": [
    {
     "data": {
      "text/plain": [
       "(2000,)"
      ]
     },
     "execution_count": 15,
     "metadata": {},
     "output_type": "execute_result"
    }
   ],
   "source": [
    "y_train.shape"
   ]
  },
  {
   "cell_type": "markdown",
   "id": "449baf2f-5259-4cc2-a567-11a57ed7fcc9",
   "metadata": {},
   "source": [
    "# RNN model"
   ]
  },
  {
   "cell_type": "code",
   "execution_count": 16,
   "id": "40088637-9d4f-4428-bba5-58d2cbcca53f",
   "metadata": {},
   "outputs": [
    {
     "name": "stderr",
     "output_type": "stream",
     "text": [
      "2022-03-10 21:58:25.259879: W tensorflow/stream_executor/platform/default/dso_loader.cc:64] Could not load dynamic library 'libcuda.so.1'; dlerror: libcuda.so.1: cannot open shared object file: No such file or directory\n",
      "2022-03-10 21:58:25.259929: W tensorflow/stream_executor/cuda/cuda_driver.cc:269] failed call to cuInit: UNKNOWN ERROR (303)\n",
      "2022-03-10 21:58:25.259948: I tensorflow/stream_executor/cuda/cuda_diagnostics.cc:156] kernel driver does not appear to be running on this host (MacBookPro15): /proc/driver/nvidia/version does not exist\n",
      "2022-03-10 21:58:25.260209: I tensorflow/core/platform/cpu_feature_guard.cc:151] This TensorFlow binary is optimized with oneAPI Deep Neural Network Library (oneDNN) to use the following CPU instructions in performance-critical operations:  AVX2 FMA\n",
      "To enable them in other operations, rebuild TensorFlow with the appropriate compiler flags.\n"
     ]
    }
   ],
   "source": [
    "model = Sequential([\n",
    "                    Masking(mask_value=-1000, input_shape=X_train_pad[0].shape),\n",
    "                    GRU(units=20, activation='tanh', return_sequences= True),\n",
    "                    GRU(units=20, activation='tanh', return_sequences= False),\n",
    "                    Dense(units=50, activation='relu'),\n",
    "                    Dropout(0.2),\n",
    "                    Dense(1, activation='linear')\n",
    "                    ])\n",
    "model.compile(loss='mse', optimizer=RMSprop(learning_rate=0.001), metrics=[MAPE, MAE])"
   ]
  },
  {
   "cell_type": "code",
   "execution_count": 17,
   "id": "9cbea404-8aa4-43fb-a8f4-0f7d5686d480",
   "metadata": {},
   "outputs": [
    {
     "name": "stdout",
     "output_type": "stream",
     "text": [
      "Model: \"sequential\"\n",
      "_________________________________________________________________\n",
      " Layer (type)                Output Shape              Param #   \n",
      "=================================================================\n",
      " masking (Masking)           (None, 14, 26)            0         \n",
      "                                                                 \n",
      " gru (GRU)                   (None, 14, 20)            2880      \n",
      "                                                                 \n",
      " gru_1 (GRU)                 (None, 20)                2520      \n",
      "                                                                 \n",
      " dense (Dense)               (None, 50)                1050      \n",
      "                                                                 \n",
      " dropout (Dropout)           (None, 50)                0         \n",
      "                                                                 \n",
      " dense_1 (Dense)             (None, 1)                 51        \n",
      "                                                                 \n",
      "=================================================================\n",
      "Total params: 6,501\n",
      "Trainable params: 6,501\n",
      "Non-trainable params: 0\n",
      "_________________________________________________________________\n"
     ]
    }
   ],
   "source": [
    "model.summary()"
   ]
  },
  {
   "cell_type": "code",
   "execution_count": 18,
   "id": "24b02742-11a0-469e-9825-70707481d01e",
   "metadata": {},
   "outputs": [],
   "source": [
    "es = EarlyStopping(patience=10, restore_best_weights=True)\n",
    "history = model.fit(X_train_pad, y_train, batch_size = 64, epochs=1500, verbose=0, validation_split=0.2, callbacks=[es])"
   ]
  },
  {
   "cell_type": "code",
   "execution_count": 19,
   "id": "115a5665-4795-4c6a-88ac-5079e1dbb3ef",
   "metadata": {},
   "outputs": [
    {
     "name": "stderr",
     "output_type": "stream",
     "text": [
      "2022-03-10 21:59:10.703330: W tensorflow/python/util/util.cc:368] Sets are not currently considered sequences, but this may change in the future, so consider avoiding using them.\n",
      "WARNING:absl:Found untraced functions such as gru_cell_layer_call_fn, gru_cell_layer_call_and_return_conditional_losses, gru_cell_1_layer_call_fn, gru_cell_1_layer_call_and_return_conditional_losses while saving (showing 4 of 4). These functions will not be directly callable after loading.\n"
     ]
    },
    {
     "name": "stdout",
     "output_type": "stream",
     "text": [
      "INFO:tensorflow:Assets written to: RIOT/assets\n"
     ]
    },
    {
     "name": "stderr",
     "output_type": "stream",
     "text": [
      "INFO:tensorflow:Assets written to: RIOT/assets\n",
      "WARNING:absl:<keras.layers.recurrent.GRUCell object at 0x7f2aa2139700> has the same name 'GRUCell' as a built-in Keras object. Consider renaming <class 'keras.layers.recurrent.GRUCell'> to avoid naming conflicts when loading with `tf.keras.models.load_model`. If renaming is not possible, pass the object in the `custom_objects` parameter of the load function.\n",
      "WARNING:absl:<keras.layers.recurrent.GRUCell object at 0x7f2aa20d8040> has the same name 'GRUCell' as a built-in Keras object. Consider renaming <class 'keras.layers.recurrent.GRUCell'> to avoid naming conflicts when loading with `tf.keras.models.load_model`. If renaming is not possible, pass the object in the `custom_objects` parameter of the load function.\n"
     ]
    }
   ],
   "source": [
    "save_model(model, ticker)"
   ]
  },
  {
   "cell_type": "markdown",
   "id": "595d22a0-147e-4d07-996f-6bea6cb51d55",
   "metadata": {},
   "source": [
    "## Model definition and compilation"
   ]
  },
  {
   "cell_type": "code",
   "execution_count": null,
   "id": "d7ce127d-7058-4f44-8adb-087f56df2f29",
   "metadata": {},
   "outputs": [],
   "source": [
    "def model_builder(hp):\n",
    "    # Tune the number of units in the rnn layers\n",
    "    # Choose an optimal value between 5-40\n",
    "    hp_RNN_units = hp.Int('RNN_units', min_value=5, max_value=40, step=5)\n",
    "    # Tune the number of units in the first dense layer\n",
    "    # Choose an optimal value between 5-70\n",
    "    hp_dense1_units = hp.Int('dense1_units', min_value=5, max_value=70, step=5)\n",
    "    model = Sequential([\n",
    "                        Masking(mask_value=-1000, input_shape=X_train_pad[0].shape),\n",
    "                        GRU(units=hp_RNN_units, activation='tanh', return_sequences= True),\n",
    "                        GRU(units=hp_RNN_units, activation='tanh', return_sequences= False),\n",
    "                        Dense(units=hp_dense1_units, activation='relu'),\n",
    "                        Dropout(0.2),\n",
    "                        Dense(1, activation='linear')\n",
    "                        ])\n",
    "    # Tune the learning rate for the optimizer\n",
    "    # Choose an optimal value from 0.01, 0.005, 0.001, 0.0005 or 0.0001\n",
    "    hp_learning_rate = hp.Choice('learning_rate', values=[1e-2, 0.005, 1e-3, 0.0005, 1e-4])\n",
    "    model.compile(loss='mse', optimizer=RMSprop(learning_rate=hp_learning_rate), metrics=[MAPE, MAE])\n",
    "    return model"
   ]
  },
  {
   "cell_type": "markdown",
   "id": "fcab34cc-8bf0-44f7-9f92-11961012816e",
   "metadata": {},
   "source": [
    "## Instantiate the tuner and perform hypertuning"
   ]
  },
  {
   "cell_type": "code",
   "execution_count": null,
   "id": "636156a9-9f24-4650-9099-24b75b03d080",
   "metadata": {},
   "outputs": [],
   "source": [
    "tuner = kt.Hyperband(model_builder,\n",
    "                     objective='val_loss',\n",
    "                     max_epochs=1500,\n",
    "                     factor=3,\n",
    "                     directory='blue_dir',\n",
    "                     project_name='springstone')"
   ]
  },
  {
   "cell_type": "code",
   "execution_count": null,
   "id": "e5c0d517-3e61-4d78-a375-eb8f97f9237c",
   "metadata": {},
   "outputs": [],
   "source": [
    "es = EarlyStopping(patience=10, restore_best_weights=True)\n",
    "tuner.search(X_train_pad, y_train, batch_size = 64, epochs=1000, validation_split=0.2, callbacks=[es], verbose=0)\n",
    "\n",
    "# Get the optimal hyperparameters\n",
    "best_hps=tuner.get_best_hyperparameters(num_trials=1)[0]\n",
    "\n",
    "print(f\"\"\"\n",
    "The hyperparameter search is complete. The optimal number of units in the rnn\n",
    "layers is {best_hps.get('RNN_units')}, in the dense1 layer is {best_hps.get('dense1_units')}\n",
    "and the optimal learning rate for the optimizer is {best_hps.get('learning_rate')}.\n",
    "\"\"\")\n"
   ]
  },
  {
   "cell_type": "markdown",
   "id": "947d9046-9045-4ab2-87d2-e39e6fe29b50",
   "metadata": {},
   "source": [
    "## Model training"
   ]
  },
  {
   "cell_type": "code",
   "execution_count": null,
   "id": "c7a50d02-3331-400c-857c-420a0879f71b",
   "metadata": {},
   "outputs": [],
   "source": [
    "model = tuner.hypermodel.build(best_hps)\n",
    "history = model.fit(X_train_pad, y_train, batch_size = 64, epochs=1500, verbose=0, validation_split=0.2, callbacks=[es])"
   ]
  },
  {
   "cell_type": "markdown",
   "id": "a8e498fc-1342-485e-9a09-958522fad392",
   "metadata": {},
   "source": [
    "## Model evaluation"
   ]
  },
  {
   "cell_type": "code",
   "execution_count": null,
   "id": "63926d12-64c6-4c2e-a2d0-91ba4f825dcc",
   "metadata": {},
   "outputs": [],
   "source": [
    "def plot_history(history, title=None):\n",
    "    fig, ax = plt.subplots(1,3, figsize=(20,7))\n",
    "    \n",
    "    # --- LOSS --- \n",
    "    \n",
    "    ax[0].plot(history.history['loss'])\n",
    "    ax[0].plot(history.history['val_loss'])\n",
    "    ax[0].set_title('Model loss')\n",
    "    ax[0].set_ylabel('Loss')\n",
    "    ax[0].set_xlabel('Epoch')\n",
    "    ax[0].set_ylim((0,0.2))\n",
    "    ax[0].legend(['Train', 'Test'], loc='best')\n",
    "    ax[0].grid(axis=\"x\",linewidth=0.5)\n",
    "    ax[0].grid(axis=\"y\",linewidth=0.5)\n",
    "    \n",
    "    # --- MAE\n",
    "    \n",
    "    ax[1].plot(history.history['mean_absolute_error'])\n",
    "    ax[1].plot(history.history['val_mean_absolute_error'])\n",
    "    ax[1].set_title('Model MAE')\n",
    "    ax[1].set_ylabel('MAE')\n",
    "    ax[1].set_xlabel('Epoch')\n",
    "    ax[1].legend(['Train', 'Test'], loc='best')\n",
    "    ax[1].set_ylim((0,0.3))\n",
    "    ax[1].grid(axis=\"x\",linewidth=0.5)\n",
    "    ax[1].grid(axis=\"y\",linewidth=0.5)\n",
    "    \n",
    "    # --- MAPE\n",
    "    \n",
    "    ax[2].plot(history.history['mean_absolute_percentage_error'])\n",
    "    ax[2].plot(history.history['val_mean_absolute_percentage_error'])\n",
    "    ax[2].set_title('Model MAPE')\n",
    "    ax[2].set_ylabel('MAPE')\n",
    "    ax[2].set_xlabel('Epoch')\n",
    "    ax[2].legend(['Train', 'Test'], loc='best')\n",
    "    ax[2].set_ylim((0,100))\n",
    "    ax[2].grid(axis=\"x\",linewidth=0.5)\n",
    "    ax[2].grid(axis=\"y\",linewidth=0.5)    \n",
    "\n",
    "    if title:\n",
    "        fig.suptitle(title)"
   ]
  },
  {
   "cell_type": "code",
   "execution_count": null,
   "id": "aae30f47-e3a7-4c6b-8f33-c9ef1a3d5fee",
   "metadata": {},
   "outputs": [],
   "source": [
    "plot_history(history)"
   ]
  },
  {
   "cell_type": "code",
   "execution_count": null,
   "id": "7ca7e919-320f-4a1f-a422-9a9547990bc6",
   "metadata": {},
   "outputs": [],
   "source": [
    "model.evaluate(X_test_pad, y_test)"
   ]
  },
  {
   "cell_type": "code",
   "execution_count": null,
   "id": "53dd163c-6fc2-4c40-a566-f727693a8540",
   "metadata": {},
   "outputs": [],
   "source": []
  }
 ],
 "metadata": {
  "kernelspec": {
   "display_name": "Python 3 (ipykernel)",
   "language": "python",
   "name": "python3"
  },
  "language_info": {
   "codemirror_mode": {
    "name": "ipython",
    "version": 3
   },
   "file_extension": ".py",
   "mimetype": "text/x-python",
   "name": "python",
   "nbconvert_exporter": "python",
   "pygments_lexer": "ipython3",
   "version": "3.8.12"
  },
  "toc": {
   "base_numbering": 1,
   "nav_menu": {},
   "number_sections": true,
   "sideBar": true,
   "skip_h1_title": false,
   "title_cell": "Table of Contents",
   "title_sidebar": "Contents",
   "toc_cell": false,
   "toc_position": {},
   "toc_section_display": true,
   "toc_window_display": true
  },
  "toc-autonumbering": true,
  "toc-showmarkdowntxt": false
 },
 "nbformat": 4,
 "nbformat_minor": 5
}
