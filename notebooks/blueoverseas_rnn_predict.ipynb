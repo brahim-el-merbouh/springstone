{
 "cells": [
  {
   "cell_type": "code",
   "execution_count": 1,
   "id": "5ae2be8a-e2dd-45aa-b863-db1443241325",
   "metadata": {},
   "outputs": [],
   "source": [
    "%load_ext autoreload\n",
    "%autoreload 2\n",
    "import warnings\n",
    "warnings.filterwarnings(\"ignore\")"
   ]
  },
  {
   "cell_type": "code",
   "execution_count": 2,
   "id": "b8ac6b45-3839-4419-8e78-1c43616239b5",
   "metadata": {},
   "outputs": [
    {
     "name": "stderr",
     "output_type": "stream",
     "text": [
      "2022-03-10 22:03:07.568896: W tensorflow/stream_executor/platform/default/dso_loader.cc:64] Could not load dynamic library 'libcudart.so.11.0'; dlerror: libcudart.so.11.0: cannot open shared object file: No such file or directory\n",
      "2022-03-10 22:03:07.568953: I tensorflow/stream_executor/cuda/cudart_stub.cc:29] Ignore above cudart dlerror if you do not have a GPU set up on your machine.\n"
     ]
    }
   ],
   "source": [
    "import joblib\n",
    "from tensorflow.keras.models import load_model\n",
    "from springstone.data import get_data\n",
    "import numpy as np"
   ]
  },
  {
   "cell_type": "code",
   "execution_count": 3,
   "id": "ce6712cd-7b4c-4bff-ba56-368b84a9f95c",
   "metadata": {},
   "outputs": [],
   "source": [
    "ticker = 'SPY'"
   ]
  },
  {
   "cell_type": "code",
   "execution_count": 4,
   "id": "95d59f98-ac82-4059-83e2-848d7214b270",
   "metadata": {},
   "outputs": [],
   "source": [
    "preprocessor = joblib.load(f'preprocessor_{ticker}.joblib')"
   ]
  },
  {
   "cell_type": "code",
   "execution_count": 5,
   "id": "4f47d590-d725-4056-b1a0-40a2c325b851",
   "metadata": {},
   "outputs": [
    {
     "name": "stdout",
     "output_type": "stream",
     "text": [
      "[*********************100%***********************]  1 of 1 completed\n"
     ]
    },
    {
     "data": {
      "text/plain": [
       "(41, 5)"
      ]
     },
     "execution_count": 5,
     "metadata": {},
     "output_type": "execute_result"
    }
   ],
   "source": [
    "hist = get_data('SPY', start='2022-01-11', end='2022-03-11')\n",
    "hist.shape"
   ]
  },
  {
   "cell_type": "code",
   "execution_count": 6,
   "id": "eea6cfd5-7eb9-4c48-9efa-e5ded1cd67a4",
   "metadata": {},
   "outputs": [],
   "source": [
    "hist_preprocessed = preprocessor.transform(hist)"
   ]
  },
  {
   "cell_type": "code",
   "execution_count": 7,
   "id": "603c9f5b-ae69-4343-9c0a-00bb5b738fb0",
   "metadata": {},
   "outputs": [
    {
     "data": {
      "text/plain": [
       "(40, 26)"
      ]
     },
     "execution_count": 7,
     "metadata": {},
     "output_type": "execute_result"
    }
   ],
   "source": [
    "hist_preprocessed.shape"
   ]
  },
  {
   "cell_type": "code",
   "execution_count": 8,
   "id": "34ea0bf0-3ba2-443f-8f13-321c7e5ebca5",
   "metadata": {},
   "outputs": [],
   "source": [
    "hist_preprocessed = hist_preprocessed[-14:,:]"
   ]
  },
  {
   "cell_type": "code",
   "execution_count": 9,
   "id": "5a62f979-5da7-406f-a705-fbda81631b97",
   "metadata": {},
   "outputs": [
    {
     "name": "stderr",
     "output_type": "stream",
     "text": [
      "2022-03-10 22:04:15.126976: W tensorflow/stream_executor/platform/default/dso_loader.cc:64] Could not load dynamic library 'libcuda.so.1'; dlerror: libcuda.so.1: cannot open shared object file: No such file or directory\n",
      "2022-03-10 22:04:15.127021: W tensorflow/stream_executor/cuda/cuda_driver.cc:269] failed call to cuInit: UNKNOWN ERROR (303)\n",
      "2022-03-10 22:04:15.127040: I tensorflow/stream_executor/cuda/cuda_diagnostics.cc:156] kernel driver does not appear to be running on this host (MacBookPro15): /proc/driver/nvidia/version does not exist\n",
      "2022-03-10 22:04:15.127230: I tensorflow/core/platform/cpu_feature_guard.cc:151] This TensorFlow binary is optimized with oneAPI Deep Neural Network Library (oneDNN) to use the following CPU instructions in performance-critical operations:  AVX2 FMA\n",
      "To enable them in other operations, rebuild TensorFlow with the appropriate compiler flags.\n",
      "2022-03-10 22:04:16.699625: W tensorflow/core/common_runtime/graph_constructor.cc:803] Node 'cond/while' has 13 outputs but the _output_shapes attribute specifies shapes for 46 outputs. Output shapes may be inaccurate.\n",
      "2022-03-10 22:04:16.716874: W tensorflow/core/common_runtime/graph_constructor.cc:803] Node 'cond' has 4 outputs but the _output_shapes attribute specifies shapes for 46 outputs. Output shapes may be inaccurate.\n",
      "2022-03-10 22:04:17.410439: W tensorflow/core/common_runtime/graph_constructor.cc:803] Node 'cond/while' has 13 outputs but the _output_shapes attribute specifies shapes for 46 outputs. Output shapes may be inaccurate.\n",
      "2022-03-10 22:04:17.428779: W tensorflow/core/common_runtime/graph_constructor.cc:803] Node 'cond' has 4 outputs but the _output_shapes attribute specifies shapes for 46 outputs. Output shapes may be inaccurate.\n",
      "2022-03-10 22:04:17.522817: W tensorflow/core/common_runtime/graph_constructor.cc:803] Node 'cond/while' has 13 outputs but the _output_shapes attribute specifies shapes for 46 outputs. Output shapes may be inaccurate.\n",
      "2022-03-10 22:04:17.607852: W tensorflow/core/common_runtime/graph_constructor.cc:803] Node 'cond/while' has 13 outputs but the _output_shapes attribute specifies shapes for 46 outputs. Output shapes may be inaccurate.\n",
      "2022-03-10 22:04:18.417750: W tensorflow/core/common_runtime/graph_constructor.cc:803] Node 'cond' has 4 outputs but the _output_shapes attribute specifies shapes for 46 outputs. Output shapes may be inaccurate.\n",
      "2022-03-10 22:04:19.090903: W tensorflow/core/common_runtime/graph_constructor.cc:803] Node 'cond/while' has 13 outputs but the _output_shapes attribute specifies shapes for 46 outputs. Output shapes may be inaccurate.\n",
      "2022-03-10 22:04:19.108000: W tensorflow/core/common_runtime/graph_constructor.cc:803] Node 'cond' has 4 outputs but the _output_shapes attribute specifies shapes for 46 outputs. Output shapes may be inaccurate.\n",
      "2022-03-10 22:04:19.228781: W tensorflow/core/common_runtime/graph_constructor.cc:803] Node 'cond' has 4 outputs but the _output_shapes attribute specifies shapes for 46 outputs. Output shapes may be inaccurate.\n",
      "2022-03-10 22:04:19.247272: W tensorflow/core/common_runtime/graph_constructor.cc:803] Node 'cond/while' has 13 outputs but the _output_shapes attribute specifies shapes for 46 outputs. Output shapes may be inaccurate.\n",
      "2022-03-10 22:04:19.264742: W tensorflow/core/common_runtime/graph_constructor.cc:803] Node 'cond' has 4 outputs but the _output_shapes attribute specifies shapes for 46 outputs. Output shapes may be inaccurate.\n"
     ]
    }
   ],
   "source": [
    "model = load_model(ticker)"
   ]
  },
  {
   "cell_type": "code",
   "execution_count": 10,
   "id": "dbe58ff1-d16a-4071-9013-fad758be6bd4",
   "metadata": {},
   "outputs": [],
   "source": [
    "hist_preprocessed = np.expand_dims(hist_preprocessed, axis=0)"
   ]
  },
  {
   "cell_type": "code",
   "execution_count": 11,
   "id": "bb91e153-7218-418b-97fb-8567c358260c",
   "metadata": {},
   "outputs": [
    {
     "data": {
      "text/plain": [
       "(1, 14, 26)"
      ]
     },
     "execution_count": 11,
     "metadata": {},
     "output_type": "execute_result"
    }
   ],
   "source": [
    "hist_preprocessed.shape"
   ]
  },
  {
   "cell_type": "code",
   "execution_count": 29,
   "id": "2359c25c-796e-468d-9b7d-1512cc37d6a7",
   "metadata": {},
   "outputs": [
    {
     "data": {
      "text/plain": [
       "array([[2.52495]], dtype=float32)"
      ]
     },
     "execution_count": 29,
     "metadata": {},
     "output_type": "execute_result"
    }
   ],
   "source": [
    "scaled_close_prediction = model.predict(hist_preprocessed)\n",
    "scaled_close_prediction"
   ]
  },
  {
   "cell_type": "code",
   "execution_count": 30,
   "id": "608d738b-36a6-4807-9fdb-e9fe40e437b2",
   "metadata": {},
   "outputs": [
    {
     "data": {
      "text/plain": [
       "array([[0.        , 2.52495003, 0.        , 0.        , 0.        ,\n",
       "        0.        , 0.        ]])"
      ]
     },
     "execution_count": 30,
     "metadata": {},
     "output_type": "execute_result"
    }
   ],
   "source": [
    "fin_scaller_output = np.zeros((1,7))\n",
    "fin_scaller_output[0,1] = scaled_close_prediction\n",
    "fin_scaller_output"
   ]
  },
  {
   "cell_type": "code",
   "execution_count": 31,
   "id": "b94dbdd3-4495-4767-a2a2-e892eec53318",
   "metadata": {},
   "outputs": [
    {
     "data": {
      "text/plain": [
       "348.3908930826029"
      ]
     },
     "execution_count": 31,
     "metadata": {},
     "output_type": "execute_result"
    }
   ],
   "source": [
    "unscaled_close_prediction = preprocessor.named_steps['transform'].named_transformers_['fin_scaller'].inverse_transform(fin_scaller_output)[0,1]\n",
    "unscaled_close_prediction"
   ]
  },
  {
   "cell_type": "code",
   "execution_count": 33,
   "id": "e95c3414-7ba8-410d-a29c-3714474d08d8",
   "metadata": {},
   "outputs": [
    {
     "name": "stdout",
     "output_type": "stream",
     "text": [
      "[*********************100%***********************]  1 of 1 completed\n"
     ]
    },
    {
     "data": {
      "text/html": [
       "<div>\n",
       "<style scoped>\n",
       "    .dataframe tbody tr th:only-of-type {\n",
       "        vertical-align: middle;\n",
       "    }\n",
       "\n",
       "    .dataframe tbody tr th {\n",
       "        vertical-align: top;\n",
       "    }\n",
       "\n",
       "    .dataframe thead th {\n",
       "        text-align: right;\n",
       "    }\n",
       "</style>\n",
       "<table border=\"1\" class=\"dataframe\">\n",
       "  <thead>\n",
       "    <tr style=\"text-align: right;\">\n",
       "      <th></th>\n",
       "      <th>Close</th>\n",
       "    </tr>\n",
       "    <tr>\n",
       "      <th>Date</th>\n",
       "      <th></th>\n",
       "    </tr>\n",
       "  </thead>\n",
       "  <tbody>\n",
       "    <tr>\n",
       "      <th>2022-03-01</th>\n",
       "      <td>429.980011</td>\n",
       "    </tr>\n",
       "    <tr>\n",
       "      <th>2022-03-02</th>\n",
       "      <td>437.890015</td>\n",
       "    </tr>\n",
       "    <tr>\n",
       "      <th>2022-03-03</th>\n",
       "      <td>435.709991</td>\n",
       "    </tr>\n",
       "    <tr>\n",
       "      <th>2022-03-04</th>\n",
       "      <td>432.170013</td>\n",
       "    </tr>\n",
       "    <tr>\n",
       "      <th>2022-03-07</th>\n",
       "      <td>419.429993</td>\n",
       "    </tr>\n",
       "    <tr>\n",
       "      <th>2022-03-08</th>\n",
       "      <td>416.250000</td>\n",
       "    </tr>\n",
       "    <tr>\n",
       "      <th>2022-03-09</th>\n",
       "      <td>427.410004</td>\n",
       "    </tr>\n",
       "    <tr>\n",
       "      <th>2022-03-10</th>\n",
       "      <td>425.480011</td>\n",
       "    </tr>\n",
       "  </tbody>\n",
       "</table>\n",
       "</div>"
      ],
      "text/plain": [
       "                 Close\n",
       "Date                  \n",
       "2022-03-01  429.980011\n",
       "2022-03-02  437.890015\n",
       "2022-03-03  435.709991\n",
       "2022-03-04  432.170013\n",
       "2022-03-07  419.429993\n",
       "2022-03-08  416.250000\n",
       "2022-03-09  427.410004\n",
       "2022-03-10  425.480011"
      ]
     },
     "execution_count": 33,
     "metadata": {},
     "output_type": "execute_result"
    }
   ],
   "source": [
    "get_data(ticker, start='2022-03-01', end='2022-03-11')[['Close']]"
   ]
  },
  {
   "cell_type": "code",
   "execution_count": null,
   "id": "4c0ea8aa-4290-4e43-a707-468feb04db48",
   "metadata": {},
   "outputs": [],
   "source": []
  }
 ],
 "metadata": {
  "kernelspec": {
   "display_name": "Python 3 (ipykernel)",
   "language": "python",
   "name": "python3"
  },
  "language_info": {
   "codemirror_mode": {
    "name": "ipython",
    "version": 3
   },
   "file_extension": ".py",
   "mimetype": "text/x-python",
   "name": "python",
   "nbconvert_exporter": "python",
   "pygments_lexer": "ipython3",
   "version": "3.8.12"
  }
 },
 "nbformat": 4,
 "nbformat_minor": 5
}
