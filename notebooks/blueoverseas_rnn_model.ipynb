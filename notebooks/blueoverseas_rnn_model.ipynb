{
 "cells": [
  {
   "cell_type": "code",
   "execution_count": 1,
   "id": "0df1d11b",
   "metadata": {},
   "outputs": [],
   "source": [
    "%load_ext autoreload\n",
    "%autoreload 2\n",
    "import warnings\n",
    "warnings.filterwarnings(\"ignore\")"
   ]
  },
  {
   "cell_type": "code",
   "execution_count": 2,
   "id": "3532c2a2",
   "metadata": {},
   "outputs": [],
   "source": [
    "from springstone.data import get_data, get_missing_dates, create_train_test\n",
    "from springstone.utils import bollinger_bands, moving_average, daily_return\n",
    "from springstone.params import MODEL_TYPE\n",
    "import pandas as pd\n",
    "import numpy as np\n",
    "import matplotlib.pyplot as plt"
   ]
  },
  {
   "cell_type": "code",
   "execution_count": 3,
   "id": "687f6e1e",
   "metadata": {},
   "outputs": [
    {
     "name": "stderr",
     "output_type": "stream",
     "text": [
      "2022-03-08 15:15:51.613634: W tensorflow/stream_executor/platform/default/dso_loader.cc:64] Could not load dynamic library 'libcudart.so.11.0'; dlerror: libcudart.so.11.0: cannot open shared object file: No such file or directory\n",
      "2022-03-08 15:15:51.613689: I tensorflow/stream_executor/cuda/cudart_stub.cc:29] Ignore above cudart dlerror if you do not have a GPU set up on your machine.\n"
     ]
    }
   ],
   "source": [
    "from tensorflow.keras.models import Sequential\n",
    "from tensorflow.keras.layers import Dense, GRU, Dropout, Normalization, Masking\n",
    "from tensorflow.keras.layers.experimental.preprocessing import Normalization\n",
    "from tensorflow.keras.preprocessing.sequence import pad_sequences\n",
    "from tensorflow.keras.optimizers import RMSprop\n",
    "from tensorflow.keras.metrics import MAPE, MAE\n",
    "from tensorflow.keras.callbacks import EarlyStopping\n",
    "from sklearn.preprocessing import MinMaxScaler, StandardScaler\n",
    "import keras_tuner as kt"
   ]
  },
  {
   "cell_type": "markdown",
   "id": "6ef93ced-0b25-4ede-98f8-080f540b9772",
   "metadata": {
    "tags": []
   },
   "source": [
    "# Get the original data set for the AAPL ticker and keep the columns we need"
   ]
  },
  {
   "cell_type": "code",
   "execution_count": 4,
   "id": "e8af04d1",
   "metadata": {},
   "outputs": [
    {
     "name": "stdout",
     "output_type": "stream",
     "text": [
      "[*********************100%***********************]  1 of 1 completed\n"
     ]
    }
   ],
   "source": [
    "hist_aapl = get_data('AAPL', end='2022-03-05').drop(columns=['High', 'Low'])"
   ]
  },
  {
   "cell_type": "code",
   "execution_count": 5,
   "id": "eea3a4cd",
   "metadata": {},
   "outputs": [
    {
     "data": {
      "text/plain": [
       "(2527, 3)"
      ]
     },
     "execution_count": 5,
     "metadata": {},
     "output_type": "execute_result"
    }
   ],
   "source": [
    "hist_aapl.shape"
   ]
  },
  {
   "cell_type": "markdown",
   "id": "bb8df4ea-77d7-4127-b8f0-2de2fb693d91",
   "metadata": {},
   "source": [
    "# Get the missing dates from the original data set and include them with forward filling"
   ]
  },
  {
   "cell_type": "code",
   "execution_count": 6,
   "id": "ebded491",
   "metadata": {},
   "outputs": [],
   "source": [
    "missing_dates_aapl = get_missing_dates(hist_aapl, True)"
   ]
  },
  {
   "cell_type": "code",
   "execution_count": 7,
   "id": "ead7f81a",
   "metadata": {},
   "outputs": [],
   "source": [
    "an_array = np.full((missing_dates_aapl.shape[0], hist_aapl.shape[1]), np.nan)\n",
    "data = pd.concat([hist_aapl, pd.DataFrame(an_array, index=missing_dates_aapl, columns=hist_aapl.columns)])\n",
    "data = data.sort_index()\n",
    "data.rename_axis(index='Date', inplace=True)\n",
    "hist_aapl = data.fillna(method='ffill')"
   ]
  },
  {
   "cell_type": "code",
   "execution_count": 8,
   "id": "f9116257",
   "metadata": {},
   "outputs": [
    {
     "data": {
      "text/html": [
       "<div>\n",
       "<style scoped>\n",
       "    .dataframe tbody tr th:only-of-type {\n",
       "        vertical-align: middle;\n",
       "    }\n",
       "\n",
       "    .dataframe tbody tr th {\n",
       "        vertical-align: top;\n",
       "    }\n",
       "\n",
       "    .dataframe thead th {\n",
       "        text-align: right;\n",
       "    }\n",
       "</style>\n",
       "<table border=\"1\" class=\"dataframe\">\n",
       "  <thead>\n",
       "    <tr style=\"text-align: right;\">\n",
       "      <th></th>\n",
       "      <th>Open</th>\n",
       "      <th>Close</th>\n",
       "      <th>Volume</th>\n",
       "    </tr>\n",
       "    <tr>\n",
       "      <th>Date</th>\n",
       "      <th></th>\n",
       "      <th></th>\n",
       "      <th></th>\n",
       "    </tr>\n",
       "  </thead>\n",
       "  <tbody>\n",
       "    <tr>\n",
       "      <th>2012-02-21</th>\n",
       "      <td>18.102858</td>\n",
       "      <td>18.387501</td>\n",
       "      <td>605595200.0</td>\n",
       "    </tr>\n",
       "    <tr>\n",
       "      <th>2012-02-22</th>\n",
       "      <td>18.324286</td>\n",
       "      <td>18.322857</td>\n",
       "      <td>483302400.0</td>\n",
       "    </tr>\n",
       "    <tr>\n",
       "      <th>2012-02-23</th>\n",
       "      <td>18.395714</td>\n",
       "      <td>18.442499</td>\n",
       "      <td>568027600.0</td>\n",
       "    </tr>\n",
       "    <tr>\n",
       "      <th>2012-02-24</th>\n",
       "      <td>18.559643</td>\n",
       "      <td>18.657499</td>\n",
       "      <td>415072000.0</td>\n",
       "    </tr>\n",
       "    <tr>\n",
       "      <th>2012-02-25</th>\n",
       "      <td>18.559643</td>\n",
       "      <td>18.657499</td>\n",
       "      <td>415072000.0</td>\n",
       "    </tr>\n",
       "    <tr>\n",
       "      <th>...</th>\n",
       "      <td>...</td>\n",
       "      <td>...</td>\n",
       "      <td>...</td>\n",
       "    </tr>\n",
       "    <tr>\n",
       "      <th>2022-02-28</th>\n",
       "      <td>163.059998</td>\n",
       "      <td>165.119995</td>\n",
       "      <td>94869100.0</td>\n",
       "    </tr>\n",
       "    <tr>\n",
       "      <th>2022-03-01</th>\n",
       "      <td>164.699997</td>\n",
       "      <td>163.199997</td>\n",
       "      <td>83474400.0</td>\n",
       "    </tr>\n",
       "    <tr>\n",
       "      <th>2022-03-02</th>\n",
       "      <td>164.389999</td>\n",
       "      <td>166.559998</td>\n",
       "      <td>79724800.0</td>\n",
       "    </tr>\n",
       "    <tr>\n",
       "      <th>2022-03-03</th>\n",
       "      <td>168.470001</td>\n",
       "      <td>166.229996</td>\n",
       "      <td>76678400.0</td>\n",
       "    </tr>\n",
       "    <tr>\n",
       "      <th>2022-03-04</th>\n",
       "      <td>164.490005</td>\n",
       "      <td>163.169998</td>\n",
       "      <td>83737200.0</td>\n",
       "    </tr>\n",
       "  </tbody>\n",
       "</table>\n",
       "<p>3665 rows × 3 columns</p>\n",
       "</div>"
      ],
      "text/plain": [
       "                  Open       Close       Volume\n",
       "Date                                           \n",
       "2012-02-21   18.102858   18.387501  605595200.0\n",
       "2012-02-22   18.324286   18.322857  483302400.0\n",
       "2012-02-23   18.395714   18.442499  568027600.0\n",
       "2012-02-24   18.559643   18.657499  415072000.0\n",
       "2012-02-25   18.559643   18.657499  415072000.0\n",
       "...                ...         ...          ...\n",
       "2022-02-28  163.059998  165.119995   94869100.0\n",
       "2022-03-01  164.699997  163.199997   83474400.0\n",
       "2022-03-02  164.389999  166.559998   79724800.0\n",
       "2022-03-03  168.470001  166.229996   76678400.0\n",
       "2022-03-04  164.490005  163.169998   83737200.0\n",
       "\n",
       "[3665 rows x 3 columns]"
      ]
     },
     "execution_count": 8,
     "metadata": {},
     "output_type": "execute_result"
    }
   ],
   "source": [
    "hist_aapl"
   ]
  },
  {
   "cell_type": "markdown",
   "id": "7347d58d-fac5-4d4d-90ac-012dbc30ebba",
   "metadata": {},
   "source": [
    "# Add the the Bollinger Bands and the moving average features"
   ]
  },
  {
   "cell_type": "code",
   "execution_count": 9,
   "id": "73a6e410",
   "metadata": {},
   "outputs": [],
   "source": [
    "hist_aapl = bollinger_bands(hist_aapl, 'Close', 20, 2)\n",
    "hist_aapl = bollinger_bands(hist_aapl, 'Close', 20, -2)\n",
    "hist_aapl = moving_average(hist_aapl, 'Close', 7)\n",
    "hist_aapl = daily_return(hist_aapl, 'Close')"
   ]
  },
  {
   "cell_type": "code",
   "execution_count": 10,
   "id": "96d2e299",
   "metadata": {
    "scrolled": true
   },
   "outputs": [
    {
     "data": {
      "text/html": [
       "<div>\n",
       "<style scoped>\n",
       "    .dataframe tbody tr th:only-of-type {\n",
       "        vertical-align: middle;\n",
       "    }\n",
       "\n",
       "    .dataframe tbody tr th {\n",
       "        vertical-align: top;\n",
       "    }\n",
       "\n",
       "    .dataframe thead th {\n",
       "        text-align: right;\n",
       "    }\n",
       "</style>\n",
       "<table border=\"1\" class=\"dataframe\">\n",
       "  <thead>\n",
       "    <tr style=\"text-align: right;\">\n",
       "      <th></th>\n",
       "      <th>Open</th>\n",
       "      <th>Close</th>\n",
       "      <th>Volume</th>\n",
       "      <th>Close_bb20_2</th>\n",
       "      <th>Close_bb20_-2</th>\n",
       "      <th>Close_ma7</th>\n",
       "      <th>percentage_change</th>\n",
       "    </tr>\n",
       "    <tr>\n",
       "      <th>Date</th>\n",
       "      <th></th>\n",
       "      <th></th>\n",
       "      <th></th>\n",
       "      <th></th>\n",
       "      <th></th>\n",
       "      <th></th>\n",
       "      <th></th>\n",
       "    </tr>\n",
       "  </thead>\n",
       "  <tbody>\n",
       "    <tr>\n",
       "      <th>2012-02-21</th>\n",
       "      <td>18.102858</td>\n",
       "      <td>18.387501</td>\n",
       "      <td>605595200.0</td>\n",
       "      <td>NaN</td>\n",
       "      <td>NaN</td>\n",
       "      <td>NaN</td>\n",
       "      <td>NaN</td>\n",
       "    </tr>\n",
       "    <tr>\n",
       "      <th>2012-02-22</th>\n",
       "      <td>18.324286</td>\n",
       "      <td>18.322857</td>\n",
       "      <td>483302400.0</td>\n",
       "      <td>NaN</td>\n",
       "      <td>NaN</td>\n",
       "      <td>NaN</td>\n",
       "      <td>-0.003516</td>\n",
       "    </tr>\n",
       "    <tr>\n",
       "      <th>2012-02-23</th>\n",
       "      <td>18.395714</td>\n",
       "      <td>18.442499</td>\n",
       "      <td>568027600.0</td>\n",
       "      <td>NaN</td>\n",
       "      <td>NaN</td>\n",
       "      <td>NaN</td>\n",
       "      <td>0.006530</td>\n",
       "    </tr>\n",
       "    <tr>\n",
       "      <th>2012-02-24</th>\n",
       "      <td>18.559643</td>\n",
       "      <td>18.657499</td>\n",
       "      <td>415072000.0</td>\n",
       "      <td>NaN</td>\n",
       "      <td>NaN</td>\n",
       "      <td>NaN</td>\n",
       "      <td>0.011658</td>\n",
       "    </tr>\n",
       "    <tr>\n",
       "      <th>2012-02-25</th>\n",
       "      <td>18.559643</td>\n",
       "      <td>18.657499</td>\n",
       "      <td>415072000.0</td>\n",
       "      <td>NaN</td>\n",
       "      <td>NaN</td>\n",
       "      <td>NaN</td>\n",
       "      <td>0.000000</td>\n",
       "    </tr>\n",
       "    <tr>\n",
       "      <th>...</th>\n",
       "      <td>...</td>\n",
       "      <td>...</td>\n",
       "      <td>...</td>\n",
       "      <td>...</td>\n",
       "      <td>...</td>\n",
       "      <td>...</td>\n",
       "      <td>...</td>\n",
       "    </tr>\n",
       "    <tr>\n",
       "      <th>2022-02-28</th>\n",
       "      <td>163.059998</td>\n",
       "      <td>165.119995</td>\n",
       "      <td>94869100.0</td>\n",
       "      <td>175.264747</td>\n",
       "      <td>160.077257</td>\n",
       "      <td>163.828576</td>\n",
       "      <td>0.001638</td>\n",
       "    </tr>\n",
       "    <tr>\n",
       "      <th>2022-03-01</th>\n",
       "      <td>164.699997</td>\n",
       "      <td>163.199997</td>\n",
       "      <td>83474400.0</td>\n",
       "      <td>173.685535</td>\n",
       "      <td>160.348469</td>\n",
       "      <td>163.668575</td>\n",
       "      <td>-0.011628</td>\n",
       "    </tr>\n",
       "    <tr>\n",
       "      <th>2022-03-02</th>\n",
       "      <td>164.389999</td>\n",
       "      <td>166.559998</td>\n",
       "      <td>79724800.0</td>\n",
       "      <td>172.960391</td>\n",
       "      <td>160.517613</td>\n",
       "      <td>164.595716</td>\n",
       "      <td>0.020588</td>\n",
       "    </tr>\n",
       "    <tr>\n",
       "      <th>2022-03-03</th>\n",
       "      <td>168.470001</td>\n",
       "      <td>166.229996</td>\n",
       "      <td>76678400.0</td>\n",
       "      <td>172.777908</td>\n",
       "      <td>160.459096</td>\n",
       "      <td>165.094286</td>\n",
       "      <td>-0.001981</td>\n",
       "    </tr>\n",
       "    <tr>\n",
       "      <th>2022-03-04</th>\n",
       "      <td>164.490005</td>\n",
       "      <td>163.169998</td>\n",
       "      <td>83737200.0</td>\n",
       "      <td>172.611312</td>\n",
       "      <td>160.078692</td>\n",
       "      <td>164.854285</td>\n",
       "      <td>-0.018408</td>\n",
       "    </tr>\n",
       "  </tbody>\n",
       "</table>\n",
       "<p>3665 rows × 7 columns</p>\n",
       "</div>"
      ],
      "text/plain": [
       "                  Open       Close       Volume  Close_bb20_2  Close_bb20_-2  \\\n",
       "Date                                                                           \n",
       "2012-02-21   18.102858   18.387501  605595200.0           NaN            NaN   \n",
       "2012-02-22   18.324286   18.322857  483302400.0           NaN            NaN   \n",
       "2012-02-23   18.395714   18.442499  568027600.0           NaN            NaN   \n",
       "2012-02-24   18.559643   18.657499  415072000.0           NaN            NaN   \n",
       "2012-02-25   18.559643   18.657499  415072000.0           NaN            NaN   \n",
       "...                ...         ...          ...           ...            ...   \n",
       "2022-02-28  163.059998  165.119995   94869100.0    175.264747     160.077257   \n",
       "2022-03-01  164.699997  163.199997   83474400.0    173.685535     160.348469   \n",
       "2022-03-02  164.389999  166.559998   79724800.0    172.960391     160.517613   \n",
       "2022-03-03  168.470001  166.229996   76678400.0    172.777908     160.459096   \n",
       "2022-03-04  164.490005  163.169998   83737200.0    172.611312     160.078692   \n",
       "\n",
       "             Close_ma7  percentage_change  \n",
       "Date                                       \n",
       "2012-02-21         NaN                NaN  \n",
       "2012-02-22         NaN          -0.003516  \n",
       "2012-02-23         NaN           0.006530  \n",
       "2012-02-24         NaN           0.011658  \n",
       "2012-02-25         NaN           0.000000  \n",
       "...                ...                ...  \n",
       "2022-02-28  163.828576           0.001638  \n",
       "2022-03-01  163.668575          -0.011628  \n",
       "2022-03-02  164.595716           0.020588  \n",
       "2022-03-03  165.094286          -0.001981  \n",
       "2022-03-04  164.854285          -0.018408  \n",
       "\n",
       "[3665 rows x 7 columns]"
      ]
     },
     "execution_count": 10,
     "metadata": {},
     "output_type": "execute_result"
    }
   ],
   "source": [
    "hist_aapl"
   ]
  },
  {
   "cell_type": "markdown",
   "id": "d6f29027-b9b6-4ebf-b987-8e47d6be6786",
   "metadata": {},
   "source": [
    "## Remove the trailing records with NaN values"
   ]
  },
  {
   "cell_type": "code",
   "execution_count": 11,
   "id": "10460f22",
   "metadata": {
    "tags": []
   },
   "outputs": [],
   "source": [
    "hist_aapl.dropna(subset=['Close_bb20_2'], inplace=True)"
   ]
  },
  {
   "cell_type": "code",
   "execution_count": 12,
   "id": "5c8e535f",
   "metadata": {
    "scrolled": true
   },
   "outputs": [
    {
     "data": {
      "text/html": [
       "<div>\n",
       "<style scoped>\n",
       "    .dataframe tbody tr th:only-of-type {\n",
       "        vertical-align: middle;\n",
       "    }\n",
       "\n",
       "    .dataframe tbody tr th {\n",
       "        vertical-align: top;\n",
       "    }\n",
       "\n",
       "    .dataframe thead th {\n",
       "        text-align: right;\n",
       "    }\n",
       "</style>\n",
       "<table border=\"1\" class=\"dataframe\">\n",
       "  <thead>\n",
       "    <tr style=\"text-align: right;\">\n",
       "      <th></th>\n",
       "      <th>Open</th>\n",
       "      <th>Close</th>\n",
       "      <th>Volume</th>\n",
       "      <th>Close_bb20_2</th>\n",
       "      <th>Close_bb20_-2</th>\n",
       "      <th>Close_ma7</th>\n",
       "      <th>percentage_change</th>\n",
       "    </tr>\n",
       "    <tr>\n",
       "      <th>Date</th>\n",
       "      <th></th>\n",
       "      <th></th>\n",
       "      <th></th>\n",
       "      <th></th>\n",
       "      <th></th>\n",
       "      <th></th>\n",
       "      <th></th>\n",
       "    </tr>\n",
       "  </thead>\n",
       "  <tbody>\n",
       "    <tr>\n",
       "      <th>2012-03-11</th>\n",
       "      <td>19.436071</td>\n",
       "      <td>19.470358</td>\n",
       "      <td>4.189192e+08</td>\n",
       "      <td>19.883297</td>\n",
       "      <td>18.212204</td>\n",
       "      <td>19.242909</td>\n",
       "      <td>0.000000</td>\n",
       "    </tr>\n",
       "    <tr>\n",
       "      <th>2012-03-12</th>\n",
       "      <td>19.606428</td>\n",
       "      <td>19.714287</td>\n",
       "      <td>4.072824e+08</td>\n",
       "      <td>19.939537</td>\n",
       "      <td>18.288642</td>\n",
       "      <td>19.339031</td>\n",
       "      <td>0.012528</td>\n",
       "    </tr>\n",
       "    <tr>\n",
       "      <th>2012-03-13</th>\n",
       "      <td>19.912144</td>\n",
       "      <td>20.289286</td>\n",
       "      <td>6.908552e+08</td>\n",
       "      <td>20.106623</td>\n",
       "      <td>18.318199</td>\n",
       "      <td>19.532093</td>\n",
       "      <td>0.029167</td>\n",
       "    </tr>\n",
       "    <tr>\n",
       "      <th>2012-03-14</th>\n",
       "      <td>20.644644</td>\n",
       "      <td>21.056429</td>\n",
       "      <td>1.418844e+09</td>\n",
       "      <td>20.491487</td>\n",
       "      <td>18.194728</td>\n",
       "      <td>19.832552</td>\n",
       "      <td>0.037810</td>\n",
       "    </tr>\n",
       "    <tr>\n",
       "      <th>2012-03-15</th>\n",
       "      <td>21.414642</td>\n",
       "      <td>20.912857</td>\n",
       "      <td>1.159718e+09</td>\n",
       "      <td>20.753963</td>\n",
       "      <td>18.157787</td>\n",
       "      <td>20.054847</td>\n",
       "      <td>-0.006818</td>\n",
       "    </tr>\n",
       "    <tr>\n",
       "      <th>...</th>\n",
       "      <td>...</td>\n",
       "      <td>...</td>\n",
       "      <td>...</td>\n",
       "      <td>...</td>\n",
       "      <td>...</td>\n",
       "      <td>...</td>\n",
       "      <td>...</td>\n",
       "    </tr>\n",
       "    <tr>\n",
       "      <th>2022-02-28</th>\n",
       "      <td>163.059998</td>\n",
       "      <td>165.119995</td>\n",
       "      <td>9.486910e+07</td>\n",
       "      <td>175.264747</td>\n",
       "      <td>160.077257</td>\n",
       "      <td>163.828576</td>\n",
       "      <td>0.001638</td>\n",
       "    </tr>\n",
       "    <tr>\n",
       "      <th>2022-03-01</th>\n",
       "      <td>164.699997</td>\n",
       "      <td>163.199997</td>\n",
       "      <td>8.347440e+07</td>\n",
       "      <td>173.685535</td>\n",
       "      <td>160.348469</td>\n",
       "      <td>163.668575</td>\n",
       "      <td>-0.011628</td>\n",
       "    </tr>\n",
       "    <tr>\n",
       "      <th>2022-03-02</th>\n",
       "      <td>164.389999</td>\n",
       "      <td>166.559998</td>\n",
       "      <td>7.972480e+07</td>\n",
       "      <td>172.960391</td>\n",
       "      <td>160.517613</td>\n",
       "      <td>164.595716</td>\n",
       "      <td>0.020588</td>\n",
       "    </tr>\n",
       "    <tr>\n",
       "      <th>2022-03-03</th>\n",
       "      <td>168.470001</td>\n",
       "      <td>166.229996</td>\n",
       "      <td>7.667840e+07</td>\n",
       "      <td>172.777908</td>\n",
       "      <td>160.459096</td>\n",
       "      <td>165.094286</td>\n",
       "      <td>-0.001981</td>\n",
       "    </tr>\n",
       "    <tr>\n",
       "      <th>2022-03-04</th>\n",
       "      <td>164.490005</td>\n",
       "      <td>163.169998</td>\n",
       "      <td>8.373720e+07</td>\n",
       "      <td>172.611312</td>\n",
       "      <td>160.078692</td>\n",
       "      <td>164.854285</td>\n",
       "      <td>-0.018408</td>\n",
       "    </tr>\n",
       "  </tbody>\n",
       "</table>\n",
       "<p>3646 rows × 7 columns</p>\n",
       "</div>"
      ],
      "text/plain": [
       "                  Open       Close        Volume  Close_bb20_2  Close_bb20_-2  \\\n",
       "Date                                                                            \n",
       "2012-03-11   19.436071   19.470358  4.189192e+08     19.883297      18.212204   \n",
       "2012-03-12   19.606428   19.714287  4.072824e+08     19.939537      18.288642   \n",
       "2012-03-13   19.912144   20.289286  6.908552e+08     20.106623      18.318199   \n",
       "2012-03-14   20.644644   21.056429  1.418844e+09     20.491487      18.194728   \n",
       "2012-03-15   21.414642   20.912857  1.159718e+09     20.753963      18.157787   \n",
       "...                ...         ...           ...           ...            ...   \n",
       "2022-02-28  163.059998  165.119995  9.486910e+07    175.264747     160.077257   \n",
       "2022-03-01  164.699997  163.199997  8.347440e+07    173.685535     160.348469   \n",
       "2022-03-02  164.389999  166.559998  7.972480e+07    172.960391     160.517613   \n",
       "2022-03-03  168.470001  166.229996  7.667840e+07    172.777908     160.459096   \n",
       "2022-03-04  164.490005  163.169998  8.373720e+07    172.611312     160.078692   \n",
       "\n",
       "             Close_ma7  percentage_change  \n",
       "Date                                       \n",
       "2012-03-11   19.242909           0.000000  \n",
       "2012-03-12   19.339031           0.012528  \n",
       "2012-03-13   19.532093           0.029167  \n",
       "2012-03-14   19.832552           0.037810  \n",
       "2012-03-15   20.054847          -0.006818  \n",
       "...                ...                ...  \n",
       "2022-02-28  163.828576           0.001638  \n",
       "2022-03-01  163.668575          -0.011628  \n",
       "2022-03-02  164.595716           0.020588  \n",
       "2022-03-03  165.094286          -0.001981  \n",
       "2022-03-04  164.854285          -0.018408  \n",
       "\n",
       "[3646 rows x 7 columns]"
      ]
     },
     "execution_count": 12,
     "metadata": {},
     "output_type": "execute_result"
    }
   ],
   "source": [
    "hist_aapl"
   ]
  },
  {
   "cell_type": "markdown",
   "id": "b5325462-b64d-4558-941f-61dcf1d07237",
   "metadata": {},
   "source": [
    "# Required data preprocessing for a RNN model with only 1 sequence (1 ticker)"
   ]
  },
  {
   "cell_type": "markdown",
   "id": "a5570d51-f31a-400e-8357-f4253c0614ef",
   "metadata": {},
   "source": [
    "## Function that returns a tupple containing a random sample of consecutive records of a dataframe and the next output of that dataframe.  "
   ]
  },
  {
   "cell_type": "code",
   "execution_count": 13,
   "id": "8c2dd060",
   "metadata": {},
   "outputs": [],
   "source": [
    "def subsample_sequence(df, column, length, horizon=1):\n",
    "    last_possible = df.shape[0] - length - horizon\n",
    "    random_start = np.random.randint(0, last_possible)\n",
    "    X = df[random_start: random_start + length].values\n",
    "    y = df.iloc[random_start + length + horizon][column]\n",
    "    return X, y"
   ]
  },
  {
   "cell_type": "markdown",
   "id": "0bce27dc-ed51-4328-ba0b-8b4c3e8a9d19",
   "metadata": {},
   "source": [
    "## Function that returns a tupple containing a list of samples of a consecutive records of a dataframe and their corresponding next output"
   ]
  },
  {
   "cell_type": "code",
   "execution_count": 14,
   "id": "1de8838f",
   "metadata": {},
   "outputs": [],
   "source": [
    "def get_X_y(df, column, length_of_observations, horizon=1):\n",
    "    X, y = [], []\n",
    "    for length in length_of_observations:\n",
    "        xi, yi = subsample_sequence(df, column, length, horizon)\n",
    "        X.append(xi)\n",
    "        y.append(yi)\n",
    "    return X, np.array(y)"
   ]
  },
  {
   "cell_type": "markdown",
   "id": "a2bf398a-c7ca-4e65-8052-5d2983080bea",
   "metadata": {},
   "source": [
    "## Create the train and test sets"
   ]
  },
  {
   "cell_type": "code",
   "execution_count": 15,
   "id": "cdd3fa8a",
   "metadata": {},
   "outputs": [
    {
     "name": "stdout",
     "output_type": "stream",
     "text": [
      "(2917, 7) (729, 7)\n"
     ]
    }
   ],
   "source": [
    "df_train, df_test = create_train_test(hist_aapl)\n",
    "print(df_train.shape, df_test.shape)"
   ]
  },
  {
   "cell_type": "markdown",
   "id": "d786f6a7-f49d-4bb4-8e95-25da15177b9d",
   "metadata": {},
   "source": [
    "## MinMax scale the train and test sets"
   ]
  },
  {
   "cell_type": "code",
   "execution_count": 16,
   "id": "6df8b88a-af75-42f0-8af9-23fec97f0b8c",
   "metadata": {},
   "outputs": [],
   "source": [
    "scaler = StandardScaler()\n",
    "scaler.fit(df_train)\n",
    "df_train_scaled = pd.DataFrame(scaler.transform(df_train), columns=scaler.get_feature_names_out())\n",
    "df_test_scaled = pd.DataFrame(scaler.transform(df_test), columns=scaler.get_feature_names_out())"
   ]
  },
  {
   "cell_type": "code",
   "execution_count": 17,
   "id": "4b97ed8e-a390-427a-a7e4-877ba44931cd",
   "metadata": {},
   "outputs": [
    {
     "data": {
      "text/html": [
       "<div>\n",
       "<style scoped>\n",
       "    .dataframe tbody tr th:only-of-type {\n",
       "        vertical-align: middle;\n",
       "    }\n",
       "\n",
       "    .dataframe tbody tr th {\n",
       "        vertical-align: top;\n",
       "    }\n",
       "\n",
       "    .dataframe thead th {\n",
       "        text-align: right;\n",
       "    }\n",
       "</style>\n",
       "<table border=\"1\" class=\"dataframe\">\n",
       "  <thead>\n",
       "    <tr style=\"text-align: right;\">\n",
       "      <th></th>\n",
       "      <th>Open</th>\n",
       "      <th>Close</th>\n",
       "      <th>Volume</th>\n",
       "      <th>Close_bb20_2</th>\n",
       "      <th>Close_bb20_-2</th>\n",
       "      <th>Close_ma7</th>\n",
       "      <th>percentage_change</th>\n",
       "    </tr>\n",
       "  </thead>\n",
       "  <tbody>\n",
       "    <tr>\n",
       "      <th>0</th>\n",
       "      <td>2.649958</td>\n",
       "      <td>2.768554</td>\n",
       "      <td>-0.025375</td>\n",
       "      <td>3.412890</td>\n",
       "      <td>2.566820</td>\n",
       "      <td>2.775243</td>\n",
       "      <td>-1.013488</td>\n",
       "    </tr>\n",
       "    <tr>\n",
       "      <th>1</th>\n",
       "      <td>2.649958</td>\n",
       "      <td>2.768554</td>\n",
       "      <td>-0.025375</td>\n",
       "      <td>3.353200</td>\n",
       "      <td>2.564851</td>\n",
       "      <td>2.814922</td>\n",
       "      <td>-0.040131</td>\n",
       "    </tr>\n",
       "    <tr>\n",
       "      <th>2</th>\n",
       "      <td>2.649958</td>\n",
       "      <td>2.768554</td>\n",
       "      <td>-0.025375</td>\n",
       "      <td>3.285009</td>\n",
       "      <td>2.572153</td>\n",
       "      <td>2.854601</td>\n",
       "      <td>-0.040131</td>\n",
       "    </tr>\n",
       "    <tr>\n",
       "      <th>3</th>\n",
       "      <td>2.327211</td>\n",
       "      <td>2.365113</td>\n",
       "      <td>0.310768</td>\n",
       "      <td>3.253342</td>\n",
       "      <td>2.508050</td>\n",
       "      <td>2.771952</td>\n",
       "      <td>-5.837131</td>\n",
       "    </tr>\n",
       "    <tr>\n",
       "      <th>4</th>\n",
       "      <td>2.564010</td>\n",
       "      <td>2.703431</td>\n",
       "      <td>0.302694</td>\n",
       "      <td>3.169942</td>\n",
       "      <td>2.527532</td>\n",
       "      <td>2.761873</td>\n",
       "      <td>5.238642</td>\n",
       "    </tr>\n",
       "    <tr>\n",
       "      <th>...</th>\n",
       "      <td>...</td>\n",
       "      <td>...</td>\n",
       "      <td>...</td>\n",
       "      <td>...</td>\n",
       "      <td>...</td>\n",
       "      <td>...</td>\n",
       "      <td>...</td>\n",
       "    </tr>\n",
       "    <tr>\n",
       "      <th>724</th>\n",
       "      <td>9.197554</td>\n",
       "      <td>9.324026</td>\n",
       "      <td>-0.754113</td>\n",
       "      <td>9.652483</td>\n",
       "      <td>9.609176</td>\n",
       "      <td>9.276992</td>\n",
       "      <td>0.079910</td>\n",
       "    </tr>\n",
       "    <tr>\n",
       "      <th>725</th>\n",
       "      <td>9.313566</td>\n",
       "      <td>9.188487</td>\n",
       "      <td>-0.817352</td>\n",
       "      <td>9.544338</td>\n",
       "      <td>9.629431</td>\n",
       "      <td>9.265648</td>\n",
       "      <td>-0.892389</td>\n",
       "    </tr>\n",
       "    <tr>\n",
       "      <th>726</th>\n",
       "      <td>9.291637</td>\n",
       "      <td>9.425681</td>\n",
       "      <td>-0.838162</td>\n",
       "      <td>9.494680</td>\n",
       "      <td>9.642064</td>\n",
       "      <td>9.331383</td>\n",
       "      <td>1.468870</td>\n",
       "    </tr>\n",
       "    <tr>\n",
       "      <th>727</th>\n",
       "      <td>9.580252</td>\n",
       "      <td>9.402385</td>\n",
       "      <td>-0.855069</td>\n",
       "      <td>9.482183</td>\n",
       "      <td>9.637693</td>\n",
       "      <td>9.366732</td>\n",
       "      <td>-0.185347</td>\n",
       "    </tr>\n",
       "    <tr>\n",
       "      <th>728</th>\n",
       "      <td>9.298711</td>\n",
       "      <td>9.186369</td>\n",
       "      <td>-0.815894</td>\n",
       "      <td>9.470775</td>\n",
       "      <td>9.609283</td>\n",
       "      <td>9.349716</td>\n",
       "      <td>-1.389348</td>\n",
       "    </tr>\n",
       "  </tbody>\n",
       "</table>\n",
       "<p>729 rows × 7 columns</p>\n",
       "</div>"
      ],
      "text/plain": [
       "         Open     Close    Volume  Close_bb20_2  Close_bb20_-2  Close_ma7  \\\n",
       "0    2.649958  2.768554 -0.025375      3.412890       2.566820   2.775243   \n",
       "1    2.649958  2.768554 -0.025375      3.353200       2.564851   2.814922   \n",
       "2    2.649958  2.768554 -0.025375      3.285009       2.572153   2.854601   \n",
       "3    2.327211  2.365113  0.310768      3.253342       2.508050   2.771952   \n",
       "4    2.564010  2.703431  0.302694      3.169942       2.527532   2.761873   \n",
       "..        ...       ...       ...           ...            ...        ...   \n",
       "724  9.197554  9.324026 -0.754113      9.652483       9.609176   9.276992   \n",
       "725  9.313566  9.188487 -0.817352      9.544338       9.629431   9.265648   \n",
       "726  9.291637  9.425681 -0.838162      9.494680       9.642064   9.331383   \n",
       "727  9.580252  9.402385 -0.855069      9.482183       9.637693   9.366732   \n",
       "728  9.298711  9.186369 -0.815894      9.470775       9.609283   9.349716   \n",
       "\n",
       "     percentage_change  \n",
       "0            -1.013488  \n",
       "1            -0.040131  \n",
       "2            -0.040131  \n",
       "3            -5.837131  \n",
       "4             5.238642  \n",
       "..                 ...  \n",
       "724           0.079910  \n",
       "725          -0.892389  \n",
       "726           1.468870  \n",
       "727          -0.185347  \n",
       "728          -1.389348  \n",
       "\n",
       "[729 rows x 7 columns]"
      ]
     },
     "execution_count": 17,
     "metadata": {},
     "output_type": "execute_result"
    }
   ],
   "source": [
    "df_test_scaled"
   ]
  },
  {
   "cell_type": "markdown",
   "id": "201da7a5-6ded-4612-a322-47694efd3dad",
   "metadata": {},
   "source": [
    "## Generate random train and test samples of random leght of the ticker sequence  "
   ]
  },
  {
   "cell_type": "code",
   "execution_count": 18,
   "id": "5d9b25ac",
   "metadata": {},
   "outputs": [],
   "source": [
    "length_of_observations = np.random.randint(15, 31, 2000)\n",
    "X_train, y_train = get_X_y(df_train_scaled, 'Close', length_of_observations)\n",
    "length_of_observations = np.random.randint(15, 31, 500)\n",
    "X_test, y_test = get_X_y(df_test_scaled, 'Close', length_of_observations)"
   ]
  },
  {
   "cell_type": "markdown",
   "id": "eecf5030-57b5-4750-9b02-50f2dd35d478",
   "metadata": {},
   "source": [
    "## Pad the train and test samples to the same number of observations"
   ]
  },
  {
   "cell_type": "code",
   "execution_count": 19,
   "id": "ab3399d5",
   "metadata": {},
   "outputs": [],
   "source": [
    "X_train_pad = pad_sequences(X_train, dtype='float32', padding='post', value=-1000)\n",
    "X_test_pad = pad_sequences(X_test, dtype='float32', padding='post', value=-1000)"
   ]
  },
  {
   "cell_type": "code",
   "execution_count": 20,
   "id": "605326d3-2e7d-44c7-9c1a-c3a1111712d1",
   "metadata": {},
   "outputs": [
    {
     "data": {
      "text/plain": [
       "(2000, 30, 7)"
      ]
     },
     "execution_count": 20,
     "metadata": {},
     "output_type": "execute_result"
    }
   ],
   "source": [
    "X_train_pad.shape"
   ]
  },
  {
   "cell_type": "code",
   "execution_count": 21,
   "id": "71354d8a-ea5b-437e-8890-4f4ef7e9d094",
   "metadata": {},
   "outputs": [
    {
     "data": {
      "text/plain": [
       "(2000,)"
      ]
     },
     "execution_count": 21,
     "metadata": {},
     "output_type": "execute_result"
    }
   ],
   "source": [
    "y_train.shape"
   ]
  },
  {
   "cell_type": "markdown",
   "id": "449baf2f-5259-4cc2-a567-11a57ed7fcc9",
   "metadata": {},
   "source": [
    "# RNN model"
   ]
  },
  {
   "cell_type": "markdown",
   "id": "595d22a0-147e-4d07-996f-6bea6cb51d55",
   "metadata": {},
   "source": [
    "## Model definition and compilation"
   ]
  },
  {
   "cell_type": "code",
   "execution_count": 23,
   "id": "d7ce127d-7058-4f44-8adb-087f56df2f29",
   "metadata": {},
   "outputs": [],
   "source": [
    "def model_builder(hp):\n",
    "    # Tune the number of units in the rnn layers\n",
    "    # Choose an optimal value between 5-40\n",
    "    hp_RNN_units = hp.Int('RNN_units', min_value=5, max_value=40, step=5)\n",
    "    # Tune the number of units in the first dense layer\n",
    "    # Choose an optimal value between 5-70\n",
    "    hp_dense1_units = hp.Int('dense1_units', min_value=5, max_value=70, step=5)\n",
    "    model = Sequential([\n",
    "                        Masking(mask_value=-1000, input_shape=X_train_pad[0].shape),\n",
    "                        GRU(units=hp_RNN_units, activation='tanh', return_sequences= True),\n",
    "                        GRU(units=hp_RNN_units, activation='tanh', return_sequences= False),\n",
    "                        Dense(units=hp_dense1_units, activation='relu'),\n",
    "                        Dropout(0.2),\n",
    "                        Dense(1, activation='linear')\n",
    "                        ])\n",
    "    # Tune the learning rate for the optimizer\n",
    "    # Choose an optimal value from 0.01, 0.001, or 0.0001\n",
    "    hp_learning_rate = hp.Choice('learning_rate', values=[1e-2, 0.005, 1e-3, 0.0005, 1e-4])\n",
    "    model.compile(loss='mse', optimizer=RMSprop(learning_rate=hp_learning_rate), metrics=[MAPE, MAE])\n",
    "    return model"
   ]
  },
  {
   "cell_type": "markdown",
   "id": "fcab34cc-8bf0-44f7-9f92-11961012816e",
   "metadata": {},
   "source": [
    "## Instantiate the tuner and perform hypertuning"
   ]
  },
  {
   "cell_type": "code",
   "execution_count": 26,
   "id": "636156a9-9f24-4650-9099-24b75b03d080",
   "metadata": {},
   "outputs": [],
   "source": [
    "tuner = kt.Hyperband(model_builder,\n",
    "                     objective='val_mean_absolute_percentage_error',\n",
    "                     max_epochs=1500,\n",
    "                     factor=3,\n",
    "                     directory='blue_dir',\n",
    "                     project_name='springstone')"
   ]
  },
  {
   "cell_type": "code",
   "execution_count": 27,
   "id": "e5c0d517-3e61-4d78-a375-eb8f97f9237c",
   "metadata": {},
   "outputs": [
    {
     "name": "stdout",
     "output_type": "stream",
     "text": [
      "INFO:tensorflow:Oracle triggered exit\n",
      "\n",
      "The hyperparameter search is complete. The optimal number of units in the rnn\n",
      "layers is 25, in the dense1 layer is 55\n",
      "and the optimal learning rate for the optimizer is 0.005.\n",
      "\n"
     ]
    }
   ],
   "source": [
    "es = EarlyStopping(patience=10, restore_best_weights=True)\n",
    "tuner.search(X_train_pad, y_train, batch_size = 64, epochs=1000, validation_split=0.2, callbacks=[es], verbose=0)\n",
    "\n",
    "# Get the optimal hyperparameters\n",
    "best_hps=tuner.get_best_hyperparameters(num_trials=1)[0]\n",
    "\n",
    "print(f\"\"\"\n",
    "The hyperparameter search is complete. The optimal number of units in the rnn\n",
    "layers is {best_hps.get('RNN_units')}, in the dense1 layer is {best_hps.get('dense1_units')}\n",
    "and the optimal learning rate for the optimizer is {best_hps.get('learning_rate')}.\n",
    "\"\"\")\n"
   ]
  },
  {
   "cell_type": "markdown",
   "id": "947d9046-9045-4ab2-87d2-e39e6fe29b50",
   "metadata": {},
   "source": [
    "## Model training"
   ]
  },
  {
   "cell_type": "code",
   "execution_count": 28,
   "id": "c7a50d02-3331-400c-857c-420a0879f71b",
   "metadata": {},
   "outputs": [],
   "source": [
    "#es = EarlyStopping(patience=10, restore_best_weights=True)\n",
    "model = tuner.hypermodel.build(best_hps)\n",
    "history = model.fit(X_train_pad, y_train, batch_size = 64, epochs=1500, verbose=0, validation_split=0.2, callbacks=[es])"
   ]
  },
  {
   "cell_type": "markdown",
   "id": "a8e498fc-1342-485e-9a09-958522fad392",
   "metadata": {},
   "source": [
    "## Model evaluation"
   ]
  },
  {
   "cell_type": "code",
   "execution_count": 29,
   "id": "63926d12-64c6-4c2e-a2d0-91ba4f825dcc",
   "metadata": {},
   "outputs": [],
   "source": [
    "def plot_history(history, title=None):\n",
    "    fig, ax = plt.subplots(1,3, figsize=(20,7))\n",
    "    \n",
    "    # --- LOSS --- \n",
    "    \n",
    "    ax[0].plot(history.history['loss'])\n",
    "    ax[0].plot(history.history['val_loss'])\n",
    "    ax[0].set_title('Model loss')\n",
    "    ax[0].set_ylabel('Loss')\n",
    "    ax[0].set_xlabel('Epoch')\n",
    "    ax[0].set_ylim((0,0.2))\n",
    "    ax[0].legend(['Train', 'Test'], loc='best')\n",
    "    ax[0].grid(axis=\"x\",linewidth=0.5)\n",
    "    ax[0].grid(axis=\"y\",linewidth=0.5)\n",
    "    \n",
    "    # --- MAE\n",
    "    \n",
    "    ax[1].plot(history.history['mean_absolute_error'])\n",
    "    ax[1].plot(history.history['val_mean_absolute_error'])\n",
    "    ax[1].set_title('Model MAE')\n",
    "    ax[1].set_ylabel('MAE')\n",
    "    ax[1].set_xlabel('Epoch')\n",
    "    ax[1].legend(['Train', 'Test'], loc='best')\n",
    "    ax[1].set_ylim((0,0.3))\n",
    "    ax[1].grid(axis=\"x\",linewidth=0.5)\n",
    "    ax[1].grid(axis=\"y\",linewidth=0.5)\n",
    "    \n",
    "    # --- MAPE\n",
    "    \n",
    "    ax[2].plot(history.history['mean_absolute_percentage_error'])\n",
    "    ax[2].plot(history.history['val_mean_absolute_percentage_error'])\n",
    "    ax[2].set_title('Model MAPE')\n",
    "    ax[2].set_ylabel('MAPE')\n",
    "    ax[2].set_xlabel('Epoch')\n",
    "    ax[2].legend(['Train', 'Test'], loc='best')\n",
    "    ax[2].set_ylim((0,100))\n",
    "    ax[2].grid(axis=\"x\",linewidth=0.5)\n",
    "    ax[2].grid(axis=\"y\",linewidth=0.5)    \n",
    "\n",
    "    if title:\n",
    "        fig.suptitle(title)"
   ]
  },
  {
   "cell_type": "code",
   "execution_count": 30,
   "id": "aae30f47-e3a7-4c6b-8f33-c9ef1a3d5fee",
   "metadata": {},
   "outputs": [
    {
     "data": {
      "image/png": "[encoded data removed]",
      "text/plain": [
       "<Figure size 1440x504 with 3 Axes>"
      ]
     },
     "metadata": {
      "needs_background": "light"
     },
     "output_type": "display_data"
    }
   ],
   "source": [
    "plot_history(history)"
   ]
  },
  {
   "cell_type": "code",
   "execution_count": 31,
   "id": "7ca7e919-320f-4a1f-a422-9a9547990bc6",
   "metadata": {},
   "outputs": [
    {
     "name": "stdout",
     "output_type": "stream",
     "text": [
      "16/16 [==============================] - 0s 11ms/step - loss: 12.1975 - mean_absolute_percentage_error: 39.8140 - mean_absolute_error: 3.0234\n"
     ]
    },
    {
     "data": {
      "text/plain": [
       "[12.19754409790039, 39.81402587890625, 3.0234286785125732]"
      ]
     },
     "execution_count": 31,
     "metadata": {},
     "output_type": "execute_result"
    }
   ],
   "source": [
    "model.evaluate(X_test_pad, y_test)"
   ]
  },
  {
   "cell_type": "code",
   "execution_count": null,
   "id": "1c8a4d6a-1e22-4db4-87ef-b4d6b36d5b27",
   "metadata": {},
   "outputs": [],
   "source": [
    "a = np.zeros((1,7))\n",
    "a[0][1] = 3.3477\n",
    "a"
   ]
  },
  {
   "cell_type": "code",
   "execution_count": null,
   "id": "931a278a-ba17-4a2d-a61c-939d07ef7875",
   "metadata": {},
   "outputs": [],
   "source": [
    "scaler.inverse_transform(a)"
   ]
  }
 ],
 "metadata": {
  "kernelspec": {
   "display_name": "Python 3 (ipykernel)",
   "language": "python",
   "name": "python3"
  },
  "language_info": {
   "codemirror_mode": {
    "name": "ipython",
    "version": 3
   },
   "file_extension": ".py",
   "mimetype": "text/x-python",
   "name": "python",
   "nbconvert_exporter": "python",
   "pygments_lexer": "ipython3",
   "version": "3.8.12"
  },
  "toc": {
   "base_numbering": 1,
   "nav_menu": {},
   "number_sections": true,
   "sideBar": true,
   "skip_h1_title": false,
   "title_cell": "Table of Contents",
   "title_sidebar": "Contents",
   "toc_cell": false,
   "toc_position": {},
   "toc_section_display": true,
   "toc_window_display": true
  },
  "toc-autonumbering": true,
  "toc-showmarkdowntxt": false
 },
 "nbformat": 4,
 "nbformat_minor": 5
}
