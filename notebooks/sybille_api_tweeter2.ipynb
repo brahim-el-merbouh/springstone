{
 "cells": [
  {
   "cell_type": "code",
   "execution_count": 1,
   "id": "cb8cb8cf",
   "metadata": {},
   "outputs": [],
   "source": [
    "%load_ext autoreload\n",
    "%autoreload 2\n",
    "import warnings\n",
    "warnings.filterwarnings(\"ignore\")"
   ]
  },
  {
   "cell_type": "code",
   "execution_count": 2,
   "id": "07a39148",
   "metadata": {},
   "outputs": [
    {
     "name": "stdout",
     "output_type": "stream",
     "text": [
      "2022-03-05T12:41:23Z 2022-03-05T13:41:23Z\n",
      "2022-03-05T11:41:23Z 2022-03-05T12:41:23Z\n"
     ]
    }
   ],
   "source": [
    "from datetime import datetime, timedelta\n",
    "import requests\n",
    "import pandas as pd\n",
    "\n",
    "# read bearer token for authentication\n",
    "#with open('bearer_token.txt') as fp:\n",
    " #   BEARER_TOKEN = fp.read()\n",
    "BEARER_TOKEN = 'AAAAAAAAAAAAAAAAAAAAALqAYQEAAAAAJcPBWd6awcepf6nYpKm2sHSQYfw%3DilKIYlnOALlhxSSSS3kEsB8tP1NVBUySmWpL9yyLspALZfxyKb'\n",
    "    \n",
    "# setup the API request\n",
    "endpoint = 'https://api.twitter.com/2/tweets/search/recent'\n",
    "headers = {'authorization': f'Bearer {BEARER_TOKEN}'}\n",
    "params = {\n",
    "    'query': '(#tsla) (lang:en)',\n",
    "    'max_results': '100',\n",
    "    'tweet.fields': 'created_at,lang'\n",
    "}\n",
    "\n",
    "dtformat = '%Y-%m-%dT%H:%M:%SZ'  # the date format string required by twitter\n",
    "\n",
    "# we use this function to subtract 60 mins from our datetime string\n",
    "def time_travel(now, mins):\n",
    "    now = datetime.strptime(now, dtformat)\n",
    "    back_in_time = now - timedelta(minutes=mins)\n",
    "    return back_in_time.strftime(dtformat)\n",
    "    \n",
    "now = datetime.now()  # get the current datetime, this is our starting point\n",
    "last_week = now - timedelta(days=7)  # datetime one week ago = the finish line\n",
    "now = now.strftime(dtformat)  # convert now datetime to format for API\n",
    "\n",
    "df = pd.DataFrame()  # initialize dataframe to store tweets\n",
    "\n",
    "def get_data(tweet):\n",
    "    data = {'tweet_id': tweet['id'],\n",
    "            'created_at': tweet['created_at'],\n",
    "            'text': tweet['text']\n",
    "            #,'author_id' : tweet['author_id']\n",
    "           }\n",
    "    return data\n",
    "\n",
    "i=0\n",
    "while i<2:\n",
    "    i+=1\n",
    "    if datetime.strptime(now, dtformat) < last_week:\n",
    "        # if we have reached 7 days ago, break the loop\n",
    "        break\n",
    "    pre60 = time_travel(now, 60)  # get 60 minutes before 'now'\n",
    "    # assign from and to datetime parameters for the API\n",
    "    params['start_time'] = pre60 \n",
    "    params['end_time'] = now\n",
    "    #print(pre60, now)\n",
    "    response = requests.get(endpoint,\n",
    "                            params=params,\n",
    "                            headers=headers)  # send the request\n",
    "    now = pre60  # move the window 60 minutes earlier\n",
    "    # iteratively append our tweet data to our dataframe\n",
    "    for tweet in response.json()['data']:\n",
    "        row = get_data(tweet)  # we defined this function earlier\n",
    "        df = df.append(row, ignore_index=True)\n",
    "    \n",
    "#print(response.json())"
   ]
  },
  {
   "cell_type": "code",
   "execution_count": 3,
   "id": "cd37f5a4",
   "metadata": {},
   "outputs": [
    {
     "data": {
      "text/html": [
       "<div>\n",
       "<style scoped>\n",
       "    .dataframe tbody tr th:only-of-type {\n",
       "        vertical-align: middle;\n",
       "    }\n",
       "\n",
       "    .dataframe tbody tr th {\n",
       "        vertical-align: top;\n",
       "    }\n",
       "\n",
       "    .dataframe thead th {\n",
       "        text-align: right;\n",
       "    }\n",
       "</style>\n",
       "<table border=\"1\" class=\"dataframe\">\n",
       "  <thead>\n",
       "    <tr style=\"text-align: right;\">\n",
       "      <th></th>\n",
       "      <th>tweet_id</th>\n",
       "      <th>created_at</th>\n",
       "      <th>text</th>\n",
       "    </tr>\n",
       "  </thead>\n",
       "  <tbody>\n",
       "    <tr>\n",
       "      <th>0</th>\n",
       "      <td>1500103445952483332</td>\n",
       "      <td>2022-03-05T13:38:26.000Z</td>\n",
       "      <td>@foso_defensivo $TELL &amp;gt;&amp;gt;&amp;gt;&amp;gt;&amp;gt; #tsla</td>\n",
       "    </tr>\n",
       "    <tr>\n",
       "      <th>1</th>\n",
       "      <td>1500101377955090434</td>\n",
       "      <td>2022-03-05T13:30:13.000Z</td>\n",
       "      <td>WallStreetBets - Daily Breakout Mentions (3/4/...</td>\n",
       "    </tr>\n",
       "    <tr>\n",
       "      <th>2</th>\n",
       "      <td>1500098272215588866</td>\n",
       "      <td>2022-03-05T13:17:53.000Z</td>\n",
       "      <td>RT @GailAlfarATX: Elon Musk explains autonomou...</td>\n",
       "    </tr>\n",
       "    <tr>\n",
       "      <th>3</th>\n",
       "      <td>1500087200528187393</td>\n",
       "      <td>2022-03-05T12:33:53.000Z</td>\n",
       "      <td>@SawyerMerritt I wish Rivian good luck. No one...</td>\n",
       "    </tr>\n",
       "    <tr>\n",
       "      <th>4</th>\n",
       "      <td>1500083760661884928</td>\n",
       "      <td>2022-03-05T12:20:13.000Z</td>\n",
       "      <td>$TSLA broke March 2020 uptrend last week and b...</td>\n",
       "    </tr>\n",
       "  </tbody>\n",
       "</table>\n",
       "</div>"
      ],
      "text/plain": [
       "              tweet_id                created_at  \\\n",
       "0  1500103445952483332  2022-03-05T13:38:26.000Z   \n",
       "1  1500101377955090434  2022-03-05T13:30:13.000Z   \n",
       "2  1500098272215588866  2022-03-05T13:17:53.000Z   \n",
       "3  1500087200528187393  2022-03-05T12:33:53.000Z   \n",
       "4  1500083760661884928  2022-03-05T12:20:13.000Z   \n",
       "\n",
       "                                                text  \n",
       "0   @foso_defensivo $TELL &gt;&gt;&gt;&gt;&gt; #tsla  \n",
       "1  WallStreetBets - Daily Breakout Mentions (3/4/...  \n",
       "2  RT @GailAlfarATX: Elon Musk explains autonomou...  \n",
       "3  @SawyerMerritt I wish Rivian good luck. No one...  \n",
       "4  $TSLA broke March 2020 uptrend last week and b...  "
      ]
     },
     "execution_count": 3,
     "metadata": {},
     "output_type": "execute_result"
    }
   ],
   "source": [
    "df.head()"
   ]
  },
  {
   "cell_type": "code",
   "execution_count": 4,
   "id": "bfeb924f",
   "metadata": {},
   "outputs": [
    {
     "data": {
      "text/plain": [
       "'@foso_defensivo $TELL &gt;&gt;&gt;&gt;&gt; #tsla'"
      ]
     },
     "execution_count": 4,
     "metadata": {},
     "output_type": "execute_result"
    }
   ],
   "source": [
    "df['text'][0]"
   ]
  },
  {
   "cell_type": "code",
   "execution_count": null,
   "id": "c0501ace",
   "metadata": {},
   "outputs": [],
   "source": []
  }
 ],
 "metadata": {
  "kernelspec": {
   "display_name": "Python 3 (ipykernel)",
   "language": "python",
   "name": "python3"
  },
  "language_info": {
   "codemirror_mode": {
    "name": "ipython",
    "version": 3
   },
   "file_extension": ".py",
   "mimetype": "text/x-python",
   "name": "python",
   "nbconvert_exporter": "python",
   "pygments_lexer": "ipython3",
   "version": "3.8.12"
  },
  "toc": {
   "base_numbering": 1,
   "nav_menu": {},
   "number_sections": true,
   "sideBar": true,
   "skip_h1_title": false,
   "title_cell": "Table of Contents",
   "title_sidebar": "Contents",
   "toc_cell": false,
   "toc_position": {},
   "toc_section_display": true,
   "toc_window_display": false
  }
 },
 "nbformat": 4,
 "nbformat_minor": 5
}
