{
 "cells": [
  {
   "cell_type": "code",
   "execution_count": 1,
   "id": "42339c4d",
   "metadata": {},
   "outputs": [],
   "source": [
    "%load_ext autoreload\n",
    "%autoreload 2\n",
    "import warnings\n",
    "warnings.filterwarnings(\"ignore\")"
   ]
  },
  {
   "cell_type": "code",
   "execution_count": 7,
   "id": "30013c89",
   "metadata": {},
   "outputs": [],
   "source": [
    "from springstone.data import get_data, get_missing_dates, create_train_test, create_df_for_prophet\n",
    "from springstone.utils import bollinger_bands, moving_average\n",
    "import pandas as pd"
   ]
  },
  {
   "cell_type": "code",
   "execution_count": 3,
   "id": "f9a9c04b",
   "metadata": {},
   "outputs": [
    {
     "name": "stdout",
     "output_type": "stream",
     "text": [
      "[*********************100%***********************]  1 of 1 completed\n"
     ]
    }
   ],
   "source": [
    "hist = get_data('TSLA')"
   ]
  },
  {
   "cell_type": "code",
   "execution_count": null,
   "id": "d5ae79a0",
   "metadata": {},
   "outputs": [],
   "source": [
    "hist = bollinger_bands(hist, 'Close', 20, 2)\n",
    "hist = moving_average(hist, 'Close', 7)"
   ]
  },
  {
   "cell_type": "code",
   "execution_count": 4,
   "id": "86ac5615",
   "metadata": {
    "scrolled": true
   },
   "outputs": [
    {
     "data": {
      "text/html": [
       "<div>\n",
       "<style scoped>\n",
       "    .dataframe tbody tr th:only-of-type {\n",
       "        vertical-align: middle;\n",
       "    }\n",
       "\n",
       "    .dataframe tbody tr th {\n",
       "        vertical-align: top;\n",
       "    }\n",
       "\n",
       "    .dataframe thead th {\n",
       "        text-align: right;\n",
       "    }\n",
       "</style>\n",
       "<table border=\"1\" class=\"dataframe\">\n",
       "  <thead>\n",
       "    <tr style=\"text-align: right;\">\n",
       "      <th></th>\n",
       "      <th>Open</th>\n",
       "      <th>High</th>\n",
       "      <th>Low</th>\n",
       "      <th>Close</th>\n",
       "      <th>Volume</th>\n",
       "    </tr>\n",
       "    <tr>\n",
       "      <th>Date</th>\n",
       "      <th></th>\n",
       "      <th></th>\n",
       "      <th></th>\n",
       "      <th></th>\n",
       "      <th></th>\n",
       "    </tr>\n",
       "  </thead>\n",
       "  <tbody>\n",
       "    <tr>\n",
       "      <th>2012-02-21</th>\n",
       "      <td>6.974000</td>\n",
       "      <td>6.974000</td>\n",
       "      <td>6.762000</td>\n",
       "      <td>6.900000</td>\n",
       "      <td>5679000</td>\n",
       "    </tr>\n",
       "    <tr>\n",
       "      <th>2012-02-22</th>\n",
       "      <td>6.900000</td>\n",
       "      <td>6.944000</td>\n",
       "      <td>6.500000</td>\n",
       "      <td>6.844000</td>\n",
       "      <td>8273000</td>\n",
       "    </tr>\n",
       "    <tr>\n",
       "      <th>2012-02-23</th>\n",
       "      <td>6.798000</td>\n",
       "      <td>6.994000</td>\n",
       "      <td>6.712000</td>\n",
       "      <td>6.906000</td>\n",
       "      <td>4102000</td>\n",
       "    </tr>\n",
       "    <tr>\n",
       "      <th>2012-02-24</th>\n",
       "      <td>6.846000</td>\n",
       "      <td>6.904000</td>\n",
       "      <td>6.654000</td>\n",
       "      <td>6.750000</td>\n",
       "      <td>4799500</td>\n",
       "    </tr>\n",
       "    <tr>\n",
       "      <th>2012-02-27</th>\n",
       "      <td>6.682000</td>\n",
       "      <td>6.800000</td>\n",
       "      <td>6.600000</td>\n",
       "      <td>6.724000</td>\n",
       "      <td>3030000</td>\n",
       "    </tr>\n",
       "    <tr>\n",
       "      <th>...</th>\n",
       "      <td>...</td>\n",
       "      <td>...</td>\n",
       "      <td>...</td>\n",
       "      <td>...</td>\n",
       "      <td>...</td>\n",
       "    </tr>\n",
       "    <tr>\n",
       "      <th>2022-02-14</th>\n",
       "      <td>861.570007</td>\n",
       "      <td>898.880005</td>\n",
       "      <td>853.150024</td>\n",
       "      <td>875.760010</td>\n",
       "      <td>22585500</td>\n",
       "    </tr>\n",
       "    <tr>\n",
       "      <th>2022-02-15</th>\n",
       "      <td>900.000000</td>\n",
       "      <td>923.000000</td>\n",
       "      <td>893.380005</td>\n",
       "      <td>922.429993</td>\n",
       "      <td>19216500</td>\n",
       "    </tr>\n",
       "    <tr>\n",
       "      <th>2022-02-16</th>\n",
       "      <td>914.049988</td>\n",
       "      <td>926.429993</td>\n",
       "      <td>901.210022</td>\n",
       "      <td>923.390015</td>\n",
       "      <td>17098100</td>\n",
       "    </tr>\n",
       "    <tr>\n",
       "      <th>2022-02-17</th>\n",
       "      <td>913.260010</td>\n",
       "      <td>918.500000</td>\n",
       "      <td>874.099976</td>\n",
       "      <td>876.349976</td>\n",
       "      <td>18392800</td>\n",
       "    </tr>\n",
       "    <tr>\n",
       "      <th>2022-02-18</th>\n",
       "      <td>886.000000</td>\n",
       "      <td>886.869995</td>\n",
       "      <td>837.609985</td>\n",
       "      <td>856.979980</td>\n",
       "      <td>22710500</td>\n",
       "    </tr>\n",
       "  </tbody>\n",
       "</table>\n",
       "<p>2518 rows × 5 columns</p>\n",
       "</div>"
      ],
      "text/plain": [
       "                  Open        High         Low       Close    Volume\n",
       "Date                                                                \n",
       "2012-02-21    6.974000    6.974000    6.762000    6.900000   5679000\n",
       "2012-02-22    6.900000    6.944000    6.500000    6.844000   8273000\n",
       "2012-02-23    6.798000    6.994000    6.712000    6.906000   4102000\n",
       "2012-02-24    6.846000    6.904000    6.654000    6.750000   4799500\n",
       "2012-02-27    6.682000    6.800000    6.600000    6.724000   3030000\n",
       "...                ...         ...         ...         ...       ...\n",
       "2022-02-14  861.570007  898.880005  853.150024  875.760010  22585500\n",
       "2022-02-15  900.000000  923.000000  893.380005  922.429993  19216500\n",
       "2022-02-16  914.049988  926.429993  901.210022  923.390015  17098100\n",
       "2022-02-17  913.260010  918.500000  874.099976  876.349976  18392800\n",
       "2022-02-18  886.000000  886.869995  837.609985  856.979980  22710500\n",
       "\n",
       "[2518 rows x 5 columns]"
      ]
     },
     "execution_count": 4,
     "metadata": {},
     "output_type": "execute_result"
    }
   ],
   "source": [
    "hist"
   ]
  },
  {
   "cell_type": "code",
   "execution_count": null,
   "id": "f4b3d610",
   "metadata": {},
   "outputs": [],
   "source": [
    "from prophet import Prophet\n",
    "from sklearn.metrics import mean_absolute_error"
   ]
  },
  {
   "cell_type": "code",
   "execution_count": null,
   "id": "03958d1f",
   "metadata": {},
   "outputs": [],
   "source": [
    "df_prophet = create_df_for_prophet(hist)\n",
    "df_train, df_test = create_train_test(df_prophet)"
   ]
  },
  {
   "cell_type": "code",
   "execution_count": null,
   "id": "2ef987fe",
   "metadata": {},
   "outputs": [],
   "source": [
    "df_train"
   ]
  },
  {
   "cell_type": "code",
   "execution_count": null,
   "id": "2649bd37",
   "metadata": {},
   "outputs": [],
   "source": [
    "m_prophet = Prophet()\n",
    "m_prophet.fit(df_train)"
   ]
  },
  {
   "cell_type": "code",
   "execution_count": null,
   "id": "8b15b86c",
   "metadata": {},
   "outputs": [],
   "source": [
    "future = m_prophet.make_future_dataframe(periods=30)\n",
    "future"
   ]
  },
  {
   "cell_type": "code",
   "execution_count": null,
   "id": "96af446d",
   "metadata": {
    "scrolled": true
   },
   "outputs": [],
   "source": [
    "forecast = m_prophet.predict(future)\n",
    "forecast = forecast[-30:][['ds', 'yhat', 'yhat_lower', 'yhat_upper']]"
   ]
  },
  {
   "cell_type": "code",
   "execution_count": null,
   "id": "739eaeec",
   "metadata": {},
   "outputs": [],
   "source": [
    "forecast"
   ]
  },
  {
   "cell_type": "code",
   "execution_count": null,
   "id": "8a49c79e",
   "metadata": {},
   "outputs": [],
   "source": [
    "df_test[:30]"
   ]
  },
  {
   "cell_type": "code",
   "execution_count": null,
   "id": "36844db1",
   "metadata": {},
   "outputs": [],
   "source": [
    "mae_prophet = mean_absolute_error(df_test[:30]['y'], forecast['yhat'])\n",
    "mae_prophet"
   ]
  },
  {
   "cell_type": "code",
   "execution_count": null,
   "id": "a64e6e91",
   "metadata": {},
   "outputs": [],
   "source": [
    "column = 'Volume'\n",
    "hist.rename(columns={column: f'{column}_ma'})"
   ]
  }
 ],
 "metadata": {
  "kernelspec": {
   "display_name": "Python 3 (ipykernel)",
   "language": "python",
   "name": "python3"
  },
  "language_info": {
   "codemirror_mode": {
    "name": "ipython",
    "version": 3
   },
   "file_extension": ".py",
   "mimetype": "text/x-python",
   "name": "python",
   "nbconvert_exporter": "python",
   "pygments_lexer": "ipython3",
   "version": "3.8.12"
  },
  "toc": {
   "base_numbering": 1,
   "nav_menu": {},
   "number_sections": true,
   "sideBar": true,
   "skip_h1_title": false,
   "title_cell": "Table of Contents",
   "title_sidebar": "Contents",
   "toc_cell": false,
   "toc_position": {
    "height": "calc(100% - 180px)",
    "left": "10px",
    "top": "150px",
    "width": "272.7px"
   },
   "toc_section_display": true,
   "toc_window_display": true
  }
 },
 "nbformat": 4,
 "nbformat_minor": 5
}
