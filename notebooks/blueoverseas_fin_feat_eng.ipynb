{
 "cells": [
  {
   "cell_type": "code",
   "execution_count": 1,
   "id": "42339c4d",
   "metadata": {},
   "outputs": [],
   "source": [
    "%load_ext autoreload\n",
    "%autoreload 2\n",
    "import warnings\n",
    "warnings.filterwarnings(\"ignore\")"
   ]
  },
  {
   "cell_type": "code",
   "execution_count": 14,
   "id": "30013c89",
   "metadata": {},
   "outputs": [],
   "source": [
    "from springstone.data import get_data, get_missing_dates, create_train_test, create_df_for_prophet, download_model\n",
    "from springstone.utils import bollinger_bands, moving_average, prophet_preprocessing, prophet_non_business_days\n",
    "from springstone.utils import basic_recommendation, temp_data_predict, next_business_day\n",
    "from springstone.trainer import Trainer\n",
    "from springstone.params import MODEL_TYPE\n",
    "from springstone.predict import predict_from_model\n",
    "import pandas as pd\n",
    "import numpy as np\n",
    "from prophet import Prophet\n",
    "from prophet.plot import plot_forecast_component_plotly\n",
    "from sklearn.metrics import mean_absolute_error, mean_absolute_percentage_error\n",
    "import joblib\n",
    "from termcolor import colored\n",
    "from datetime import date, timedelta\n",
    "import holidays"
   ]
  },
  {
   "cell_type": "code",
   "execution_count": 3,
   "id": "4ca45021",
   "metadata": {},
   "outputs": [],
   "source": [
    "ticker = 'AAPL'"
   ]
  },
  {
   "cell_type": "code",
   "execution_count": 4,
   "id": "f9a9c04b",
   "metadata": {},
   "outputs": [
    {
     "name": "stdout",
     "output_type": "stream",
     "text": [
      "[*********************100%***********************]  1 of 1 completed\n"
     ]
    }
   ],
   "source": [
    "hist = get_data(ticker, end='2022-03-04')"
   ]
  },
  {
   "cell_type": "code",
   "execution_count": 5,
   "id": "86ac5615",
   "metadata": {
    "scrolled": true
   },
   "outputs": [
    {
     "data": {
      "text/html": [
       "<div>\n",
       "<style scoped>\n",
       "    .dataframe tbody tr th:only-of-type {\n",
       "        vertical-align: middle;\n",
       "    }\n",
       "\n",
       "    .dataframe tbody tr th {\n",
       "        vertical-align: top;\n",
       "    }\n",
       "\n",
       "    .dataframe thead th {\n",
       "        text-align: right;\n",
       "    }\n",
       "</style>\n",
       "<table border=\"1\" class=\"dataframe\">\n",
       "  <thead>\n",
       "    <tr style=\"text-align: right;\">\n",
       "      <th></th>\n",
       "      <th>Open</th>\n",
       "      <th>High</th>\n",
       "      <th>Low</th>\n",
       "      <th>Close</th>\n",
       "      <th>Volume</th>\n",
       "    </tr>\n",
       "    <tr>\n",
       "      <th>Date</th>\n",
       "      <th></th>\n",
       "      <th></th>\n",
       "      <th></th>\n",
       "      <th></th>\n",
       "      <th></th>\n",
       "    </tr>\n",
       "  </thead>\n",
       "  <tbody>\n",
       "    <tr>\n",
       "      <th>2012-02-21</th>\n",
       "      <td>18.102858</td>\n",
       "      <td>18.387501</td>\n",
       "      <td>18.004286</td>\n",
       "      <td>18.387501</td>\n",
       "      <td>605595200</td>\n",
       "    </tr>\n",
       "    <tr>\n",
       "      <th>2012-02-22</th>\n",
       "      <td>18.324286</td>\n",
       "      <td>18.410357</td>\n",
       "      <td>18.181070</td>\n",
       "      <td>18.322857</td>\n",
       "      <td>483302400</td>\n",
       "    </tr>\n",
       "    <tr>\n",
       "      <th>2012-02-23</th>\n",
       "      <td>18.395714</td>\n",
       "      <td>18.493929</td>\n",
       "      <td>18.196428</td>\n",
       "      <td>18.442499</td>\n",
       "      <td>568027600</td>\n",
       "    </tr>\n",
       "    <tr>\n",
       "      <th>2012-02-24</th>\n",
       "      <td>18.559643</td>\n",
       "      <td>18.674999</td>\n",
       "      <td>18.522858</td>\n",
       "      <td>18.657499</td>\n",
       "      <td>415072000</td>\n",
       "    </tr>\n",
       "    <tr>\n",
       "      <th>2012-02-27</th>\n",
       "      <td>18.618214</td>\n",
       "      <td>18.875000</td>\n",
       "      <td>18.438572</td>\n",
       "      <td>18.777143</td>\n",
       "      <td>547582000</td>\n",
       "    </tr>\n",
       "    <tr>\n",
       "      <th>...</th>\n",
       "      <td>...</td>\n",
       "      <td>...</td>\n",
       "      <td>...</td>\n",
       "      <td>...</td>\n",
       "      <td>...</td>\n",
       "    </tr>\n",
       "    <tr>\n",
       "      <th>2022-02-25</th>\n",
       "      <td>163.839996</td>\n",
       "      <td>165.119995</td>\n",
       "      <td>160.869995</td>\n",
       "      <td>164.850006</td>\n",
       "      <td>91974200</td>\n",
       "    </tr>\n",
       "    <tr>\n",
       "      <th>2022-02-28</th>\n",
       "      <td>163.059998</td>\n",
       "      <td>165.419998</td>\n",
       "      <td>162.429993</td>\n",
       "      <td>165.119995</td>\n",
       "      <td>94869100</td>\n",
       "    </tr>\n",
       "    <tr>\n",
       "      <th>2022-03-01</th>\n",
       "      <td>164.699997</td>\n",
       "      <td>166.600006</td>\n",
       "      <td>161.970001</td>\n",
       "      <td>163.199997</td>\n",
       "      <td>83474400</td>\n",
       "    </tr>\n",
       "    <tr>\n",
       "      <th>2022-03-02</th>\n",
       "      <td>164.389999</td>\n",
       "      <td>167.360001</td>\n",
       "      <td>162.949997</td>\n",
       "      <td>166.559998</td>\n",
       "      <td>79724800</td>\n",
       "    </tr>\n",
       "    <tr>\n",
       "      <th>2022-03-03</th>\n",
       "      <td>168.470001</td>\n",
       "      <td>168.910004</td>\n",
       "      <td>165.550003</td>\n",
       "      <td>166.229996</td>\n",
       "      <td>76335600</td>\n",
       "    </tr>\n",
       "  </tbody>\n",
       "</table>\n",
       "<p>2526 rows × 5 columns</p>\n",
       "</div>"
      ],
      "text/plain": [
       "                  Open        High         Low       Close     Volume\n",
       "Date                                                                 \n",
       "2012-02-21   18.102858   18.387501   18.004286   18.387501  605595200\n",
       "2012-02-22   18.324286   18.410357   18.181070   18.322857  483302400\n",
       "2012-02-23   18.395714   18.493929   18.196428   18.442499  568027600\n",
       "2012-02-24   18.559643   18.674999   18.522858   18.657499  415072000\n",
       "2012-02-27   18.618214   18.875000   18.438572   18.777143  547582000\n",
       "...                ...         ...         ...         ...        ...\n",
       "2022-02-25  163.839996  165.119995  160.869995  164.850006   91974200\n",
       "2022-02-28  163.059998  165.419998  162.429993  165.119995   94869100\n",
       "2022-03-01  164.699997  166.600006  161.970001  163.199997   83474400\n",
       "2022-03-02  164.389999  167.360001  162.949997  166.559998   79724800\n",
       "2022-03-03  168.470001  168.910004  165.550003  166.229996   76335600\n",
       "\n",
       "[2526 rows x 5 columns]"
      ]
     },
     "execution_count": 5,
     "metadata": {},
     "output_type": "execute_result"
    }
   ],
   "source": [
    "hist"
   ]
  },
  {
   "cell_type": "code",
   "execution_count": 6,
   "id": "d33bfcb1-a17d-4fa8-a7dd-4fbee0f54beb",
   "metadata": {},
   "outputs": [],
   "source": [
    "df_nbd = prophet_non_business_days(hist)"
   ]
  },
  {
   "cell_type": "code",
   "execution_count": 8,
   "id": "9274d6f0-4a19-4a51-8a32-511996e7be05",
   "metadata": {},
   "outputs": [
    {
     "name": "stderr",
     "output_type": "stream",
     "text": [
      "INFO:prophet:Disabling daily seasonality. Run prophet with daily_seasonality=True to override this.\n"
     ]
    },
    {
     "name": "stdout",
     "output_type": "stream",
     "text": [
      "Initial log joint probability = -47.1663\n",
      "    Iter      log prob        ||dx||      ||grad||       alpha      alpha0  # evals  Notes \n",
      "      99       7261.43     0.0269243        1268.7      0.7189      0.7189      129   \n",
      "    Iter      log prob        ||dx||      ||grad||       alpha      alpha0  # evals  Notes \n",
      "     199       7307.72    0.00203298       374.579      0.9248      0.9248      243   \n",
      "    Iter      log prob        ||dx||      ||grad||       alpha      alpha0  # evals  Notes \n",
      "     299       7317.45    0.00787954       725.772      0.8674      0.8674      355   \n",
      "    Iter      log prob        ||dx||      ||grad||       alpha      alpha0  # evals  Notes \n",
      "     343       7321.12   0.000189673       381.693   5.517e-07       0.001      451  LS failed, Hessian reset \n",
      "     399       7323.74   0.000921024       125.582      0.5555      0.5555      515   \n",
      "    Iter      log prob        ||dx||      ||grad||       alpha      alpha0  # evals  Notes \n",
      "     499       7328.02      0.010612       320.372           1           1      642   \n",
      "    Iter      log prob        ||dx||      ||grad||       alpha      alpha0  # evals  Notes \n",
      "     571       7329.14   3.44598e-05       69.2467    2.98e-07       0.001      765  LS failed, Hessian reset \n",
      "     599       7329.39   0.000444797       74.0623           1           1      796   \n",
      "    Iter      log prob        ||dx||      ||grad||       alpha      alpha0  # evals  Notes \n",
      "     699       7330.22   0.000316628       75.8495           1           1      918   \n",
      "    Iter      log prob        ||dx||      ||grad||       alpha      alpha0  # evals  Notes \n",
      "     754       7331.44   3.13681e-05       63.8419   3.061e-07       0.001     1029  LS failed, Hessian reset \n",
      "     785       7331.84    3.0484e-05        66.427   4.797e-07       0.001     1105  LS failed, Hessian reset \n",
      "     799       7331.88   2.74901e-06       43.4271     0.09784     0.09784     1125   \n",
      "    Iter      log prob        ||dx||      ||grad||       alpha      alpha0  # evals  Notes \n",
      "     899       7332.22   0.000761936       68.4457      0.6745      0.6745     1246   \n",
      "    Iter      log prob        ||dx||      ||grad||       alpha      alpha0  # evals  Notes \n",
      "     919        7332.4   6.33959e-05        124.75   3.102e-07       0.001     1318  LS failed, Hessian reset \n",
      "     999       7332.69   0.000356795       64.4125           1           1     1427   \n",
      "    Iter      log prob        ||dx||      ||grad||       alpha      alpha0  # evals  Notes \n",
      "    1099        7332.9    0.00251215        70.704           1           1     1553   \n",
      "    Iter      log prob        ||dx||      ||grad||       alpha      alpha0  # evals  Notes \n",
      "    1124       7333.42   0.000234669        209.84   1.556e-06       0.001     1668  LS failed, Hessian reset \n",
      "    1178       7333.89   5.34069e-05       97.6242   7.719e-07       0.001     1767  LS failed, Hessian reset \n",
      "    1199        7333.9   1.57794e-05       41.6497           1           1     1797   \n",
      "    Iter      log prob        ||dx||      ||grad||       alpha      alpha0  # evals  Notes \n",
      "    1254       7333.95   1.54705e-06       44.8766   3.654e-08       0.001     1915  LS failed, Hessian reset \n",
      "    1265       7333.95   5.36105e-07       47.5934      0.4097     0.04097     1933   \n",
      "Optimization terminated normally: \n",
      "  Convergence detected: relative gradient magnitude is below tolerance\n"
     ]
    }
   ],
   "source": [
    "# Using the Trainer class\n",
    "df_train, df_test = create_train_test(hist)\n",
    "trainer_prophet = Trainer(model=\"prophet\",X=df_train, y=None, non_business_days=df_nbd)\n",
    "df_test_prophet = create_df_for_prophet(df_test)\n",
    "trainer_prophet.run()\n",
    "trainer_prophet.save_model_locally(ticker,'prophet')"
   ]
  },
  {
   "cell_type": "code",
   "execution_count": null,
   "id": "82e9a4d9",
   "metadata": {},
   "outputs": [],
   "source": [
    "# Without the Trainer class\n",
    "df_prophet = prophet_preprocessing(hist, 'Close')\n",
    "df_train, df_test = create_train_test(df_prophet)\n",
    "m_prophet = Prophet(holidays=df_nbd)\n",
    "m_prophet.fit(df_train)\n",
    "joblib.dump(m_prophet, 'model_prophet_AAPL.joblib')"
   ]
  },
  {
   "cell_type": "code",
   "execution_count": 15,
   "id": "fc711d57-24f2-4dc4-b97f-3518c46d6be5",
   "metadata": {},
   "outputs": [],
   "source": [
    "df_test_prophet = create_df_for_prophet(df_test)\n",
    "#y_pred = trainer_prophet.predict(df_test_prophet[:5][['ds']])\n",
    "y_pred = predict_from_model(ticker, 'prophet', df_test_prophet)"
   ]
  },
  {
   "cell_type": "code",
   "execution_count": 17,
   "id": "a656cb63-2ab8-4790-a568-422443e1f265",
   "metadata": {},
   "outputs": [
    {
     "data": {
      "text/plain": [
       "64.95254731169152"
      ]
     },
     "execution_count": 17,
     "metadata": {},
     "output_type": "execute_result"
    }
   ],
   "source": [
    "y_pred[0]"
   ]
  },
  {
   "cell_type": "code",
   "execution_count": 19,
   "id": "51527d33",
   "metadata": {
    "scrolled": true
   },
   "outputs": [
    {
     "name": "stdout",
     "output_type": "stream",
     "text": [
      "[*********************100%***********************]  1 of 1 completed\n"
     ]
    },
    {
     "data": {
      "text/plain": [
       "'Buy recommendation'"
      ]
     },
     "execution_count": 19,
     "metadata": {},
     "output_type": "execute_result"
    }
   ],
   "source": [
    "basic_recommendation(ticker)"
   ]
  },
  {
   "cell_type": "code",
   "execution_count": null,
   "id": "782cdc10",
   "metadata": {},
   "outputs": [],
   "source": [
    "next_business_day(date.today())"
   ]
  },
  {
   "cell_type": "code",
   "execution_count": null,
   "id": "8b15b86c",
   "metadata": {},
   "outputs": [],
   "source": [
    "n_days_prediction=1\n",
    "future = pipeline.make_future_dataframe(periods=n_days_prediction)\n",
    "future"
   ]
  },
  {
   "cell_type": "code",
   "execution_count": null,
   "id": "96af446d",
   "metadata": {
    "scrolled": true
   },
   "outputs": [],
   "source": [
    "forecast = pipeline.predict(future)"
   ]
  },
  {
   "cell_type": "code",
   "execution_count": null,
   "id": "1d7fe0e0",
   "metadata": {},
   "outputs": [],
   "source": [
    "forecast[['ds', 'yhat', 'yhat_lower', 'yhat_upper', 'non business day']]"
   ]
  },
  {
   "cell_type": "code",
   "execution_count": null,
   "id": "5b7a81f2",
   "metadata": {},
   "outputs": [],
   "source": [
    "m_prophet.plot(forecast);"
   ]
  },
  {
   "cell_type": "code",
   "execution_count": null,
   "id": "290ad240",
   "metadata": {},
   "outputs": [],
   "source": [
    "m_prophet.plot_components(forecast);"
   ]
  },
  {
   "cell_type": "code",
   "execution_count": null,
   "id": "65b040c3",
   "metadata": {
    "scrolled": true
   },
   "outputs": [],
   "source": [
    "#plot_forecast_component_plotly(m_prophet, forecast, 'non business day')"
   ]
  },
  {
   "cell_type": "code",
   "execution_count": null,
   "id": "fc4b9397",
   "metadata": {},
   "outputs": [],
   "source": [
    "forecast = forecast[- n_days_prediction:][['ds', 'yhat', 'yhat_lower', 'yhat_upper', 'non business day']]"
   ]
  },
  {
   "cell_type": "code",
   "execution_count": null,
   "id": "739eaeec",
   "metadata": {},
   "outputs": [],
   "source": [
    "forecast"
   ]
  },
  {
   "cell_type": "code",
   "execution_count": null,
   "id": "eac4b628",
   "metadata": {},
   "outputs": [],
   "source": [
    "df_test[:n_days_prediction]"
   ]
  },
  {
   "cell_type": "code",
   "execution_count": null,
   "id": "c3592edd",
   "metadata": {},
   "outputs": [],
   "source": [
    "mae_prophet = mean_absolute_error(df_test[:n_days_prediction]['y'], forecast['yhat'])\n",
    "mape_prophet = mean_absolute_percentage_error(df_test[:n_days_prediction]['y'], forecast['yhat'])\n",
    "print(f'MAE: {mae_prophet}')\n",
    "pbrint(f'MAPE: {mape_prophet}')"
   ]
  },
  {
   "cell_type": "code",
   "execution_count": null,
   "id": "0dd32253",
   "metadata": {},
   "outputs": [],
   "source": [
    "def predict_from_model(ticker, model_type, X):\n",
    "    \"\"\"Predicts from a saved model for a ticker and a model_type\n",
    "       Input:\n",
    "            ticker: ticker used by the model\n",
    "            model_type: type of model used such as prohet or RNN\n",
    "            X: data\n",
    "       Ouptut: return a dataframe with predicted values\"\"\"\n",
    "    model = download_model(ticker, model_type)\n",
    "    if model_type == \"prophet\":\n",
    "        y_pred = model['prophet_model'].prophet.predict(X)['yhat']\n",
    "    else:\n",
    "        y_pred = model.predict(X)\n",
    "        \n",
    "    return y_pred"
   ]
  },
  {
   "cell_type": "code",
   "execution_count": null,
   "id": "0266d821",
   "metadata": {},
   "outputs": [],
   "source": [
    "cd notebooks"
   ]
  },
  {
   "cell_type": "code",
   "execution_count": null,
   "id": "8714809e",
   "metadata": {},
   "outputs": [],
   "source": [
    "download_model('AAPL', 'prophet')"
   ]
  }
 ],
 "metadata": {
  "kernelspec": {
   "display_name": "Python 3 (ipykernel)",
   "language": "python",
   "name": "python3"
  },
  "language_info": {
   "codemirror_mode": {
    "name": "ipython",
    "version": 3
   },
   "file_extension": ".py",
   "mimetype": "text/x-python",
   "name": "python",
   "nbconvert_exporter": "python",
   "pygments_lexer": "ipython3",
   "version": "3.8.12"
  },
  "toc": {
   "base_numbering": 1,
   "nav_menu": {},
   "number_sections": true,
   "sideBar": true,
   "skip_h1_title": false,
   "title_cell": "Table of Contents",
   "title_sidebar": "Contents",
   "toc_cell": false,
   "toc_position": {
    "height": "calc(100% - 180px)",
    "left": "10px",
    "top": "150px",
    "width": "272.7px"
   },
   "toc_section_display": true,
   "toc_window_display": true
  }
 },
 "nbformat": 4,
 "nbformat_minor": 5
}
