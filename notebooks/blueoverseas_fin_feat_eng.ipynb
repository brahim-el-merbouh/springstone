{
 "cells": [
  {
   "cell_type": "code",
   "execution_count": 1,
   "id": "42339c4d",
   "metadata": {},
   "outputs": [],
   "source": [
    "%load_ext autoreload\n",
    "%autoreload 2\n",
    "import warnings\n",
    "warnings.filterwarnings(\"ignore\")"
   ]
  },
  {
   "cell_type": "code",
   "execution_count": 21,
   "id": "30013c89",
   "metadata": {},
   "outputs": [],
   "source": [
    "from springstone.data import get_data, get_missing_dates, create_train_test, create_df_for_prophet, download_model\n",
    "from springstone.utils import bollinger_bands, moving_average, prophet_preprocessing, prophet_non_business_days\n",
    "from springstone.utils import basic_recommendation, temp_data_predict\n",
    "import pandas as pd\n",
    "import numpy as np\n",
    "from prophet import Prophet\n",
    "from prophet.plot import plot_forecast_component_plotly\n",
    "from sklearn.metrics import mean_absolute_error, mean_absolute_percentage_error\n",
    "import joblib\n",
    "from termcolor import colored\n",
    "from springstone.utils import temp_data_predict\n",
    "from datetime import date, timedelta\n",
    "import holidays"
   ]
  },
  {
   "cell_type": "code",
   "execution_count": 14,
   "id": "4ca45021",
   "metadata": {},
   "outputs": [],
   "source": [
    "ticker = 'AAPL'"
   ]
  },
  {
   "cell_type": "code",
   "execution_count": 3,
   "id": "f9a9c04b",
   "metadata": {},
   "outputs": [
    {
     "name": "stdout",
     "output_type": "stream",
     "text": [
      "[*********************100%***********************]  1 of 1 completed\n"
     ]
    }
   ],
   "source": [
    "hist = get_data(ticker)"
   ]
  },
  {
   "cell_type": "code",
   "execution_count": 4,
   "id": "86ac5615",
   "metadata": {
    "scrolled": true
   },
   "outputs": [
    {
     "data": {
      "text/html": [
       "<div>\n",
       "<style scoped>\n",
       "    .dataframe tbody tr th:only-of-type {\n",
       "        vertical-align: middle;\n",
       "    }\n",
       "\n",
       "    .dataframe tbody tr th {\n",
       "        vertical-align: top;\n",
       "    }\n",
       "\n",
       "    .dataframe thead th {\n",
       "        text-align: right;\n",
       "    }\n",
       "</style>\n",
       "<table border=\"1\" class=\"dataframe\">\n",
       "  <thead>\n",
       "    <tr style=\"text-align: right;\">\n",
       "      <th></th>\n",
       "      <th>Open</th>\n",
       "      <th>High</th>\n",
       "      <th>Low</th>\n",
       "      <th>Close</th>\n",
       "      <th>Volume</th>\n",
       "    </tr>\n",
       "    <tr>\n",
       "      <th>Date</th>\n",
       "      <th></th>\n",
       "      <th></th>\n",
       "      <th></th>\n",
       "      <th></th>\n",
       "      <th></th>\n",
       "    </tr>\n",
       "  </thead>\n",
       "  <tbody>\n",
       "    <tr>\n",
       "      <th>2012-02-21</th>\n",
       "      <td>18.102858</td>\n",
       "      <td>18.387501</td>\n",
       "      <td>18.004286</td>\n",
       "      <td>18.387501</td>\n",
       "      <td>605595200</td>\n",
       "    </tr>\n",
       "    <tr>\n",
       "      <th>2012-02-22</th>\n",
       "      <td>18.324286</td>\n",
       "      <td>18.410357</td>\n",
       "      <td>18.181070</td>\n",
       "      <td>18.322857</td>\n",
       "      <td>483302400</td>\n",
       "    </tr>\n",
       "    <tr>\n",
       "      <th>2012-02-23</th>\n",
       "      <td>18.395714</td>\n",
       "      <td>18.493929</td>\n",
       "      <td>18.196428</td>\n",
       "      <td>18.442499</td>\n",
       "      <td>568027600</td>\n",
       "    </tr>\n",
       "    <tr>\n",
       "      <th>2012-02-24</th>\n",
       "      <td>18.559643</td>\n",
       "      <td>18.674999</td>\n",
       "      <td>18.522858</td>\n",
       "      <td>18.657499</td>\n",
       "      <td>415072000</td>\n",
       "    </tr>\n",
       "    <tr>\n",
       "      <th>2012-02-27</th>\n",
       "      <td>18.618214</td>\n",
       "      <td>18.875000</td>\n",
       "      <td>18.438572</td>\n",
       "      <td>18.777143</td>\n",
       "      <td>547582000</td>\n",
       "    </tr>\n",
       "    <tr>\n",
       "      <th>...</th>\n",
       "      <td>...</td>\n",
       "      <td>...</td>\n",
       "      <td>...</td>\n",
       "      <td>...</td>\n",
       "      <td>...</td>\n",
       "    </tr>\n",
       "    <tr>\n",
       "      <th>2022-02-14</th>\n",
       "      <td>167.369995</td>\n",
       "      <td>169.580002</td>\n",
       "      <td>166.559998</td>\n",
       "      <td>168.880005</td>\n",
       "      <td>86185500</td>\n",
       "    </tr>\n",
       "    <tr>\n",
       "      <th>2022-02-15</th>\n",
       "      <td>170.970001</td>\n",
       "      <td>172.949997</td>\n",
       "      <td>170.250000</td>\n",
       "      <td>172.789993</td>\n",
       "      <td>64286300</td>\n",
       "    </tr>\n",
       "    <tr>\n",
       "      <th>2022-02-16</th>\n",
       "      <td>171.850006</td>\n",
       "      <td>173.339996</td>\n",
       "      <td>170.050003</td>\n",
       "      <td>172.550003</td>\n",
       "      <td>61177400</td>\n",
       "    </tr>\n",
       "    <tr>\n",
       "      <th>2022-02-17</th>\n",
       "      <td>171.029999</td>\n",
       "      <td>171.910004</td>\n",
       "      <td>168.470001</td>\n",
       "      <td>168.880005</td>\n",
       "      <td>69589300</td>\n",
       "    </tr>\n",
       "    <tr>\n",
       "      <th>2022-02-18</th>\n",
       "      <td>169.820007</td>\n",
       "      <td>170.539993</td>\n",
       "      <td>166.190002</td>\n",
       "      <td>167.300003</td>\n",
       "      <td>82614200</td>\n",
       "    </tr>\n",
       "  </tbody>\n",
       "</table>\n",
       "<p>2518 rows × 5 columns</p>\n",
       "</div>"
      ],
      "text/plain": [
       "                  Open        High         Low       Close     Volume\n",
       "Date                                                                 \n",
       "2012-02-21   18.102858   18.387501   18.004286   18.387501  605595200\n",
       "2012-02-22   18.324286   18.410357   18.181070   18.322857  483302400\n",
       "2012-02-23   18.395714   18.493929   18.196428   18.442499  568027600\n",
       "2012-02-24   18.559643   18.674999   18.522858   18.657499  415072000\n",
       "2012-02-27   18.618214   18.875000   18.438572   18.777143  547582000\n",
       "...                ...         ...         ...         ...        ...\n",
       "2022-02-14  167.369995  169.580002  166.559998  168.880005   86185500\n",
       "2022-02-15  170.970001  172.949997  170.250000  172.789993   64286300\n",
       "2022-02-16  171.850006  173.339996  170.050003  172.550003   61177400\n",
       "2022-02-17  171.029999  171.910004  168.470001  168.880005   69589300\n",
       "2022-02-18  169.820007  170.539993  166.190002  167.300003   82614200\n",
       "\n",
       "[2518 rows x 5 columns]"
      ]
     },
     "execution_count": 4,
     "metadata": {},
     "output_type": "execute_result"
    }
   ],
   "source": [
    "hist"
   ]
  },
  {
   "cell_type": "code",
   "execution_count": 5,
   "id": "82e9a4d9",
   "metadata": {},
   "outputs": [],
   "source": [
    "df_prophet = prophet_preprocessing(hist, 'Close')"
   ]
  },
  {
   "cell_type": "code",
   "execution_count": 6,
   "id": "de7dcc96",
   "metadata": {},
   "outputs": [],
   "source": [
    "non_business_days_df = prophet_non_business_days(hist)"
   ]
  },
  {
   "cell_type": "code",
   "execution_count": 7,
   "id": "03958d1f",
   "metadata": {},
   "outputs": [],
   "source": [
    "df_train, df_test = create_train_test(df_prophet)"
   ]
  },
  {
   "cell_type": "code",
   "execution_count": null,
   "id": "2ef987fe",
   "metadata": {},
   "outputs": [],
   "source": [
    "df_train"
   ]
  },
  {
   "cell_type": "code",
   "execution_count": null,
   "id": "99f7b780",
   "metadata": {},
   "outputs": [],
   "source": [
    "df_test"
   ]
  },
  {
   "cell_type": "code",
   "execution_count": 8,
   "id": "2649bd37",
   "metadata": {
    "scrolled": true
   },
   "outputs": [
    {
     "name": "stderr",
     "output_type": "stream",
     "text": [
      "INFO:prophet:Disabling daily seasonality. Run prophet with daily_seasonality=True to override this.\n"
     ]
    },
    {
     "name": "stdout",
     "output_type": "stream",
     "text": [
      "Initial log joint probability = -80.3622\n"
     ]
    },
    {
     "data": {
      "text/plain": [
       "<prophet.forecaster.Prophet at 0x7ff803cd39a0>"
      ]
     },
     "execution_count": 8,
     "metadata": {},
     "output_type": "execute_result"
    },
    {
     "name": "stdout",
     "output_type": "stream",
     "text": [
      "    Iter      log prob        ||dx||      ||grad||       alpha      alpha0  # evals  Notes \n",
      "      99       7267.21     0.0517129       1160.68       1.166      0.1166      121   \n",
      "    Iter      log prob        ||dx||      ||grad||       alpha      alpha0  # evals  Notes \n",
      "     199       7303.37     0.0106924       456.687       2.431     0.02431      237   \n",
      "    Iter      log prob        ||dx||      ||grad||       alpha      alpha0  # evals  Notes \n",
      "     299       7311.95     0.0102775       774.401           1           1      352   \n",
      "    Iter      log prob        ||dx||      ||grad||       alpha      alpha0  # evals  Notes \n",
      "     399       7319.48    0.00887635       625.283      0.5338           1      477   \n",
      "    Iter      log prob        ||dx||      ||grad||       alpha      alpha0  # evals  Notes \n",
      "     499       7322.74   0.000563668       90.4905           1           1      602   \n",
      "    Iter      log prob        ||dx||      ||grad||       alpha      alpha0  # evals  Notes \n",
      "     538       7323.93   9.79002e-05       185.628   2.785e-07       0.001      690  LS failed, Hessian reset \n",
      "     599       7325.18   0.000190039       48.2001      0.4116           1      768   \n",
      "    Iter      log prob        ||dx||      ||grad||       alpha      alpha0  # evals  Notes \n",
      "     666       7325.62   0.000104385       156.073   1.342e-06       0.001      890  LS failed, Hessian reset \n",
      "     699        7325.7   1.20298e-05       43.4207      0.8594      0.8594      932   \n",
      "    Iter      log prob        ||dx||      ||grad||       alpha      alpha0  # evals  Notes \n",
      "     763       7325.93   4.29574e-05       99.2655   3.555e-07       0.001     1044  LS failed, Hessian reset \n",
      "     796       7326.05   2.68057e-05       58.2673   2.712e-07       0.001     1122  LS failed, Hessian reset \n",
      "     799       7326.05   2.58514e-05       40.0949           1           1     1127   \n",
      "    Iter      log prob        ||dx||      ||grad||       alpha      alpha0  # evals  Notes \n",
      "     847       7326.15   4.24063e-05       76.8997   2.697e-07       0.001     1232  LS failed, Hessian reset \n",
      "     899        7326.2   0.000389965       45.8139           1           1     1302   \n",
      "    Iter      log prob        ||dx||      ||grad||       alpha      alpha0  # evals  Notes \n",
      "     993        7327.2   6.82803e-05         132.8   4.694e-07       0.001     1459  LS failed, Hessian reset \n",
      "     999       7327.33   0.000247334       172.849      0.1692         0.9     1466   \n",
      "    Iter      log prob        ||dx||      ||grad||       alpha      alpha0  # evals  Notes \n",
      "    1021       7327.48    4.0273e-05       85.5004   3.564e-07       0.001     1533  LS failed, Hessian reset \n",
      "    1072       7327.57    9.8518e-05       129.267   1.442e-06       0.001     1637  LS failed, Hessian reset \n",
      "    1099        7327.6   1.41224e-05       62.0958      0.9008      0.9008     1680   \n",
      "    Iter      log prob        ||dx||      ||grad||       alpha      alpha0  # evals  Notes \n",
      "    1107        7327.6    2.6407e-05       54.7388   4.753e-07       0.001     1729  LS failed, Hessian reset \n",
      "    1123        7327.6   4.07919e-06       54.2269   6.217e-08       0.001     1797  LS failed, Hessian reset \n",
      "    1133        7327.6   4.53854e-07       37.5042           1           1     1811   \n",
      "Optimization terminated normally: \n",
      "  Convergence detected: relative gradient magnitude is below tolerance\n"
     ]
    }
   ],
   "source": [
    "m_prophet = Prophet(holidays=non_business_days_df)\n",
    "m_prophet.fit(df_train)"
   ]
  },
  {
   "cell_type": "code",
   "execution_count": 9,
   "id": "f207cc56",
   "metadata": {},
   "outputs": [
    {
     "name": "stdout",
     "output_type": "stream",
     "text": [
      "\u001b[32mmodel.joblib saved locally\u001b[0m\n"
     ]
    }
   ],
   "source": [
    "joblib.dump(m_prophet, 'model_prophet_AAPL.joblib')"
   ]
  },
  {
   "cell_type": "code",
   "execution_count": 20,
   "id": "51527d33",
   "metadata": {},
   "outputs": [
    {
     "name": "stdout",
     "output_type": "stream",
     "text": [
      "[*********************100%***********************]  1 of 1 completed\n"
     ]
    },
    {
     "data": {
      "text/plain": [
       "'Buy recommendation'"
      ]
     },
     "execution_count": 20,
     "metadata": {},
     "output_type": "execute_result"
    }
   ],
   "source": [
    "basic_recommendation(ticker)"
   ]
  },
  {
   "cell_type": "code",
   "execution_count": null,
   "id": "8b15b86c",
   "metadata": {},
   "outputs": [],
   "source": [
    "n_days_prediction=1\n",
    "future = pipeline.make_future_dataframe(periods=n_days_prediction)\n",
    "future"
   ]
  },
  {
   "cell_type": "code",
   "execution_count": null,
   "id": "96af446d",
   "metadata": {
    "scrolled": true
   },
   "outputs": [],
   "source": [
    "forecast = pipeline.predict(future)"
   ]
  },
  {
   "cell_type": "code",
   "execution_count": null,
   "id": "1d7fe0e0",
   "metadata": {},
   "outputs": [],
   "source": [
    "forecast[['ds', 'yhat', 'yhat_lower', 'yhat_upper', 'non business day']]"
   ]
  },
  {
   "cell_type": "code",
   "execution_count": null,
   "id": "5b7a81f2",
   "metadata": {},
   "outputs": [],
   "source": [
    "m_prophet.plot(forecast);"
   ]
  },
  {
   "cell_type": "code",
   "execution_count": null,
   "id": "290ad240",
   "metadata": {},
   "outputs": [],
   "source": [
    "m_prophet.plot_components(forecast);"
   ]
  },
  {
   "cell_type": "code",
   "execution_count": null,
   "id": "65b040c3",
   "metadata": {
    "scrolled": true
   },
   "outputs": [],
   "source": [
    "#plot_forecast_component_plotly(m_prophet, forecast, 'non business day')"
   ]
  },
  {
   "cell_type": "code",
   "execution_count": null,
   "id": "fc4b9397",
   "metadata": {},
   "outputs": [],
   "source": [
    "forecast = forecast[- n_days_prediction:][['ds', 'yhat', 'yhat_lower', 'yhat_upper', 'non business day']]"
   ]
  },
  {
   "cell_type": "code",
   "execution_count": null,
   "id": "739eaeec",
   "metadata": {},
   "outputs": [],
   "source": [
    "forecast"
   ]
  },
  {
   "cell_type": "code",
   "execution_count": null,
   "id": "eac4b628",
   "metadata": {},
   "outputs": [],
   "source": [
    "df_test[:n_days_prediction]"
   ]
  },
  {
   "cell_type": "code",
   "execution_count": null,
   "id": "c3592edd",
   "metadata": {},
   "outputs": [],
   "source": [
    "mae_prophet = mean_absolute_error(df_test[:n_days_prediction]['y'], forecast['yhat'])\n",
    "mape_prophet = mean_absolute_percentage_error(df_test[:n_days_prediction]['y'], forecast['yhat'])\n",
    "print(f'MAE: {mae_prophet}')\n",
    "pbrint(f'MAPE: {mape_prophet}')"
   ]
  },
  {
   "cell_type": "code",
   "execution_count": null,
   "id": "8423fda6",
   "metadata": {},
   "outputs": [],
   "source": [
    "future = pd.DataFrame({'ds': [date(2020, 2, 20)]})\n",
    "forecast = pipeline.predict(future)\n",
    "y_predict = forecast[-1:]#['yhat']\n",
    "y_predict"
   ]
  },
  {
   "cell_type": "code",
   "execution_count": null,
   "id": "ab39eb53",
   "metadata": {},
   "outputs": [],
   "source": [
    "hist = get_data(ticker)\n",
    "hist_predict = hist[-40:]\n",
    "hist_predict.loc['predict'] = [0, 0, 0, y_predict, 0]\n",
    "hist_predict = bollinger_bands(hist_predict, 'Close', 20, 2)\n",
    "hist_predict = bollinger_bands(hist_predict, 'Close', 20, -2)\n",
    "hist_predict = moving_average(hist_predict, 'Close', 7)\n",
    "list_temp = hist_predict[-1:].values.to_dict('list')"
   ]
  },
  {
   "cell_type": "code",
   "execution_count": 22,
   "id": "03aaf6a2",
   "metadata": {},
   "outputs": [],
   "source": [
    "us_holidays = holidays.US()"
   ]
  },
  {
   "cell_type": "code",
   "execution_count": 26,
   "id": "0d4e0785",
   "metadata": {},
   "outputs": [
    {
     "data": {
      "text/plain": [
       "[datetime.date(2022, 1, 1),\n",
       " datetime.date(2022, 1, 17),\n",
       " datetime.date(2022, 2, 21),\n",
       " datetime.date(2022, 5, 30),\n",
       " datetime.date(2022, 6, 19),\n",
       " datetime.date(2022, 6, 20),\n",
       " datetime.date(2022, 7, 4),\n",
       " datetime.date(2022, 9, 5),\n",
       " datetime.date(2022, 10, 10),\n",
       " datetime.date(2022, 11, 11),\n",
       " datetime.date(2022, 11, 24),\n",
       " datetime.date(2022, 12, 25),\n",
       " datetime.date(2022, 12, 26)]"
      ]
     },
     "execution_count": 26,
     "metadata": {},
     "output_type": "execute_result"
    }
   ],
   "source": [
    "us_holidays['2022-01-01': '2022-12-31']"
   ]
  }
 ],
 "metadata": {
  "kernelspec": {
   "display_name": "Python 3 (ipykernel)",
   "language": "python",
   "name": "python3"
  },
  "language_info": {
   "codemirror_mode": {
    "name": "ipython",
    "version": 3
   },
   "file_extension": ".py",
   "mimetype": "text/x-python",
   "name": "python",
   "nbconvert_exporter": "python",
   "pygments_lexer": "ipython3",
   "version": "3.8.12"
  },
  "toc": {
   "base_numbering": 1,
   "nav_menu": {},
   "number_sections": true,
   "sideBar": true,
   "skip_h1_title": false,
   "title_cell": "Table of Contents",
   "title_sidebar": "Contents",
   "toc_cell": false,
   "toc_position": {
    "height": "calc(100% - 180px)",
    "left": "10px",
    "top": "150px",
    "width": "272.7px"
   },
   "toc_section_display": true,
   "toc_window_display": true
  }
 },
 "nbformat": 4,
 "nbformat_minor": 5
}
