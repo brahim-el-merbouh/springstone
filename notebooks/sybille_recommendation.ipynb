{
 "cells": [
  {
   "cell_type": "code",
   "execution_count": 1,
   "id": "87743ae5",
   "metadata": {},
   "outputs": [],
   "source": [
    "## pip install -e .\n",
    "%load_ext autoreload\n",
    "%autoreload 2"
   ]
  },
  {
   "cell_type": "code",
   "execution_count": 2,
   "id": "520be5c6",
   "metadata": {},
   "outputs": [],
   "source": [
    "from springstone.data import get_data\n",
    "from springstone.utils import bollinger_bands, moving_average\n",
    "import pandas as pd"
   ]
  },
  {
   "cell_type": "code",
   "execution_count": 3,
   "id": "076973e4",
   "metadata": {},
   "outputs": [
    {
     "name": "stdout",
     "output_type": "stream",
     "text": [
      "[*********************100%***********************]  1 of 1 completed\n"
     ]
    }
   ],
   "source": [
    "hist = get_data('TSLA')\n",
    "#hist = bollinger_bands(hist, 'Close', 20)\n",
    "#hist = moving_average(hist, 'Close', 7)"
   ]
  },
  {
   "cell_type": "code",
   "execution_count": 4,
   "id": "7e1a01fc",
   "metadata": {},
   "outputs": [
    {
     "data": {
      "text/html": [
       "<div>\n",
       "<style scoped>\n",
       "    .dataframe tbody tr th:only-of-type {\n",
       "        vertical-align: middle;\n",
       "    }\n",
       "\n",
       "    .dataframe tbody tr th {\n",
       "        vertical-align: top;\n",
       "    }\n",
       "\n",
       "    .dataframe thead th {\n",
       "        text-align: right;\n",
       "    }\n",
       "</style>\n",
       "<table border=\"1\" class=\"dataframe\">\n",
       "  <thead>\n",
       "    <tr style=\"text-align: right;\">\n",
       "      <th></th>\n",
       "      <th>Open</th>\n",
       "      <th>High</th>\n",
       "      <th>Low</th>\n",
       "      <th>Close</th>\n",
       "      <th>Volume</th>\n",
       "    </tr>\n",
       "    <tr>\n",
       "      <th>Date</th>\n",
       "      <th></th>\n",
       "      <th></th>\n",
       "      <th></th>\n",
       "      <th></th>\n",
       "      <th></th>\n",
       "    </tr>\n",
       "  </thead>\n",
       "  <tbody>\n",
       "    <tr>\n",
       "      <th>2012-02-21</th>\n",
       "      <td>6.974000</td>\n",
       "      <td>6.974000</td>\n",
       "      <td>6.762000</td>\n",
       "      <td>6.900000</td>\n",
       "      <td>5679000</td>\n",
       "    </tr>\n",
       "    <tr>\n",
       "      <th>2012-02-22</th>\n",
       "      <td>6.900000</td>\n",
       "      <td>6.944000</td>\n",
       "      <td>6.500000</td>\n",
       "      <td>6.844000</td>\n",
       "      <td>8273000</td>\n",
       "    </tr>\n",
       "    <tr>\n",
       "      <th>2012-02-23</th>\n",
       "      <td>6.798000</td>\n",
       "      <td>6.994000</td>\n",
       "      <td>6.712000</td>\n",
       "      <td>6.906000</td>\n",
       "      <td>4102000</td>\n",
       "    </tr>\n",
       "    <tr>\n",
       "      <th>2012-02-24</th>\n",
       "      <td>6.846000</td>\n",
       "      <td>6.904000</td>\n",
       "      <td>6.654000</td>\n",
       "      <td>6.750000</td>\n",
       "      <td>4799500</td>\n",
       "    </tr>\n",
       "    <tr>\n",
       "      <th>2012-02-27</th>\n",
       "      <td>6.682000</td>\n",
       "      <td>6.800000</td>\n",
       "      <td>6.600000</td>\n",
       "      <td>6.724000</td>\n",
       "      <td>3030000</td>\n",
       "    </tr>\n",
       "    <tr>\n",
       "      <th>...</th>\n",
       "      <td>...</td>\n",
       "      <td>...</td>\n",
       "      <td>...</td>\n",
       "      <td>...</td>\n",
       "      <td>...</td>\n",
       "    </tr>\n",
       "    <tr>\n",
       "      <th>2022-02-14</th>\n",
       "      <td>861.570007</td>\n",
       "      <td>898.880005</td>\n",
       "      <td>853.150024</td>\n",
       "      <td>875.760010</td>\n",
       "      <td>22585500</td>\n",
       "    </tr>\n",
       "    <tr>\n",
       "      <th>2022-02-15</th>\n",
       "      <td>900.000000</td>\n",
       "      <td>923.000000</td>\n",
       "      <td>893.380005</td>\n",
       "      <td>922.429993</td>\n",
       "      <td>19216500</td>\n",
       "    </tr>\n",
       "    <tr>\n",
       "      <th>2022-02-16</th>\n",
       "      <td>914.049988</td>\n",
       "      <td>926.429993</td>\n",
       "      <td>901.210022</td>\n",
       "      <td>923.390015</td>\n",
       "      <td>17098100</td>\n",
       "    </tr>\n",
       "    <tr>\n",
       "      <th>2022-02-17</th>\n",
       "      <td>913.260010</td>\n",
       "      <td>918.500000</td>\n",
       "      <td>874.099976</td>\n",
       "      <td>876.349976</td>\n",
       "      <td>18392800</td>\n",
       "    </tr>\n",
       "    <tr>\n",
       "      <th>2022-02-18</th>\n",
       "      <td>886.000000</td>\n",
       "      <td>886.869995</td>\n",
       "      <td>837.609985</td>\n",
       "      <td>856.979980</td>\n",
       "      <td>22710500</td>\n",
       "    </tr>\n",
       "  </tbody>\n",
       "</table>\n",
       "<p>2518 rows × 5 columns</p>\n",
       "</div>"
      ],
      "text/plain": [
       "                  Open        High         Low       Close    Volume\n",
       "Date                                                                \n",
       "2012-02-21    6.974000    6.974000    6.762000    6.900000   5679000\n",
       "2012-02-22    6.900000    6.944000    6.500000    6.844000   8273000\n",
       "2012-02-23    6.798000    6.994000    6.712000    6.906000   4102000\n",
       "2012-02-24    6.846000    6.904000    6.654000    6.750000   4799500\n",
       "2012-02-27    6.682000    6.800000    6.600000    6.724000   3030000\n",
       "...                ...         ...         ...         ...       ...\n",
       "2022-02-14  861.570007  898.880005  853.150024  875.760010  22585500\n",
       "2022-02-15  900.000000  923.000000  893.380005  922.429993  19216500\n",
       "2022-02-16  914.049988  926.429993  901.210022  923.390015  17098100\n",
       "2022-02-17  913.260010  918.500000  874.099976  876.349976  18392800\n",
       "2022-02-18  886.000000  886.869995  837.609985  856.979980  22710500\n",
       "\n",
       "[2518 rows x 5 columns]"
      ]
     },
     "execution_count": 4,
     "metadata": {},
     "output_type": "execute_result"
    }
   ],
   "source": [
    "hist"
   ]
  },
  {
   "cell_type": "code",
   "execution_count": 42,
   "id": "89d6b03d",
   "metadata": {},
   "outputs": [],
   "source": [
    "#y_predict = 500\n",
    "#ticker = 'TSLA'"
   ]
  },
  {
   "cell_type": "code",
   "execution_count": 43,
   "id": "7efcb5fa",
   "metadata": {},
   "outputs": [],
   "source": [
    "def temp_data_predict(ticker, y_predict):\n",
    "    hist = get_data(ticker)\n",
    "    hist_predict = hist[-40:]\n",
    "    hist_predict.loc['predict'] = [0,0,0,y_predict,0]\n",
    "    hist_predict = bollinger_bands(hist_predict, 'Close', 20, 2)\n",
    "    hist_predict = bollinger_bands(hist_predict, 'Close', 20, -2)\n",
    "    hist_predict = moving_average(hist_predict, 'Close', 7)\n",
    "    list_temp = hist_predict[-1:].values\n",
    "    list_temp = list_temp[0][3:8].tolist()\n",
    "    list_temp.remove(0.0)\n",
    "    return list_temp"
   ]
  },
  {
   "cell_type": "code",
   "execution_count": 44,
   "id": "bf2601ba",
   "metadata": {},
   "outputs": [
    {
     "name": "stdout",
     "output_type": "stream",
     "text": [
      "[*********************100%***********************]  1 of 1 completed\n"
     ]
    },
    {
     "name": "stderr",
     "output_type": "stream",
     "text": [
      "/var/folders/f2/tglfr7k94vd0g54hvnb1lw0h0000gn/T/ipykernel_95261/2981763310.py:4: SettingWithCopyWarning: \n",
      "A value is trying to be set on a copy of a slice from a DataFrame\n",
      "\n",
      "See the caveats in the documentation: https://pandas.pydata.org/pandas-docs/stable/user_guide/indexing.html#returning-a-view-versus-a-copy\n",
      "  hist_predict.loc['predict'] = [0,0,0,y_predict,0]\n"
     ]
    },
    {
     "data": {
      "text/plain": [
       "[300.0, 1146.0173627195413, 593.9976275148338, 802.1299961635044]"
      ]
     },
     "execution_count": 44,
     "metadata": {},
     "output_type": "execute_result"
    }
   ],
   "source": [
    "temp_data_predict(ticker, 300)"
   ]
  },
  {
   "cell_type": "code",
   "execution_count": 35,
   "id": "f595e513",
   "metadata": {},
   "outputs": [],
   "source": [
    "###### BB info ########\n",
    "##When the price of the asset breaks below the lower band of the Bollinger Bands®, \n",
    "##prices have perhaps fallen too much and are due to bounce. \n",
    "##On the other hand, when price breaks above the upper band, \n",
    "##the market is perhaps overbought and due for a pullback.\n",
    "##A tag of the lower Bollinger Band® is not in and of itself a buy signal.\n",
    "##Price often can and does \"walk the band.\" In those markets, traders who continuously try to \"sell the top\" or \"buy the bottom\" are faced with an excruciating series of stop-outs, \n",
    "##or even worse, ever-mounting losses as price moves further and further away from the original entry.\n",
    "\n",
    "## Strategy 2\n",
    "##At the core, Bollinger Bands® measure deviation, which is why the indicator can be very helpful in diagnosing trend. \n",
    "##By generating two sets of Bollinger Bands®, one set using the parameter of \"one standard deviation\" \n",
    "##and the other using the typical setting of \"two standard deviations,\" we can look at price in a whole new way. We will call this Bollinger Band® \"bands.\"\n",
    "\n",
    "##Source: https://www.investopedia.com/trading/using-bollinger-bands-to-gauge-trends/"
   ]
  },
  {
   "cell_type": "code",
   "execution_count": 36,
   "id": "5c734e75",
   "metadata": {},
   "outputs": [],
   "source": [
    "###### MA info ########\n",
    "# Baseline strategy\n",
    "## Recall that, as a general guideline, when the price is above a moving average, the trend is considered up. \n",
    "## So when the price drops below that moving average, it signals a potential reversal based on that MA\n",
    "\n",
    "# Strategy 2\n",
    "##Trading Strategies: Crossovers\n",
    "##Crossovers are one of the main moving average strategies. \n",
    "## The first type is a price crossover, which is when the price crosses above or below a moving average to signal a potential change in trend\n",
    "\n",
    "# Strategy 3\n",
    "## Another strategy is to apply two moving averages to a chart: \n",
    "##one longer and one shorter. When the shorter-term MA crosses above the longer-term MA, it's a buy signal,\n",
    "##as it indicates that the trend is shifting up. \n",
    "## This is known as a \"golden cross.\" \n",
    "##Meanwhile, when the shorter-term MA crosses below the longer-term MA, it's a sell signal, as it indicates that the trend is shifting down. \n",
    "##This is known as a \"dead/death cross.\"\n",
    "\n",
    "##Source: https://www.investopedia.com/articles/active-trading/052014/how-use-moving-average-buy-stocks.asp"
   ]
  },
  {
   "cell_type": "code",
   "execution_count": 45,
   "id": "1eefd0ec",
   "metadata": {},
   "outputs": [],
   "source": [
    "# Baseline strategy implemented\n",
    "def basic_recommendation(ticker, y_predict):\n",
    "    list_temp = temp_data_predict(ticker, y_predict) \n",
    "    if y_predict > list_temp[1]:\n",
    "        if y_predict < list_temp[3]:\n",
    "            return \"Strong sell recommendation\"\n",
    "        else:\n",
    "            return \"Sell recommendation\"\n",
    "    if y_predict < list_temp[2]:\n",
    "        if y_predict > list_temp[3]:\n",
    "            return \"Strong buy recommendation\"\n",
    "        else:\n",
    "            return \"Buy recommendation\"\n",
    "    else:\n",
    "        return \"Hold\""
   ]
  },
  {
   "cell_type": "code",
   "execution_count": 46,
   "id": "60fcba57",
   "metadata": {},
   "outputs": [
    {
     "name": "stdout",
     "output_type": "stream",
     "text": [
      "[*********************100%***********************]  1 of 1 completed\n"
     ]
    },
    {
     "name": "stderr",
     "output_type": "stream",
     "text": [
      "/var/folders/f2/tglfr7k94vd0g54hvnb1lw0h0000gn/T/ipykernel_95261/2981763310.py:4: SettingWithCopyWarning: \n",
      "A value is trying to be set on a copy of a slice from a DataFrame\n",
      "\n",
      "See the caveats in the documentation: https://pandas.pydata.org/pandas-docs/stable/user_guide/indexing.html#returning-a-view-versus-a-copy\n",
      "  hist_predict.loc['predict'] = [0,0,0,y_predict,0]\n"
     ]
    },
    {
     "data": {
      "text/plain": [
       "'Buy recommendation'"
      ]
     },
     "execution_count": 46,
     "metadata": {},
     "output_type": "execute_result"
    }
   ],
   "source": [
    "basic_recommendation('TSLA',300)"
   ]
  },
  {
   "cell_type": "code",
   "execution_count": 26,
   "id": "e6573e86",
   "metadata": {},
   "outputs": [
    {
     "ename": "NameError",
     "evalue": "name 'y_predict' is not defined",
     "output_type": "error",
     "traceback": [
      "\u001b[0;31m---------------------------------------------------------------------------\u001b[0m",
      "\u001b[0;31mNameError\u001b[0m                                 Traceback (most recent call last)",
      "Input \u001b[0;32mIn [26]\u001b[0m, in \u001b[0;36m<module>\u001b[0;34m\u001b[0m\n\u001b[0;32m----> 1\u001b[0m basic_recommendation(\u001b[38;5;241m*\u001b[39mtemp_data_predict(hist, \u001b[43my_predict\u001b[49m))\n",
      "\u001b[0;31mNameError\u001b[0m: name 'y_predict' is not defined"
     ]
    }
   ],
   "source": [
    "#basic_recommendation(*temp_data_predict(hist, y_predict))"
   ]
  },
  {
   "cell_type": "code",
   "execution_count": null,
   "id": "ee625f6c",
   "metadata": {},
   "outputs": [],
   "source": []
  }
 ],
 "metadata": {
  "kernelspec": {
   "display_name": "Python 3 (ipykernel)",
   "language": "python",
   "name": "python3"
  },
  "language_info": {
   "codemirror_mode": {
    "name": "ipython",
    "version": 3
   },
   "file_extension": ".py",
   "mimetype": "text/x-python",
   "name": "python",
   "nbconvert_exporter": "python",
   "pygments_lexer": "ipython3",
   "version": "3.8.12"
  },
  "toc": {
   "base_numbering": 1,
   "nav_menu": {},
   "number_sections": true,
   "sideBar": true,
   "skip_h1_title": false,
   "title_cell": "Table of Contents",
   "title_sidebar": "Contents",
   "toc_cell": false,
   "toc_position": {},
   "toc_section_display": true,
   "toc_window_display": false
  }
 },
 "nbformat": 4,
 "nbformat_minor": 5
}
