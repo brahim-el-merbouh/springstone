{
 "cells": [
  {
   "cell_type": "markdown",
   "id": "369f1233",
   "metadata": {},
   "source": [
    "# Plot Functions"
   ]
  },
  {
   "cell_type": "code",
   "execution_count": 12,
   "id": "07eefb3c",
   "metadata": {},
   "outputs": [
    {
     "name": "stdout",
     "output_type": "stream",
     "text": [
      "The autoreload extension is already loaded. To reload it, use:\n",
      "  %reload_ext autoreload\n"
     ]
    }
   ],
   "source": [
    "# imports \n",
    "\n",
    "import numpy as np\n",
    "import matplotlib.pyplot as plt\n",
    "import pandas as pd\n",
    "import seaborn as sns\n",
    "import yfinance as yf\n",
    "from pandas_datareader import data as pdr\n",
    "from datetime import datetime\n",
    "from springstone.utils import basic_recommendation\n",
    "%load_ext autoreload\n",
    "%autoreload 2"
   ]
  },
  {
   "cell_type": "code",
   "execution_count": 27,
   "id": "134f861a",
   "metadata": {},
   "outputs": [
    {
     "name": "stdout",
     "output_type": "stream",
     "text": [
      "aiobotocore==2.1.1\r\n",
      "aiohttp==3.8.1\r\n",
      "aioitertools==0.10.0\r\n",
      "aiosignal==1.2.0\r\n",
      "alembic==1.7.6\r\n",
      "altair==4.2.0\r\n",
      "anyio==3.5.0\r\n",
      "appnope==0.1.2\r\n",
      "argon2-cffi==21.3.0\r\n",
      "argon2-cffi-bindings==21.2.0\r\n",
      "astor==0.8.1\r\n",
      "astroid==2.9.3\r\n",
      "asttokens==2.0.5\r\n",
      "async-timeout==4.0.2\r\n",
      "attrs==21.4.0\r\n",
      "Babel==2.9.1\r\n",
      "backcall==0.2.0\r\n",
      "backports.zoneinfo==0.2.1\r\n",
      "base58==2.1.1\r\n",
      "black==22.1.0\r\n",
      "bleach==4.1.0\r\n",
      "blinker==1.4\r\n",
      "botocore==1.23.24\r\n",
      "bpemb==0.3.3\r\n",
      "cachetools==5.0.0\r\n",
      "certifi==2021.10.8\r\n",
      "cffi==1.15.0\r\n",
      "charset-normalizer==2.0.12\r\n",
      "click==8.0.3\r\n",
      "cloudpickle==2.0.0\r\n",
      "cmdstanpy==0.9.68\r\n",
      "colorama==0.4.4\r\n",
      "conllu==4.4.1\r\n",
      "convertdate==2.4.0\r\n",
      "coverage==6.3.2\r\n",
      "cycler==0.11.0\r\n",
      "Cython==0.29.28\r\n",
      "databricks-cli==0.16.4\r\n",
      "debugpy==1.5.1\r\n",
      "decorator==5.1.1\r\n",
      "defusedxml==0.7.1\r\n",
      "Deprecated==1.2.13\r\n",
      "docker==5.0.3\r\n",
      "docutils==0.18.1\r\n",
      "entrypoints==0.4\r\n",
      "ephem==4.1.3\r\n",
      "executing==0.8.2\r\n",
      "filelock==3.6.0\r\n",
      "flair==0.10\r\n",
      "flake8==4.0.1\r\n",
      "Flask==2.0.3\r\n",
      "fonttools==4.29.1\r\n",
      "frozenlist==1.3.0\r\n",
      "fsspec==2022.2.0\r\n",
      "ftfy==6.1.1\r\n",
      "gcsfs==2022.2.0\r\n",
      "gdown==3.12.2\r\n",
      "gensim==4.1.2\r\n",
      "gitdb==4.0.9\r\n",
      "GitPython==3.1.27\r\n",
      "google-api-core==2.6.0\r\n",
      "google-auth==2.6.0\r\n",
      "google-auth-oauthlib==0.5.0\r\n",
      "google-cloud-core==2.2.2\r\n",
      "google-cloud-storage==2.1.0\r\n",
      "google-crc32c==1.3.0\r\n",
      "google-resumable-media==2.3.1\r\n",
      "googleapis-common-protos==1.55.0\r\n",
      "greenlet==1.1.2\r\n",
      "gunicorn==20.1.0\r\n",
      "hijri-converter==2.2.3\r\n",
      "holidays==0.13\r\n",
      "huggingface-hub==0.4.0\r\n",
      "idna==3.3\r\n",
      "importlib-metadata==3.10.1\r\n",
      "importlib-resources==5.4.0\r\n",
      "iniconfig==1.1.1\r\n",
      "ipdb==0.13.9\r\n",
      "ipykernel==6.9.1\r\n",
      "ipython==8.0.1\r\n",
      "ipython-genutils==0.2.0\r\n",
      "ipywidgets==7.6.5\r\n",
      "isort==5.10.1\r\n",
      "itsdangerous==2.1.0\r\n",
      "Janome==0.4.2\r\n",
      "jedi==0.18.1\r\n",
      "Jinja2==3.0.3\r\n",
      "jmespath==0.10.0\r\n",
      "joblib==1.1.0\r\n",
      "json5==0.9.6\r\n",
      "jsonschema==4.4.0\r\n",
      "jupyter-client==7.1.2\r\n",
      "jupyter-core==4.9.2\r\n",
      "jupyter-server==1.13.5\r\n",
      "jupyterlab==3.2.9\r\n",
      "jupyterlab-pygments==0.1.2\r\n",
      "jupyterlab-server==2.10.3\r\n",
      "jupyterlab-widgets==1.0.2\r\n",
      "keyring==23.5.0\r\n",
      "kiwisolver==1.3.2\r\n",
      "konoha==4.6.5\r\n",
      "korean-lunar-calendar==0.2.1\r\n",
      "langdetect==1.0.9\r\n",
      "lazy-object-proxy==1.7.1\r\n",
      "LunarCalendar==0.0.9\r\n",
      "lxml==4.8.0\r\n",
      "Mako==1.1.6\r\n",
      "MarkupSafe==2.0.1\r\n",
      "matplotlib==3.5.1\r\n",
      "matplotlib-inline==0.1.3\r\n",
      "mccabe==0.6.1\r\n",
      "memoized-property==1.0.3\r\n",
      "mistune==0.8.4\r\n",
      "mlflow==1.24.0\r\n",
      "more-itertools==8.8.0\r\n",
      "mpld3==0.3\r\n",
      "multidict==6.0.2\r\n",
      "multitasking==0.0.10\r\n",
      "mypy-extensions==0.4.3\r\n",
      "nbclassic==0.3.5\r\n",
      "nbclient==0.5.11\r\n",
      "nbconvert==6.4.2\r\n",
      "nbformat==5.1.3\r\n",
      "nest-asyncio==1.5.4\r\n",
      "notebook==6.4.8\r\n",
      "numpy==1.22.2\r\n",
      "oauthlib==3.2.0\r\n",
      "overrides==3.1.0\r\n",
      "packaging==21.3\r\n",
      "pandas==1.4.1\r\n",
      "pandas-datareader==0.10.0\r\n",
      "pandocfilters==1.5.0\r\n",
      "parso==0.8.3\r\n",
      "pathspec==0.9.0\r\n",
      "pexpect==4.8.0\r\n",
      "pickleshare==0.7.5\r\n",
      "Pillow==9.0.1\r\n",
      "pkginfo==1.8.2\r\n",
      "platformdirs==2.5.0\r\n",
      "plotly==5.6.0\r\n",
      "pluggy==1.0.0\r\n",
      "prometheus-client==0.13.1\r\n",
      "prometheus-flask-exporter==0.18.7\r\n",
      "prompt-toolkit==3.0.28\r\n",
      "prophet==1.0.1\r\n",
      "protobuf==3.19.4\r\n",
      "ptyprocess==0.7.0\r\n",
      "pure-eval==0.2.2\r\n",
      "py==1.11.0\r\n",
      "pyarrow==7.0.0\r\n",
      "pyasn1==0.4.8\r\n",
      "pyasn1-modules==0.2.8\r\n",
      "pycodestyle==2.8.0\r\n",
      "pycparser==2.21\r\n",
      "pydeck==0.7.1\r\n",
      "pyflakes==2.4.0\r\n",
      "Pygments==2.11.2\r\n",
      "pylint==2.12.2\r\n",
      "PyMeeus==0.5.11\r\n",
      "Pympler==1.0.1\r\n",
      "pyparsing==3.0.7\r\n",
      "pyrsistent==0.18.1\r\n",
      "PySocks==1.7.1\r\n",
      "pystan==2.19.1.1\r\n",
      "pytest==7.0.1\r\n",
      "python-dateutil==2.8.2\r\n",
      "pytz==2021.3\r\n",
      "pytz-deprecation-shim==0.1.0.post0\r\n",
      "PyYAML==6.0\r\n",
      "pyzmq==22.3.0\r\n",
      "querystring-parser==1.2.4\r\n",
      "readme-renderer==32.0\r\n",
      "regex==2022.3.2\r\n",
      "requests==2.27.1\r\n",
      "requests-oauthlib==1.3.1\r\n",
      "requests-toolbelt==0.9.1\r\n",
      "rfc3986==2.0.0\r\n",
      "rsa==4.8\r\n",
      "s3fs==2022.2.0\r\n",
      "sacremoses==0.0.47\r\n",
      "scikit-learn==1.0.2\r\n",
      "scipy==1.8.0\r\n",
      "seaborn==0.11.2\r\n",
      "segtok==1.5.11\r\n",
      "Send2Trash==1.8.0\r\n",
      "sentencepiece==0.1.95\r\n",
      "setuptools-git==1.2\r\n",
      "six==1.16.0\r\n",
      "smart-open==5.2.1\r\n",
      "smmap==5.0.0\r\n",
      "sniffio==1.2.0\r\n",
      "-e git+ssh://git@github.com/brahim-el-merbouh/springstone.git@eda4eaf5bf4b70e85ccf20b6c9e579047a261e80#egg=springstone\r\n",
      "SQLAlchemy==1.4.31\r\n",
      "sqlitedict==1.7.0\r\n",
      "sqlparse==0.4.2\r\n",
      "stack-data==0.2.0\r\n",
      "streamlit==1.5.1\r\n",
      "tabulate==0.8.9\r\n",
      "tenacity==8.0.1\r\n",
      "termcolor==1.1.0\r\n",
      "terminado==0.13.1\r\n",
      "testpath==0.5.0\r\n",
      "threadpoolctl==3.1.0\r\n",
      "tokenizers==0.11.6\r\n",
      "toml==0.10.2\r\n",
      "tomli==2.0.1\r\n",
      "toolz==0.11.2\r\n",
      "torch==1.10.2\r\n",
      "tornado==6.1\r\n",
      "tqdm==4.63.0\r\n",
      "traitlets==5.1.1\r\n",
      "transformers==4.17.0\r\n",
      "twine==3.8.0\r\n",
      "typing_extensions==4.1.1\r\n",
      "tzdata==2021.5\r\n",
      "tzlocal==4.1\r\n",
      "ujson==5.1.0\r\n",
      "urllib3==1.26.8\r\n",
      "validators==0.18.2\r\n",
      "watchdog==2.1.6\r\n",
      "wcwidth==0.2.5\r\n",
      "webencodings==0.5.1\r\n",
      "websocket-client==1.2.3\r\n",
      "Werkzeug==2.0.3\r\n",
      "widgetsnbextension==3.5.2\r\n",
      "Wikipedia-API==0.5.4\r\n",
      "wrapt==1.13.3\r\n",
      "yapf==0.32.0\r\n",
      "yarl==1.7.2\r\n",
      "yfinance==0.1.70\r\n",
      "zipp==3.7.0\r\n"
     ]
    }
   ],
   "source": [
    "!pip freeze flair"
   ]
  },
  {
   "cell_type": "code",
   "execution_count": 24,
   "id": "708211ff",
   "metadata": {},
   "outputs": [
    {
     "name": "stdout",
     "output_type": "stream",
     "text": [
      "/Users/mohitsibal/code/msibal1/springstone/notebooks\n"
     ]
    }
   ],
   "source": [
    "cd /Users/mohitsibal/code/msibal1/springstone/notebooks"
   ]
  },
  {
   "cell_type": "code",
   "execution_count": 25,
   "id": "535c9bfb",
   "metadata": {},
   "outputs": [
    {
     "name": "stderr",
     "output_type": "stream",
     "text": [
      "WARNING:pystan:No module named 'stanfit4anon_model_dfdaf2b8ece8a02eb11f050ec701c0ec_4734897884442727334'\n",
      "WARNING:pystan:Something went wrong while unpickling the StanModel. Consider recompiling.\n",
      "/Users/mohitsibal/.pyenv/versions/3.8.12/envs/springstone/lib/python3.8/site-packages/prophet/forecaster.py:896: FutureWarning: The frame.append method is deprecated and will be removed from pandas in a future version. Use pandas.concat instead.\n",
      "  components = components.append(new_comp)\n",
      "/Users/mohitsibal/.pyenv/versions/3.8.12/envs/springstone/lib/python3.8/site-packages/prophet/forecaster.py:896: FutureWarning: The frame.append method is deprecated and will be removed from pandas in a future version. Use pandas.concat instead.\n",
      "  components = components.append(new_comp)\n"
     ]
    },
    {
     "name": "stdout",
     "output_type": "stream",
     "text": [
      "[*********************100%***********************]  1 of 1 completed\n"
     ]
    },
    {
     "name": "stderr",
     "output_type": "stream",
     "text": [
      "/Users/mohitsibal/code/msibal1/springstone/springstone/utils.py:122: SettingWithCopyWarning: \n",
      "A value is trying to be set on a copy of a slice from a DataFrame\n",
      "\n",
      "See the caveats in the documentation: https://pandas.pydata.org/pandas-docs/stable/user_guide/indexing.html#returning-a-view-versus-a-copy\n",
      "  hist_predict.loc['predict'] = [0, 0, 0, y_predict, 0]\n"
     ]
    },
    {
     "data": {
      "text/plain": [
       "'Buy recommendation'"
      ]
     },
     "execution_count": 25,
     "metadata": {},
     "output_type": "execute_result"
    }
   ],
   "source": [
    "rec = basic_recommendation('AAPL')\n",
    "rec"
   ]
  },
  {
   "cell_type": "code",
   "execution_count": null,
   "id": "c884f2b9",
   "metadata": {},
   "outputs": [],
   "source": [
    "# Define Assumptions - period & company\n",
    "\n",
    "company = 'TSLA'\n",
    "\n",
    "stock = yf.Ticker(company)\n",
    "data = stock.history(period='2Y')\n",
    "company_name = stock.info['longName']\n",
    "\n",
    "# Create a list to loop over Multiple companies"
   ]
  },
  {
   "cell_type": "code",
   "execution_count": null,
   "id": "0df1c37d",
   "metadata": {},
   "outputs": [],
   "source": [
    "sns.relplot(\n",
    "    data=data, \n",
    "    x=\"Date\", y=\"Close\",\n",
    "    height=5, aspect = 2.4, \n",
    "    kind=\"line\"\n",
    ").set(\n",
    "    title=\"Stock Price\", \n",
    "    ylabel=\"Closing Price USD\",\n",
    "    xlabel=\"Date\"\n",
    ")"
   ]
  },
  {
   "cell_type": "code",
   "execution_count": null,
   "id": "8701ee76",
   "metadata": {},
   "outputs": [],
   "source": [
    "# Add MA formula to the dataframe\n",
    "\n",
    "moving_avg_days = [7, 20, 50]\n",
    "\n",
    "for ma in moving_avg_days:\n",
    "    column_name = f\"MA for {ma} days\"\n",
    "    data[column_name] = data['Close'].rolling(ma).mean()"
   ]
  },
  {
   "cell_type": "code",
   "execution_count": null,
   "id": "fe672942",
   "metadata": {},
   "outputs": [],
   "source": [
    "sns.set(rc={\"figure.figsize\":(15, 5)})\n",
    "ax = sns.lineplot(x='Date', y='Close', data=data)\n",
    "ax1 = sns.lineplot(x='Date', y='MA for 7 days', data=data)\n",
    "ax2 = sns.lineplot(x='Date', y='MA for 20 days', data=data)\n",
    "ax3 = sns.lineplot(x='Date', y='MA for 50 days', data=data)\n",
    "ax.legend(labels=['Close','7 Day MA','20 Day MA', '50 Day MA'])"
   ]
  },
  {
   "cell_type": "code",
   "execution_count": null,
   "id": "733b5b32",
   "metadata": {},
   "outputs": [],
   "source": [
    "data['Daily Return'] = data['Close'].pct_change()"
   ]
  },
  {
   "cell_type": "code",
   "execution_count": null,
   "id": "687970e8",
   "metadata": {},
   "outputs": [],
   "source": [
    "plt.figure(figsize=(15, 5))\n",
    "data['Daily Return'].hist(bins=50)\n",
    "plt.ylabel('Number of Days')\n",
    "plt.xlabel('Percentage Change')\n",
    "plt.title(company_name)"
   ]
  },
  {
   "cell_type": "code",
   "execution_count": null,
   "id": "d463f98e",
   "metadata": {},
   "outputs": [],
   "source": [
    "data"
   ]
  },
  {
   "cell_type": "code",
   "execution_count": null,
   "id": "9b5544b2",
   "metadata": {},
   "outputs": [],
   "source": [
    "# Plot the data\n",
    "train = data_train[:training_data_len]\n",
    "valid = data[training_data_len:]\n",
    "valid['Predictions'] = predictions\n",
    "\n",
    "plt.figure(figsize=(16,6))\n",
    "plt.title('Model')\n",
    "plt.xlabel('Date', fontsize=18)\n",
    "plt.ylabel('Close Price USD ($)', fontsize=18)\n",
    "plt.plot(train['Close'])\n",
    "plt.plot(valid[['Close', 'Predictions']])\n",
    "plt.legend(['Train', 'Val', 'Predictions'], loc='lower right')\n",
    "plt.show()"
   ]
  }
 ],
 "metadata": {
  "kernelspec": {
   "display_name": "Python 3 (ipykernel)",
   "language": "python",
   "name": "python3"
  },
  "language_info": {
   "codemirror_mode": {
    "name": "ipython",
    "version": 3
   },
   "file_extension": ".py",
   "mimetype": "text/x-python",
   "name": "python",
   "nbconvert_exporter": "python",
   "pygments_lexer": "ipython3",
   "version": "3.8.12"
  },
  "toc": {
   "base_numbering": 1,
   "nav_menu": {},
   "number_sections": true,
   "sideBar": true,
   "skip_h1_title": false,
   "title_cell": "Table of Contents",
   "title_sidebar": "Contents",
   "toc_cell": false,
   "toc_position": {},
   "toc_section_display": true,
   "toc_window_display": false
  }
 },
 "nbformat": 4,
 "nbformat_minor": 5
}
