{
 "cells": [
  {
   "cell_type": "markdown",
   "id": "369f1233",
   "metadata": {},
   "source": [
    "# Plot Functions"
   ]
  },
  {
   "cell_type": "code",
   "execution_count": 13,
   "id": "07eefb3c",
   "metadata": {},
   "outputs": [
    {
     "name": "stdout",
     "output_type": "stream",
     "text": [
      "The autoreload extension is already loaded. To reload it, use:\n",
      "  %reload_ext autoreload\n"
     ]
    }
   ],
   "source": [
    "# imports \n",
    "\n",
    "import numpy as np\n",
    "import matplotlib.pyplot as plt\n",
    "import pandas as pd\n",
    "import seaborn as sns\n",
    "import yfinance as yf\n",
    "from pandas_datareader import data as pdr\n",
    "from datetime import datetime\n",
    "from springstone.utils import basic_recommendation, moving_average\n",
    "%load_ext autoreload\n",
    "%autoreload 2"
   ]
  },
  {
   "cell_type": "code",
   "execution_count": 12,
   "id": "ba8383a6",
   "metadata": {},
   "outputs": [
    {
     "ename": "KeyError",
     "evalue": "'longName'",
     "output_type": "error",
     "traceback": [
      "\u001b[0;31m---------------------------------------------------------------------------\u001b[0m",
      "\u001b[0;31mKeyError\u001b[0m                                  Traceback (most recent call last)",
      "Input \u001b[0;32mIn [12]\u001b[0m, in \u001b[0;36m<module>\u001b[0;34m\u001b[0m\n\u001b[1;32m      1\u001b[0m ticker_name \u001b[38;5;241m=\u001b[39m \u001b[38;5;124m\"\u001b[39m\u001b[38;5;124mBTC-USD\u001b[39m\u001b[38;5;124m\"\u001b[39m\n\u001b[1;32m      2\u001b[0m cf \u001b[38;5;241m=\u001b[39m yf\u001b[38;5;241m.\u001b[39mTicker(ticker_name)\n\u001b[0;32m----> 3\u001b[0m company_name \u001b[38;5;241m=\u001b[39m \u001b[43mcf\u001b[49m\u001b[38;5;241;43m.\u001b[39;49m\u001b[43minfo\u001b[49m\u001b[43m[\u001b[49m\u001b[38;5;124;43m'\u001b[39;49m\u001b[38;5;124;43mlongName\u001b[39;49m\u001b[38;5;124;43m'\u001b[39;49m\u001b[43m]\u001b[49m\n\u001b[1;32m      4\u001b[0m company_name\n",
      "\u001b[0;31mKeyError\u001b[0m: 'longName'"
     ]
    }
   ],
   "source": [
    "ticker_name = \"BTC-USD\"\n",
    "cf = yf.Ticker(ticker_name)\n",
    "company_name = cf.info['longName']\n",
    "\n",
    "ma = moving_average()\n"
   ]
  },
  {
   "cell_type": "code",
   "execution_count": 5,
   "id": "708211ff",
   "metadata": {},
   "outputs": [
    {
     "name": "stdout",
     "output_type": "stream",
     "text": [
      "/Users/mohitsibal/code/msibal1/springstone\n"
     ]
    }
   ],
   "source": [
    "cd /Users/mohitsibal/code/msibal1/springstone/"
   ]
  },
  {
   "cell_type": "code",
   "execution_count": 9,
   "id": "535c9bfb",
   "metadata": {},
   "outputs": [
    {
     "name": "stderr",
     "output_type": "stream",
     "text": [
      "WARNING:pystan:No module named 'stanfit4anon_model_dfdaf2b8ece8a02eb11f050ec701c0ec_1940444260777913975'\n",
      "WARNING:pystan:Something went wrong while unpickling the StanModel. Consider recompiling.\n",
      "/Users/mohitsibal/.pyenv/versions/3.8.12/envs/springstone/lib/python3.8/site-packages/prophet/forecaster.py:896: FutureWarning: The frame.append method is deprecated and will be removed from pandas in a future version. Use pandas.concat instead.\n",
      "  components = components.append(new_comp)\n",
      "/Users/mohitsibal/.pyenv/versions/3.8.12/envs/springstone/lib/python3.8/site-packages/prophet/forecaster.py:896: FutureWarning: The frame.append method is deprecated and will be removed from pandas in a future version. Use pandas.concat instead.\n",
      "  components = components.append(new_comp)\n"
     ]
    },
    {
     "name": "stdout",
     "output_type": "stream",
     "text": [
      "[*********************100%***********************]  1 of 1 completed\n"
     ]
    },
    {
     "name": "stderr",
     "output_type": "stream",
     "text": [
      "/Users/mohitsibal/code/msibal1/springstone/springstone/utils.py:122: SettingWithCopyWarning: \n",
      "A value is trying to be set on a copy of a slice from a DataFrame\n",
      "\n",
      "See the caveats in the documentation: https://pandas.pydata.org/pandas-docs/stable/user_guide/indexing.html#returning-a-view-versus-a-copy\n",
      "  hist_predict.loc['predict'] = [0, 0, 0, y_predict, 0]\n"
     ]
    },
    {
     "data": {
      "text/plain": [
       "'Hold'"
      ]
     },
     "execution_count": 9,
     "metadata": {},
     "output_type": "execute_result"
    }
   ],
   "source": [
    "rec = basic_recommendation('RIOT')\n",
    "rec"
   ]
  },
  {
   "cell_type": "code",
   "execution_count": null,
   "id": "c884f2b9",
   "metadata": {},
   "outputs": [],
   "source": [
    "# Define Assumptions - period & company\n",
    "\n",
    "company = 'TSLA'\n",
    "\n",
    "stock = yf.Ticker(company)\n",
    "data = stock.history(period='2Y')\n",
    "company_name = stock.info['longName']\n",
    "\n",
    "# Create a list to loop over Multiple companies"
   ]
  },
  {
   "cell_type": "code",
   "execution_count": null,
   "id": "0df1c37d",
   "metadata": {},
   "outputs": [],
   "source": [
    "sns.relplot(\n",
    "    data=data, \n",
    "    x=\"Date\", y=\"Close\",\n",
    "    height=5, aspect = 2.4, \n",
    "    kind=\"line\"\n",
    ").set(\n",
    "    title=\"Stock Price\", \n",
    "    ylabel=\"Closing Price USD\",\n",
    "    xlabel=\"Date\"\n",
    ")"
   ]
  },
  {
   "cell_type": "code",
   "execution_count": null,
   "id": "8701ee76",
   "metadata": {},
   "outputs": [],
   "source": [
    "# Add MA formula to the dataframe\n",
    "\n",
    "moving_avg_days = [7, 20, 50]\n",
    "\n",
    "for ma in moving_avg_days:\n",
    "    column_name = f\"MA for {ma} days\"\n",
    "    data[column_name] = data['Close'].rolling(ma).mean()"
   ]
  },
  {
   "cell_type": "code",
   "execution_count": null,
   "id": "fe672942",
   "metadata": {},
   "outputs": [],
   "source": [
    "sns.set(rc={\"figure.figsize\":(15, 5)})\n",
    "ax = sns.lineplot(x='Date', y='Close', data=data)\n",
    "ax1 = sns.lineplot(x='Date', y='MA for 7 days', data=data)\n",
    "ax2 = sns.lineplot(x='Date', y='MA for 20 days', data=data)\n",
    "ax3 = sns.lineplot(x='Date', y='MA for 50 days', data=data)\n",
    "ax.legend(labels=['Close','7 Day MA','20 Day MA', '50 Day MA'])"
   ]
  },
  {
   "cell_type": "code",
   "execution_count": null,
   "id": "733b5b32",
   "metadata": {},
   "outputs": [],
   "source": [
    "data['Daily Return'] = data['Close'].pct_change()"
   ]
  },
  {
   "cell_type": "code",
   "execution_count": null,
   "id": "687970e8",
   "metadata": {},
   "outputs": [],
   "source": [
    "plt.figure(figsize=(15, 5))\n",
    "data['Daily Return'].hist(bins=50)\n",
    "plt.ylabel('Number of Days')\n",
    "plt.xlabel('Percentage Change')\n",
    "plt.title(company_name)"
   ]
  },
  {
   "cell_type": "code",
   "execution_count": null,
   "id": "d463f98e",
   "metadata": {},
   "outputs": [],
   "source": [
    "data"
   ]
  },
  {
   "cell_type": "code",
   "execution_count": null,
   "id": "9b5544b2",
   "metadata": {},
   "outputs": [],
   "source": [
    "# Plot the data\n",
    "train = data_train[:training_data_len]\n",
    "valid = data[training_data_len:]\n",
    "valid['Predictions'] = predictions\n",
    "\n",
    "plt.figure(figsize=(16,6))\n",
    "plt.title('Model')\n",
    "plt.xlabel('Date', fontsize=18)\n",
    "plt.ylabel('Close Price USD ($)', fontsize=18)\n",
    "plt.plot(train['Close'])\n",
    "plt.plot(valid[['Close', 'Predictions']])\n",
    "plt.legend(['Train', 'Val', 'Predictions'], loc='lower right')\n",
    "plt.show()"
   ]
  }
 ],
 "metadata": {
  "kernelspec": {
   "display_name": "Python 3 (ipykernel)",
   "language": "python",
   "name": "python3"
  },
  "language_info": {
   "codemirror_mode": {
    "name": "ipython",
    "version": 3
   },
   "file_extension": ".py",
   "mimetype": "text/x-python",
   "name": "python",
   "nbconvert_exporter": "python",
   "pygments_lexer": "ipython3",
   "version": "3.8.12"
  },
  "toc": {
   "base_numbering": 1,
   "nav_menu": {},
   "number_sections": true,
   "sideBar": true,
   "skip_h1_title": false,
   "title_cell": "Table of Contents",
   "title_sidebar": "Contents",
   "toc_cell": false,
   "toc_position": {},
   "toc_section_display": true,
   "toc_window_display": false
  }
 },
 "nbformat": 4,
 "nbformat_minor": 5
}
