{
 "cells": [
  {
   "cell_type": "code",
   "execution_count": 1,
   "id": "42339c4d",
   "metadata": {},
   "outputs": [],
   "source": [
    "%load_ext autoreload\n",
    "%autoreload 2\n",
    "import warnings\n",
    "warnings.filterwarnings(\"ignore\")"
   ]
  },
  {
   "cell_type": "code",
   "execution_count": 2,
   "id": "30013c89",
   "metadata": {},
   "outputs": [],
   "source": [
    "from springstone.data import get_data, get_missing_dates, create_train_test, create_df_for_prophet, download_model\n",
    "from springstone.utils import bollinger_bands, moving_average, prophet_preprocessing, prophet_non_business_days\n",
    "from springstone.utils import basic_recommendation, temp_data_predict, next_business_day\n",
    "from springstone.trainer import Trainer\n",
    "from springstone.predict import predict_from_model\n",
    "import pandas as pd\n",
    "import numpy as np\n",
    "from prophet import Prophet\n",
    "from prophet.plot import plot_forecast_component_plotly\n",
    "from sklearn.metrics import mean_absolute_error, mean_absolute_percentage_error\n",
    "import joblib\n",
    "from termcolor import colored\n",
    "from datetime import date, timedelta\n",
    "import holidays"
   ]
  },
  {
   "cell_type": "code",
   "execution_count": 3,
   "id": "4ca45021",
   "metadata": {},
   "outputs": [],
   "source": [
    "ticker = 'AAPL'"
   ]
  },
  {
   "cell_type": "code",
   "execution_count": 4,
   "id": "f9a9c04b",
   "metadata": {},
   "outputs": [
    {
     "name": "stdout",
     "output_type": "stream",
     "text": [
      "[*********************100%***********************]  1 of 1 completed\n"
     ]
    }
   ],
   "source": [
    "hist = get_data(ticker, end='2022-03-12')"
   ]
  },
  {
   "cell_type": "code",
   "execution_count": 5,
   "id": "86ac5615",
   "metadata": {
    "scrolled": true
   },
   "outputs": [
    {
     "data": {
      "text/html": [
       "<div>\n",
       "<style scoped>\n",
       "    .dataframe tbody tr th:only-of-type {\n",
       "        vertical-align: middle;\n",
       "    }\n",
       "\n",
       "    .dataframe tbody tr th {\n",
       "        vertical-align: top;\n",
       "    }\n",
       "\n",
       "    .dataframe thead th {\n",
       "        text-align: right;\n",
       "    }\n",
       "</style>\n",
       "<table border=\"1\" class=\"dataframe\">\n",
       "  <thead>\n",
       "    <tr style=\"text-align: right;\">\n",
       "      <th></th>\n",
       "      <th>Open</th>\n",
       "      <th>High</th>\n",
       "      <th>Low</th>\n",
       "      <th>Close</th>\n",
       "      <th>Volume</th>\n",
       "    </tr>\n",
       "    <tr>\n",
       "      <th>Date</th>\n",
       "      <th></th>\n",
       "      <th></th>\n",
       "      <th></th>\n",
       "      <th></th>\n",
       "      <th></th>\n",
       "    </tr>\n",
       "  </thead>\n",
       "  <tbody>\n",
       "    <tr>\n",
       "      <th>2012-02-21</th>\n",
       "      <td>18.102858</td>\n",
       "      <td>18.387501</td>\n",
       "      <td>18.004286</td>\n",
       "      <td>18.387501</td>\n",
       "      <td>605595200</td>\n",
       "    </tr>\n",
       "    <tr>\n",
       "      <th>2012-02-22</th>\n",
       "      <td>18.324286</td>\n",
       "      <td>18.410357</td>\n",
       "      <td>18.181070</td>\n",
       "      <td>18.322857</td>\n",
       "      <td>483302400</td>\n",
       "    </tr>\n",
       "    <tr>\n",
       "      <th>2012-02-23</th>\n",
       "      <td>18.395714</td>\n",
       "      <td>18.493929</td>\n",
       "      <td>18.196428</td>\n",
       "      <td>18.442499</td>\n",
       "      <td>568027600</td>\n",
       "    </tr>\n",
       "    <tr>\n",
       "      <th>2012-02-24</th>\n",
       "      <td>18.559643</td>\n",
       "      <td>18.674999</td>\n",
       "      <td>18.522858</td>\n",
       "      <td>18.657499</td>\n",
       "      <td>415072000</td>\n",
       "    </tr>\n",
       "    <tr>\n",
       "      <th>2012-02-27</th>\n",
       "      <td>18.618214</td>\n",
       "      <td>18.875000</td>\n",
       "      <td>18.438572</td>\n",
       "      <td>18.777143</td>\n",
       "      <td>547582000</td>\n",
       "    </tr>\n",
       "    <tr>\n",
       "      <th>...</th>\n",
       "      <td>...</td>\n",
       "      <td>...</td>\n",
       "      <td>...</td>\n",
       "      <td>...</td>\n",
       "      <td>...</td>\n",
       "    </tr>\n",
       "    <tr>\n",
       "      <th>2022-03-07</th>\n",
       "      <td>163.360001</td>\n",
       "      <td>165.020004</td>\n",
       "      <td>159.039993</td>\n",
       "      <td>159.300003</td>\n",
       "      <td>96418800</td>\n",
       "    </tr>\n",
       "    <tr>\n",
       "      <th>2022-03-08</th>\n",
       "      <td>158.820007</td>\n",
       "      <td>162.880005</td>\n",
       "      <td>155.800003</td>\n",
       "      <td>157.440002</td>\n",
       "      <td>131148300</td>\n",
       "    </tr>\n",
       "    <tr>\n",
       "      <th>2022-03-09</th>\n",
       "      <td>161.479996</td>\n",
       "      <td>163.410004</td>\n",
       "      <td>159.410004</td>\n",
       "      <td>162.949997</td>\n",
       "      <td>91454900</td>\n",
       "    </tr>\n",
       "    <tr>\n",
       "      <th>2022-03-10</th>\n",
       "      <td>160.199997</td>\n",
       "      <td>160.389999</td>\n",
       "      <td>155.979996</td>\n",
       "      <td>158.520004</td>\n",
       "      <td>105342000</td>\n",
       "    </tr>\n",
       "    <tr>\n",
       "      <th>2022-03-11</th>\n",
       "      <td>158.929993</td>\n",
       "      <td>159.279999</td>\n",
       "      <td>154.500000</td>\n",
       "      <td>154.729996</td>\n",
       "      <td>96836300</td>\n",
       "    </tr>\n",
       "  </tbody>\n",
       "</table>\n",
       "<p>2532 rows × 5 columns</p>\n",
       "</div>"
      ],
      "text/plain": [
       "                  Open        High         Low       Close     Volume\n",
       "Date                                                                 \n",
       "2012-02-21   18.102858   18.387501   18.004286   18.387501  605595200\n",
       "2012-02-22   18.324286   18.410357   18.181070   18.322857  483302400\n",
       "2012-02-23   18.395714   18.493929   18.196428   18.442499  568027600\n",
       "2012-02-24   18.559643   18.674999   18.522858   18.657499  415072000\n",
       "2012-02-27   18.618214   18.875000   18.438572   18.777143  547582000\n",
       "...                ...         ...         ...         ...        ...\n",
       "2022-03-07  163.360001  165.020004  159.039993  159.300003   96418800\n",
       "2022-03-08  158.820007  162.880005  155.800003  157.440002  131148300\n",
       "2022-03-09  161.479996  163.410004  159.410004  162.949997   91454900\n",
       "2022-03-10  160.199997  160.389999  155.979996  158.520004  105342000\n",
       "2022-03-11  158.929993  159.279999  154.500000  154.729996   96836300\n",
       "\n",
       "[2532 rows x 5 columns]"
      ]
     },
     "execution_count": 5,
     "metadata": {},
     "output_type": "execute_result"
    }
   ],
   "source": [
    "hist"
   ]
  },
  {
   "cell_type": "code",
   "execution_count": 6,
   "id": "d33bfcb1-a17d-4fa8-a7dd-4fbee0f54beb",
   "metadata": {},
   "outputs": [],
   "source": [
    "df_nbd = prophet_non_business_days(hist)"
   ]
  },
  {
   "cell_type": "code",
   "execution_count": 7,
   "id": "9274d6f0-4a19-4a51-8a32-511996e7be05",
   "metadata": {},
   "outputs": [
    {
     "name": "stderr",
     "output_type": "stream",
     "text": [
      "INFO:prophet:Disabling daily seasonality. Run prophet with daily_seasonality=True to override this.\n"
     ]
    },
    {
     "name": "stdout",
     "output_type": "stream",
     "text": [
      "Initial log joint probability = -43.7746\n",
      "    Iter      log prob        ||dx||      ||grad||       alpha      alpha0  # evals  Notes \n",
      "      99       7268.53     0.0130693       1031.53           1           1      124   \n",
      "    Iter      log prob        ||dx||      ||grad||       alpha      alpha0  # evals  Notes \n",
      "     199       7321.36    0.00159364       362.424           1           1      243   \n",
      "    Iter      log prob        ||dx||      ||grad||       alpha      alpha0  # evals  Notes \n",
      "     278       7330.59    0.00123625       363.072   5.172e-06       0.001      383  LS failed, Hessian reset \n",
      "     299       7333.22     0.0145204       843.769      0.3809           1      407   \n",
      "    Iter      log prob        ||dx||      ||grad||       alpha      alpha0  # evals  Notes \n",
      "     319       7335.82   0.000116299       176.341   1.536e-06       0.001      468  LS failed, Hessian reset \n",
      "     383       7337.62   0.000115938       138.322   2.581e-06       0.001      585  LS failed, Hessian reset \n",
      "     399       7337.78   0.000199831       137.398      0.5369      0.5369      602   \n",
      "    Iter      log prob        ||dx||      ||grad||       alpha      alpha0  # evals  Notes \n",
      "     499       7339.99   9.52773e-05       90.0655      0.5202      0.5202      719   \n",
      "    Iter      log prob        ||dx||      ||grad||       alpha      alpha0  # evals  Notes \n",
      "     536        7341.5   0.000180523       269.277   9.361e-07       0.001      799  LS failed, Hessian reset \n",
      "     599       7342.91    0.00719935       99.1386           1           1      867   \n",
      "    Iter      log prob        ||dx||      ||grad||       alpha      alpha0  # evals  Notes \n",
      "     610       7343.06    7.0114e-05       114.218   9.167e-07       0.001      919  LS failed, Hessian reset \n",
      "     699       7343.48    0.00106733       128.323       1.308      0.1308     1030   \n",
      "    Iter      log prob        ||dx||      ||grad||       alpha      alpha0  # evals  Notes \n",
      "     799        7344.9    0.00018382       68.9708      0.9019      0.9019     1169   \n",
      "    Iter      log prob        ||dx||      ||grad||       alpha      alpha0  # evals  Notes \n",
      "     899       7345.26   4.60421e-05       52.8885           1           1     1293   \n",
      "    Iter      log prob        ||dx||      ||grad||       alpha      alpha0  # evals  Notes \n",
      "     914       7345.31   4.25032e-05       93.4217   5.348e-07       0.001     1361  LS failed, Hessian reset \n",
      "     961       7345.38   3.06268e-05       64.6132   2.605e-07       0.001     1457  LS failed, Hessian reset \n",
      "     999       7345.39   7.24965e-07       49.4756       0.726       0.726     1508   \n",
      "    Iter      log prob        ||dx||      ||grad||       alpha      alpha0  # evals  Notes \n",
      "    1012        7345.4   4.90883e-05       106.532   6.156e-07       0.001     1570  LS failed, Hessian reset \n",
      "    1026        7345.4   9.23655e-07       47.2877   2.363e-08       0.001     1625  LS failed, Hessian reset \n",
      "Optimization terminated normally: \n",
      "  Convergence detected: relative gradient magnitude is below tolerance\n"
     ]
    }
   ],
   "source": [
    "# Using the Trainer class\n",
    "df_train, df_test = create_train_test(hist)\n",
    "trainer_prophet = Trainer(model=\"prophet\",X=df_train, y=None, non_business_days=df_nbd)\n",
    "df_test_prophet = create_df_for_prophet(df_test)\n",
    "trainer_prophet.run()\n",
    "trainer_prophet.save_model_locally(ticker,'prophet')"
   ]
  },
  {
   "cell_type": "raw",
   "id": "87281a0f-ff5d-426f-b6d0-83c4e95d7ec2",
   "metadata": {},
   "source": [
    "# Without the Trainer class\n",
    "df_prophet = prophet_preprocessing(hist, 'Close')\n",
    "df_train, df_test = create_train_test(df_prophet)\n",
    "m_prophet = Prophet(holidays=df_nbd)\n",
    "m_prophet.fit(df_train)\n",
    "df_test_prophet = create_df_for_prophet(df_test)\n",
    "joblib.dump(m_prophet, 'model_prophet_AAPL.joblib')"
   ]
  },
  {
   "cell_type": "code",
   "execution_count": 13,
   "id": "b5ae6e77-890a-4fc6-954a-d29a6c4561fb",
   "metadata": {},
   "outputs": [
    {
     "data": {
      "text/html": [
       "<div>\n",
       "<style scoped>\n",
       "    .dataframe tbody tr th:only-of-type {\n",
       "        vertical-align: middle;\n",
       "    }\n",
       "\n",
       "    .dataframe tbody tr th {\n",
       "        vertical-align: top;\n",
       "    }\n",
       "\n",
       "    .dataframe thead th {\n",
       "        text-align: right;\n",
       "    }\n",
       "</style>\n",
       "<table border=\"1\" class=\"dataframe\">\n",
       "  <thead>\n",
       "    <tr style=\"text-align: right;\">\n",
       "      <th></th>\n",
       "      <th>Open</th>\n",
       "      <th>High</th>\n",
       "      <th>Low</th>\n",
       "      <th>Close</th>\n",
       "      <th>Volume</th>\n",
       "    </tr>\n",
       "    <tr>\n",
       "      <th>Date</th>\n",
       "      <th></th>\n",
       "      <th></th>\n",
       "      <th></th>\n",
       "      <th></th>\n",
       "      <th></th>\n",
       "    </tr>\n",
       "  </thead>\n",
       "  <tbody>\n",
       "    <tr>\n",
       "      <th>2020-03-11</th>\n",
       "      <td>69.347504</td>\n",
       "      <td>70.305000</td>\n",
       "      <td>67.964996</td>\n",
       "      <td>68.857498</td>\n",
       "      <td>255598800</td>\n",
       "    </tr>\n",
       "    <tr>\n",
       "      <th>2020-03-12</th>\n",
       "      <td>63.985001</td>\n",
       "      <td>67.500000</td>\n",
       "      <td>62.000000</td>\n",
       "      <td>62.057499</td>\n",
       "      <td>418474000</td>\n",
       "    </tr>\n",
       "    <tr>\n",
       "      <th>2020-03-13</th>\n",
       "      <td>66.222504</td>\n",
       "      <td>69.980003</td>\n",
       "      <td>63.237499</td>\n",
       "      <td>69.492500</td>\n",
       "      <td>370732000</td>\n",
       "    </tr>\n",
       "    <tr>\n",
       "      <th>2020-03-16</th>\n",
       "      <td>60.487499</td>\n",
       "      <td>64.769997</td>\n",
       "      <td>60.000000</td>\n",
       "      <td>60.552502</td>\n",
       "      <td>322423600</td>\n",
       "    </tr>\n",
       "    <tr>\n",
       "      <th>2020-03-17</th>\n",
       "      <td>61.877499</td>\n",
       "      <td>64.402496</td>\n",
       "      <td>59.599998</td>\n",
       "      <td>63.215000</td>\n",
       "      <td>324056000</td>\n",
       "    </tr>\n",
       "    <tr>\n",
       "      <th>...</th>\n",
       "      <td>...</td>\n",
       "      <td>...</td>\n",
       "      <td>...</td>\n",
       "      <td>...</td>\n",
       "      <td>...</td>\n",
       "    </tr>\n",
       "    <tr>\n",
       "      <th>2022-03-07</th>\n",
       "      <td>163.360001</td>\n",
       "      <td>165.020004</td>\n",
       "      <td>159.039993</td>\n",
       "      <td>159.300003</td>\n",
       "      <td>96418800</td>\n",
       "    </tr>\n",
       "    <tr>\n",
       "      <th>2022-03-08</th>\n",
       "      <td>158.820007</td>\n",
       "      <td>162.880005</td>\n",
       "      <td>155.800003</td>\n",
       "      <td>157.440002</td>\n",
       "      <td>131148300</td>\n",
       "    </tr>\n",
       "    <tr>\n",
       "      <th>2022-03-09</th>\n",
       "      <td>161.479996</td>\n",
       "      <td>163.410004</td>\n",
       "      <td>159.410004</td>\n",
       "      <td>162.949997</td>\n",
       "      <td>91454900</td>\n",
       "    </tr>\n",
       "    <tr>\n",
       "      <th>2022-03-10</th>\n",
       "      <td>160.199997</td>\n",
       "      <td>160.389999</td>\n",
       "      <td>155.979996</td>\n",
       "      <td>158.520004</td>\n",
       "      <td>105342000</td>\n",
       "    </tr>\n",
       "    <tr>\n",
       "      <th>2022-03-11</th>\n",
       "      <td>158.929993</td>\n",
       "      <td>159.279999</td>\n",
       "      <td>154.500000</td>\n",
       "      <td>154.729996</td>\n",
       "      <td>96836300</td>\n",
       "    </tr>\n",
       "  </tbody>\n",
       "</table>\n",
       "<p>506 rows × 5 columns</p>\n",
       "</div>"
      ],
      "text/plain": [
       "                  Open        High         Low       Close     Volume\n",
       "Date                                                                 \n",
       "2020-03-11   69.347504   70.305000   67.964996   68.857498  255598800\n",
       "2020-03-12   63.985001   67.500000   62.000000   62.057499  418474000\n",
       "2020-03-13   66.222504   69.980003   63.237499   69.492500  370732000\n",
       "2020-03-16   60.487499   64.769997   60.000000   60.552502  322423600\n",
       "2020-03-17   61.877499   64.402496   59.599998   63.215000  324056000\n",
       "...                ...         ...         ...         ...        ...\n",
       "2022-03-07  163.360001  165.020004  159.039993  159.300003   96418800\n",
       "2022-03-08  158.820007  162.880005  155.800003  157.440002  131148300\n",
       "2022-03-09  161.479996  163.410004  159.410004  162.949997   91454900\n",
       "2022-03-10  160.199997  160.389999  155.979996  158.520004  105342000\n",
       "2022-03-11  158.929993  159.279999  154.500000  154.729996   96836300\n",
       "\n",
       "[506 rows x 5 columns]"
      ]
     },
     "execution_count": 13,
     "metadata": {},
     "output_type": "execute_result"
    }
   ],
   "source": [
    "df_test"
   ]
  },
  {
   "cell_type": "code",
   "execution_count": 32,
   "id": "5db8a436-5dd1-4c29-a5a1-acc19f15d0ce",
   "metadata": {},
   "outputs": [],
   "source": [
    "#y_pred = trainer_prophet.predict(df_test_prophet[:5][['ds']])\n",
    "y_test_pred = predict_from_model(ticker, 'prophet', df_test_prophet[['ds']])"
   ]
  },
  {
   "cell_type": "code",
   "execution_count": 33,
   "id": "a656cb63-2ab8-4790-a568-422443e1f265",
   "metadata": {},
   "outputs": [
    {
     "data": {
      "text/html": [
       "<div>\n",
       "<style scoped>\n",
       "    .dataframe tbody tr th:only-of-type {\n",
       "        vertical-align: middle;\n",
       "    }\n",
       "\n",
       "    .dataframe tbody tr th {\n",
       "        vertical-align: top;\n",
       "    }\n",
       "\n",
       "    .dataframe thead th {\n",
       "        text-align: right;\n",
       "    }\n",
       "</style>\n",
       "<table border=\"1\" class=\"dataframe\">\n",
       "  <thead>\n",
       "    <tr style=\"text-align: right;\">\n",
       "      <th></th>\n",
       "      <th>Close</th>\n",
       "      <th>Close_pred</th>\n",
       "    </tr>\n",
       "    <tr>\n",
       "      <th>Date</th>\n",
       "      <th></th>\n",
       "      <th></th>\n",
       "    </tr>\n",
       "  </thead>\n",
       "  <tbody>\n",
       "    <tr>\n",
       "      <th>2020-03-11</th>\n",
       "      <td>68.857498</td>\n",
       "      <td>65.608732</td>\n",
       "    </tr>\n",
       "    <tr>\n",
       "      <th>2020-03-12</th>\n",
       "      <td>62.057499</td>\n",
       "      <td>65.610120</td>\n",
       "    </tr>\n",
       "    <tr>\n",
       "      <th>2020-03-13</th>\n",
       "      <td>69.492500</td>\n",
       "      <td>65.595568</td>\n",
       "    </tr>\n",
       "    <tr>\n",
       "      <th>2020-03-16</th>\n",
       "      <td>60.552502</td>\n",
       "      <td>65.781116</td>\n",
       "    </tr>\n",
       "    <tr>\n",
       "      <th>2020-03-17</th>\n",
       "      <td>63.215000</td>\n",
       "      <td>65.857129</td>\n",
       "    </tr>\n",
       "    <tr>\n",
       "      <th>...</th>\n",
       "      <td>...</td>\n",
       "      <td>...</td>\n",
       "    </tr>\n",
       "    <tr>\n",
       "      <th>2022-03-07</th>\n",
       "      <td>159.300003</td>\n",
       "      <td>93.753985</td>\n",
       "    </tr>\n",
       "    <tr>\n",
       "      <th>2022-03-08</th>\n",
       "      <td>157.440002</td>\n",
       "      <td>93.754331</td>\n",
       "    </tr>\n",
       "    <tr>\n",
       "      <th>2022-03-09</th>\n",
       "      <td>162.949997</td>\n",
       "      <td>93.818996</td>\n",
       "    </tr>\n",
       "    <tr>\n",
       "      <th>2022-03-10</th>\n",
       "      <td>158.520004</td>\n",
       "      <td>93.797867</td>\n",
       "    </tr>\n",
       "    <tr>\n",
       "      <th>2022-03-11</th>\n",
       "      <td>154.729996</td>\n",
       "      <td>93.761337</td>\n",
       "    </tr>\n",
       "  </tbody>\n",
       "</table>\n",
       "<p>506 rows × 2 columns</p>\n",
       "</div>"
      ],
      "text/plain": [
       "                 Close  Close_pred\n",
       "Date                              \n",
       "2020-03-11   68.857498   65.608732\n",
       "2020-03-12   62.057499   65.610120\n",
       "2020-03-13   69.492500   65.595568\n",
       "2020-03-16   60.552502   65.781116\n",
       "2020-03-17   63.215000   65.857129\n",
       "...                ...         ...\n",
       "2022-03-07  159.300003   93.753985\n",
       "2022-03-08  157.440002   93.754331\n",
       "2022-03-09  162.949997   93.818996\n",
       "2022-03-10  158.520004   93.797867\n",
       "2022-03-11  154.729996   93.761337\n",
       "\n",
       "[506 rows x 2 columns]"
      ]
     },
     "execution_count": 33,
     "metadata": {},
     "output_type": "execute_result"
    }
   ],
   "source": [
    "pd.concat([df_test[['Close']], pd.DataFrame({'Close_pred': y_test_pred.values}, index=df_test.index)], axis=1)"
   ]
  },
  {
   "cell_type": "code",
   "execution_count": 34,
   "id": "782cdc10",
   "metadata": {},
   "outputs": [
    {
     "data": {
      "text/plain": [
       "datetime.date(2022, 3, 14)"
      ]
     },
     "execution_count": 34,
     "metadata": {},
     "output_type": "execute_result"
    }
   ],
   "source": [
    "next_business_day(date.today())"
   ]
  },
  {
   "cell_type": "code",
   "execution_count": null,
   "id": "8b15b86c",
   "metadata": {},
   "outputs": [],
   "source": [
    "n_days_prediction=1\n",
    "future = pipeline.make_future_dataframe(periods=n_days_prediction)\n",
    "future"
   ]
  },
  {
   "cell_type": "code",
   "execution_count": null,
   "id": "96af446d",
   "metadata": {
    "scrolled": true
   },
   "outputs": [],
   "source": [
    "forecast = pipeline.predict(future)"
   ]
  },
  {
   "cell_type": "code",
   "execution_count": null,
   "id": "1d7fe0e0",
   "metadata": {},
   "outputs": [],
   "source": [
    "forecast[['ds', 'yhat', 'yhat_lower', 'yhat_upper', 'non business day']]"
   ]
  },
  {
   "cell_type": "code",
   "execution_count": null,
   "id": "5b7a81f2",
   "metadata": {},
   "outputs": [],
   "source": [
    "m_prophet.plot(forecast);"
   ]
  },
  {
   "cell_type": "code",
   "execution_count": null,
   "id": "290ad240",
   "metadata": {},
   "outputs": [],
   "source": [
    "m_prophet.plot_components(forecast);"
   ]
  },
  {
   "cell_type": "code",
   "execution_count": null,
   "id": "65b040c3",
   "metadata": {
    "scrolled": true
   },
   "outputs": [],
   "source": [
    "#plot_forecast_component_plotly(m_prophet, forecast, 'non business day')"
   ]
  },
  {
   "cell_type": "code",
   "execution_count": null,
   "id": "fc4b9397",
   "metadata": {},
   "outputs": [],
   "source": [
    "forecast = forecast[- n_days_prediction:][['ds', 'yhat', 'yhat_lower', 'yhat_upper', 'non business day']]"
   ]
  },
  {
   "cell_type": "code",
   "execution_count": null,
   "id": "739eaeec",
   "metadata": {},
   "outputs": [],
   "source": [
    "forecast"
   ]
  },
  {
   "cell_type": "code",
   "execution_count": null,
   "id": "eac4b628",
   "metadata": {},
   "outputs": [],
   "source": [
    "df_test[:n_days_prediction]"
   ]
  },
  {
   "cell_type": "code",
   "execution_count": null,
   "id": "c3592edd",
   "metadata": {},
   "outputs": [],
   "source": [
    "mae_prophet = mean_absolute_error(df_test[:n_days_prediction]['y'], forecast['yhat'])\n",
    "mape_prophet = mean_absolute_percentage_error(df_test[:n_days_prediction]['y'], forecast['yhat'])\n",
    "print(f'MAE: {mae_prophet}')\n",
    "pbrint(f'MAPE: {mape_prophet}')"
   ]
  },
  {
   "cell_type": "code",
   "execution_count": null,
   "id": "0dd32253",
   "metadata": {},
   "outputs": [],
   "source": [
    "def predict_from_model(ticker, model_type, X):\n",
    "    \"\"\"Predicts from a saved model for a ticker and a model_type\n",
    "       Input:\n",
    "            ticker: ticker used by the model\n",
    "            model_type: type of model used such as prohet or RNN\n",
    "            X: data\n",
    "       Ouptut: return a dataframe with predicted values\"\"\"\n",
    "    model = download_model(ticker, model_type)\n",
    "    if model_type == \"prophet\":\n",
    "        y_pred = model['prophet_model'].prophet.predict(X)['yhat']\n",
    "    else:\n",
    "        y_pred = model.predict(X)\n",
    "        \n",
    "    return y_pred"
   ]
  },
  {
   "cell_type": "code",
   "execution_count": null,
   "id": "0266d821",
   "metadata": {},
   "outputs": [],
   "source": [
    "cd notebooks"
   ]
  },
  {
   "cell_type": "code",
   "execution_count": null,
   "id": "8714809e",
   "metadata": {},
   "outputs": [],
   "source": [
    "download_model(ricker, 'prophet')"
   ]
  }
 ],
 "metadata": {
  "kernelspec": {
   "display_name": "Python 3 (ipykernel)",
   "language": "python",
   "name": "python3"
  },
  "language_info": {
   "codemirror_mode": {
    "name": "ipython",
    "version": 3
   },
   "file_extension": ".py",
   "mimetype": "text/x-python",
   "name": "python",
   "nbconvert_exporter": "python",
   "pygments_lexer": "ipython3",
   "version": "3.8.12"
  },
  "toc": {
   "base_numbering": 1,
   "nav_menu": {},
   "number_sections": true,
   "sideBar": true,
   "skip_h1_title": false,
   "title_cell": "Table of Contents",
   "title_sidebar": "Contents",
   "toc_cell": false,
   "toc_position": {
    "height": "calc(100% - 180px)",
    "left": "10px",
    "top": "150px",
    "width": "272.7px"
   },
   "toc_section_display": true,
   "toc_window_display": true
  }
 },
 "nbformat": 4,
 "nbformat_minor": 5
}
