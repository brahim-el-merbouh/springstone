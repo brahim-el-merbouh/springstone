{
 "cells": [
  {
   "cell_type": "code",
   "execution_count": 1,
   "id": "42339c4d",
   "metadata": {},
   "outputs": [],
   "source": [
    "%load_ext autoreload\n",
    "%autoreload 2\n",
    "import warnings\n",
    "warnings.filterwarnings(\"ignore\")"
   ]
  },
  {
   "cell_type": "code",
   "execution_count": 2,
   "id": "30013c89",
   "metadata": {},
   "outputs": [
    {
     "name": "stderr",
     "output_type": "stream",
     "text": [
      "2022-03-12 15:47:20.150642: W tensorflow/stream_executor/platform/default/dso_loader.cc:64] Could not load dynamic library 'libcudart.so.11.0'; dlerror: libcudart.so.11.0: cannot open shared object file: No such file or directory\n",
      "2022-03-12 15:47:20.150690: I tensorflow/stream_executor/cuda/cudart_stub.cc:29] Ignore above cudart dlerror if you do not have a GPU set up on your machine.\n"
     ]
    },
    {
     "name": "stdout",
     "output_type": "stream",
     "text": [
      "2022-03-12 15:47:21,953 loading file /home/blueoverseas/.flair/models/sentiment-en-mix-distillbert_4.pt\n"
     ]
    }
   ],
   "source": [
    "from springstone.data import get_data, get_missing_dates, create_train_test, create_df_for_prophet, download_model\n",
    "from springstone.utils import bollinger_bands, moving_average, prophet_preprocessing, prophet_non_business_days\n",
    "from springstone.utils import basic_recommendation, temp_data_predict, next_business_day\n",
    "from springstone.trainer import Trainer\n",
    "from springstone.predict import predict_from_model\n",
    "import pandas as pd\n",
    "import numpy as np\n",
    "from prophet import Prophet\n",
    "from prophet.plot import plot_forecast_component_plotly\n",
    "from sklearn.metrics import mean_absolute_error, mean_absolute_percentage_error\n",
    "import joblib\n",
    "from termcolor import colored\n",
    "from datetime import date, timedelta\n",
    "import holidays\n",
    "from tensorflow.keras.models import load_model"
   ]
  },
  {
   "cell_type": "code",
   "execution_count": 3,
   "id": "4ca45021",
   "metadata": {},
   "outputs": [],
   "source": [
    "ticker = 'AAPL'"
   ]
  },
  {
   "cell_type": "code",
   "execution_count": 4,
   "id": "f9a9c04b",
   "metadata": {},
   "outputs": [
    {
     "name": "stdout",
     "output_type": "stream",
     "text": [
      "[*********************100%***********************]  1 of 1 completed\n"
     ]
    }
   ],
   "source": [
    "hist = get_data(ticker, end='2022-03-12')"
   ]
  },
  {
   "cell_type": "code",
   "execution_count": 5,
   "id": "86ac5615",
   "metadata": {
    "scrolled": true
   },
   "outputs": [
    {
     "data": {
      "text/html": [
       "<div>\n",
       "<style scoped>\n",
       "    .dataframe tbody tr th:only-of-type {\n",
       "        vertical-align: middle;\n",
       "    }\n",
       "\n",
       "    .dataframe tbody tr th {\n",
       "        vertical-align: top;\n",
       "    }\n",
       "\n",
       "    .dataframe thead th {\n",
       "        text-align: right;\n",
       "    }\n",
       "</style>\n",
       "<table border=\"1\" class=\"dataframe\">\n",
       "  <thead>\n",
       "    <tr style=\"text-align: right;\">\n",
       "      <th></th>\n",
       "      <th>Open</th>\n",
       "      <th>High</th>\n",
       "      <th>Low</th>\n",
       "      <th>Close</th>\n",
       "      <th>Volume</th>\n",
       "    </tr>\n",
       "    <tr>\n",
       "      <th>Date</th>\n",
       "      <th></th>\n",
       "      <th></th>\n",
       "      <th></th>\n",
       "      <th></th>\n",
       "      <th></th>\n",
       "    </tr>\n",
       "  </thead>\n",
       "  <tbody>\n",
       "    <tr>\n",
       "      <th>2012-02-21</th>\n",
       "      <td>18.102858</td>\n",
       "      <td>18.387501</td>\n",
       "      <td>18.004286</td>\n",
       "      <td>18.387501</td>\n",
       "      <td>605595200</td>\n",
       "    </tr>\n",
       "    <tr>\n",
       "      <th>2012-02-22</th>\n",
       "      <td>18.324286</td>\n",
       "      <td>18.410357</td>\n",
       "      <td>18.181070</td>\n",
       "      <td>18.322857</td>\n",
       "      <td>483302400</td>\n",
       "    </tr>\n",
       "    <tr>\n",
       "      <th>2012-02-23</th>\n",
       "      <td>18.395714</td>\n",
       "      <td>18.493929</td>\n",
       "      <td>18.196428</td>\n",
       "      <td>18.442499</td>\n",
       "      <td>568027600</td>\n",
       "    </tr>\n",
       "    <tr>\n",
       "      <th>2012-02-24</th>\n",
       "      <td>18.559643</td>\n",
       "      <td>18.674999</td>\n",
       "      <td>18.522858</td>\n",
       "      <td>18.657499</td>\n",
       "      <td>415072000</td>\n",
       "    </tr>\n",
       "    <tr>\n",
       "      <th>2012-02-27</th>\n",
       "      <td>18.618214</td>\n",
       "      <td>18.875000</td>\n",
       "      <td>18.438572</td>\n",
       "      <td>18.777143</td>\n",
       "      <td>547582000</td>\n",
       "    </tr>\n",
       "    <tr>\n",
       "      <th>...</th>\n",
       "      <td>...</td>\n",
       "      <td>...</td>\n",
       "      <td>...</td>\n",
       "      <td>...</td>\n",
       "      <td>...</td>\n",
       "    </tr>\n",
       "    <tr>\n",
       "      <th>2022-03-07</th>\n",
       "      <td>163.360001</td>\n",
       "      <td>165.020004</td>\n",
       "      <td>159.039993</td>\n",
       "      <td>159.300003</td>\n",
       "      <td>96418800</td>\n",
       "    </tr>\n",
       "    <tr>\n",
       "      <th>2022-03-08</th>\n",
       "      <td>158.820007</td>\n",
       "      <td>162.880005</td>\n",
       "      <td>155.800003</td>\n",
       "      <td>157.440002</td>\n",
       "      <td>131148300</td>\n",
       "    </tr>\n",
       "    <tr>\n",
       "      <th>2022-03-09</th>\n",
       "      <td>161.479996</td>\n",
       "      <td>163.410004</td>\n",
       "      <td>159.410004</td>\n",
       "      <td>162.949997</td>\n",
       "      <td>91454900</td>\n",
       "    </tr>\n",
       "    <tr>\n",
       "      <th>2022-03-10</th>\n",
       "      <td>160.199997</td>\n",
       "      <td>160.389999</td>\n",
       "      <td>155.979996</td>\n",
       "      <td>158.520004</td>\n",
       "      <td>105342000</td>\n",
       "    </tr>\n",
       "    <tr>\n",
       "      <th>2022-03-11</th>\n",
       "      <td>158.929993</td>\n",
       "      <td>159.279999</td>\n",
       "      <td>154.500000</td>\n",
       "      <td>154.729996</td>\n",
       "      <td>96836300</td>\n",
       "    </tr>\n",
       "  </tbody>\n",
       "</table>\n",
       "<p>2532 rows × 5 columns</p>\n",
       "</div>"
      ],
      "text/plain": [
       "                  Open        High         Low       Close     Volume\n",
       "Date                                                                 \n",
       "2012-02-21   18.102858   18.387501   18.004286   18.387501  605595200\n",
       "2012-02-22   18.324286   18.410357   18.181070   18.322857  483302400\n",
       "2012-02-23   18.395714   18.493929   18.196428   18.442499  568027600\n",
       "2012-02-24   18.559643   18.674999   18.522858   18.657499  415072000\n",
       "2012-02-27   18.618214   18.875000   18.438572   18.777143  547582000\n",
       "...                ...         ...         ...         ...        ...\n",
       "2022-03-07  163.360001  165.020004  159.039993  159.300003   96418800\n",
       "2022-03-08  158.820007  162.880005  155.800003  157.440002  131148300\n",
       "2022-03-09  161.479996  163.410004  159.410004  162.949997   91454900\n",
       "2022-03-10  160.199997  160.389999  155.979996  158.520004  105342000\n",
       "2022-03-11  158.929993  159.279999  154.500000  154.729996   96836300\n",
       "\n",
       "[2532 rows x 5 columns]"
      ]
     },
     "execution_count": 5,
     "metadata": {},
     "output_type": "execute_result"
    }
   ],
   "source": [
    "hist"
   ]
  },
  {
   "cell_type": "code",
   "execution_count": 6,
   "id": "d33bfcb1-a17d-4fa8-a7dd-4fbee0f54beb",
   "metadata": {},
   "outputs": [],
   "source": [
    "df_nbd = prophet_non_business_days(hist)"
   ]
  },
  {
   "cell_type": "code",
   "execution_count": 7,
   "id": "0331ecd8-bb65-44fe-8545-cee906895a75",
   "metadata": {},
   "outputs": [],
   "source": [
    "df_train, df_test = create_train_test(hist)"
   ]
  },
  {
   "cell_type": "code",
   "execution_count": 9,
   "id": "9274d6f0-4a19-4a51-8a32-511996e7be05",
   "metadata": {},
   "outputs": [
    {
     "name": "stderr",
     "output_type": "stream",
     "text": [
      "INFO:prophet:Disabling daily seasonality. Run prophet with daily_seasonality=True to override this.\n"
     ]
    },
    {
     "name": "stdout",
     "output_type": "stream",
     "text": [
      "Initial log joint probability = -43.7746\n",
      "    Iter      log prob        ||dx||      ||grad||       alpha      alpha0  # evals  Notes \n",
      "      99       7268.53     0.0130693       1031.53           1           1      124   \n",
      "    Iter      log prob        ||dx||      ||grad||       alpha      alpha0  # evals  Notes \n",
      "     199       7321.36    0.00159364       362.424           1           1      243   \n",
      "    Iter      log prob        ||dx||      ||grad||       alpha      alpha0  # evals  Notes \n",
      "     278       7330.59    0.00123625       363.072   5.172e-06       0.001      383  LS failed, Hessian reset \n",
      "     299       7333.22     0.0145204       843.769      0.3809           1      407   \n",
      "    Iter      log prob        ||dx||      ||grad||       alpha      alpha0  # evals  Notes \n",
      "     319       7335.82   0.000116299       176.341   1.536e-06       0.001      468  LS failed, Hessian reset \n",
      "     383       7337.62   0.000115938       138.322   2.581e-06       0.001      585  LS failed, Hessian reset \n",
      "     399       7337.78   0.000199831       137.398      0.5369      0.5369      602   \n",
      "    Iter      log prob        ||dx||      ||grad||       alpha      alpha0  # evals  Notes \n",
      "     499       7339.99   9.52773e-05       90.0655      0.5202      0.5202      719   \n",
      "    Iter      log prob        ||dx||      ||grad||       alpha      alpha0  # evals  Notes \n",
      "     536        7341.5   0.000180523       269.277   9.361e-07       0.001      799  LS failed, Hessian reset \n",
      "     599       7342.91    0.00719935       99.1386           1           1      867   \n",
      "    Iter      log prob        ||dx||      ||grad||       alpha      alpha0  # evals  Notes \n",
      "     610       7343.06    7.0114e-05       114.218   9.167e-07       0.001      919  LS failed, Hessian reset \n",
      "     699       7343.48    0.00106733       128.323       1.308      0.1308     1030   \n",
      "    Iter      log prob        ||dx||      ||grad||       alpha      alpha0  # evals  Notes \n",
      "     799        7344.9    0.00018382       68.9708      0.9019      0.9019     1169   \n",
      "    Iter      log prob        ||dx||      ||grad||       alpha      alpha0  # evals  Notes \n",
      "     899       7345.26   4.60421e-05       52.8885           1           1     1293   \n",
      "    Iter      log prob        ||dx||      ||grad||       alpha      alpha0  # evals  Notes \n",
      "     914       7345.31   4.25032e-05       93.4217   5.348e-07       0.001     1361  LS failed, Hessian reset \n",
      "     961       7345.38   3.06268e-05       64.6132   2.605e-07       0.001     1457  LS failed, Hessian reset \n",
      "     999       7345.39   7.24965e-07       49.4756       0.726       0.726     1508   \n",
      "    Iter      log prob        ||dx||      ||grad||       alpha      alpha0  # evals  Notes \n",
      "    1012        7345.4   4.90883e-05       106.532   6.156e-07       0.001     1570  LS failed, Hessian reset \n",
      "    1026        7345.4   9.23655e-07       47.2877   2.363e-08       0.001     1625  LS failed, Hessian reset \n",
      "Optimization terminated normally: \n",
      "  Convergence detected: relative gradient magnitude is below tolerance\n"
     ]
    }
   ],
   "source": [
    "# Using the Trainer class\n",
    "trainer_prophet = Trainer(model=\"prophet\",X=df_train, y=None, non_business_days=df_nbd)\n",
    "df_test_prophet = prophet_preprocessing(df_test, 'Close')\n",
    "trainer_prophet.run()\n",
    "trainer_prophet.save_model_locally(ticker,'prophet')"
   ]
  },
  {
   "cell_type": "code",
   "execution_count": 11,
   "id": "f3d54907-0d57-4799-9544-57e226a29914",
   "metadata": {
    "collapsed": true,
    "jupyter": {
     "outputs_hidden": true
    },
    "tags": []
   },
   "outputs": [
    {
     "name": "stderr",
     "output_type": "stream",
     "text": [
      "2022-03-12 15:50:05.904727: W tensorflow/stream_executor/platform/default/dso_loader.cc:64] Could not load dynamic library 'libcuda.so.1'; dlerror: libcuda.so.1: cannot open shared object file: No such file or directory\n",
      "2022-03-12 15:50:05.904773: W tensorflow/stream_executor/cuda/cuda_driver.cc:269] failed call to cuInit: UNKNOWN ERROR (303)\n",
      "2022-03-12 15:50:05.904792: I tensorflow/stream_executor/cuda/cuda_diagnostics.cc:156] kernel driver does not appear to be running on this host (MacBookPro15): /proc/driver/nvidia/version does not exist\n",
      "2022-03-12 15:50:05.905008: I tensorflow/core/platform/cpu_feature_guard.cc:151] This TensorFlow binary is optimized with oneAPI Deep Neural Network Library (oneDNN) to use the following CPU instructions in performance-critical operations:  AVX2 FMA\n",
      "To enable them in other operations, rebuild TensorFlow with the appropriate compiler flags.\n",
      "2022-03-12 15:50:07.917536: W tensorflow/core/common_runtime/graph_constructor.cc:803] Node 'cond/while' has 13 outputs but the _output_shapes attribute specifies shapes for 46 outputs. Output shapes may be inaccurate.\n",
      "2022-03-12 15:50:08.049963: W tensorflow/core/common_runtime/graph_constructor.cc:803] Node 'cond/while' has 13 outputs but the _output_shapes attribute specifies shapes for 46 outputs. Output shapes may be inaccurate.\n",
      "2022-03-12 15:50:08.068765: W tensorflow/core/common_runtime/graph_constructor.cc:803] Node 'cond' has 4 outputs but the _output_shapes attribute specifies shapes for 46 outputs. Output shapes may be inaccurate.\n",
      "2022-03-12 15:50:09.800845: W tensorflow/core/common_runtime/graph_constructor.cc:803] Node 'cond/while' has 13 outputs but the _output_shapes attribute specifies shapes for 46 outputs. Output shapes may be inaccurate.\n",
      "2022-03-12 15:50:09.819766: W tensorflow/core/common_runtime/graph_constructor.cc:803] Node 'cond' has 4 outputs but the _output_shapes attribute specifies shapes for 46 outputs. Output shapes may be inaccurate.\n",
      "2022-03-12 15:50:10.231118: W tensorflow/core/common_runtime/graph_constructor.cc:803] Node 'cond/while' has 13 outputs but the _output_shapes attribute specifies shapes for 46 outputs. Output shapes may be inaccurate.\n",
      "2022-03-12 15:50:10.250581: W tensorflow/core/common_runtime/graph_constructor.cc:803] Node 'cond' has 4 outputs but the _output_shapes attribute specifies shapes for 46 outputs. Output shapes may be inaccurate.\n",
      "2022-03-12 15:50:10.509470: W tensorflow/core/common_runtime/graph_constructor.cc:803] Node 'cond/while' has 13 outputs but the _output_shapes attribute specifies shapes for 46 outputs. Output shapes may be inaccurate.\n",
      "2022-03-12 15:50:10.526357: W tensorflow/core/common_runtime/graph_constructor.cc:803] Node 'cond' has 4 outputs but the _output_shapes attribute specifies shapes for 46 outputs. Output shapes may be inaccurate.\n",
      "2022-03-12 15:50:10.668797: W tensorflow/core/common_runtime/graph_constructor.cc:803] Node 'cond' has 4 outputs but the _output_shapes attribute specifies shapes for 46 outputs. Output shapes may be inaccurate.\n",
      "2022-03-12 15:50:10.758285: W tensorflow/core/common_runtime/graph_constructor.cc:803] Node 'cond/while' has 13 outputs but the _output_shapes attribute specifies shapes for 46 outputs. Output shapes may be inaccurate.\n",
      "2022-03-12 15:50:10.776961: W tensorflow/core/common_runtime/graph_constructor.cc:803] Node 'cond' has 4 outputs but the _output_shapes attribute specifies shapes for 46 outputs. Output shapes may be inaccurate.\n"
     ]
    }
   ],
   "source": [
    "# load RNN model\n",
    "rnn_model = load_model(f'../{ticker}')"
   ]
  },
  {
   "cell_type": "code",
   "execution_count": 12,
   "id": "7f6802f1-a4a0-449a-8e69-4837168c5d33",
   "metadata": {
    "tags": []
   },
   "outputs": [
    {
     "data": {
      "text/plain": [
       "(1, 14, 26)"
      ]
     },
     "execution_count": 12,
     "metadata": {},
     "output_type": "execute_result"
    }
   ],
   "source": [
    "#preprocess the input for RNN prediction\n",
    "preprocessor = joblib.load(f'../preprocessor_{ticker}.joblib')\n",
    "df_test_preprocessed = preprocessor.transform(df_test)\n",
    "df_test_preprocessed = df_test_preprocessed[-14:,:]\n",
    "df_test_preprocessed = np.expand_dims(df_test_preprocessed, axis=0)\n",
    "df_test_preprocessed.shape"
   ]
  },
  {
   "cell_type": "code",
   "execution_count": 13,
   "id": "e16b31b4-8310-4460-a2d0-8313f08408b2",
   "metadata": {
    "tags": []
   },
   "outputs": [
    {
     "data": {
      "text/plain": [
       "90.86665007101715"
      ]
     },
     "execution_count": 13,
     "metadata": {},
     "output_type": "execute_result"
    }
   ],
   "source": [
    "# RNN next day closing price prediction\n",
    "scaled_close_prediction = rnn_model.predict(df_test_preprocessed)\n",
    "fin_scaller_output = np.zeros((1,7))\n",
    "fin_scaller_output[0,1] = scaled_close_prediction\n",
    "unscaled_close_prediction = preprocessor.named_steps['transform'].named_transformers_['fin_scaller'].inverse_transform(fin_scaller_output)[0,1]\n",
    "unscaled_close_prediction"
   ]
  },
  {
   "cell_type": "code",
   "execution_count": 14,
   "id": "7c14472f-6ac3-4fd7-adfc-0c7115bee0a9",
   "metadata": {},
   "outputs": [
    {
     "data": {
      "text/html": [
       "<div>\n",
       "<style scoped>\n",
       "    .dataframe tbody tr th:only-of-type {\n",
       "        vertical-align: middle;\n",
       "    }\n",
       "\n",
       "    .dataframe tbody tr th {\n",
       "        vertical-align: top;\n",
       "    }\n",
       "\n",
       "    .dataframe thead th {\n",
       "        text-align: right;\n",
       "    }\n",
       "</style>\n",
       "<table border=\"1\" class=\"dataframe\">\n",
       "  <thead>\n",
       "    <tr style=\"text-align: right;\">\n",
       "      <th></th>\n",
       "      <th>Open</th>\n",
       "      <th>High</th>\n",
       "      <th>Low</th>\n",
       "      <th>Close</th>\n",
       "      <th>Volume</th>\n",
       "    </tr>\n",
       "    <tr>\n",
       "      <th>Date</th>\n",
       "      <th></th>\n",
       "      <th></th>\n",
       "      <th></th>\n",
       "      <th></th>\n",
       "      <th></th>\n",
       "    </tr>\n",
       "  </thead>\n",
       "  <tbody>\n",
       "    <tr>\n",
       "      <th>2020-03-11 00:00:00</th>\n",
       "      <td>69.347504</td>\n",
       "      <td>70.305000</td>\n",
       "      <td>67.964996</td>\n",
       "      <td>68.857498</td>\n",
       "      <td>255598800.0</td>\n",
       "    </tr>\n",
       "    <tr>\n",
       "      <th>2020-03-12 00:00:00</th>\n",
       "      <td>63.985001</td>\n",
       "      <td>67.500000</td>\n",
       "      <td>62.000000</td>\n",
       "      <td>62.057499</td>\n",
       "      <td>418474000.0</td>\n",
       "    </tr>\n",
       "    <tr>\n",
       "      <th>2020-03-13 00:00:00</th>\n",
       "      <td>66.222504</td>\n",
       "      <td>69.980003</td>\n",
       "      <td>63.237499</td>\n",
       "      <td>69.492500</td>\n",
       "      <td>370732000.0</td>\n",
       "    </tr>\n",
       "    <tr>\n",
       "      <th>2020-03-16 00:00:00</th>\n",
       "      <td>60.487499</td>\n",
       "      <td>64.769997</td>\n",
       "      <td>60.000000</td>\n",
       "      <td>60.552502</td>\n",
       "      <td>322423600.0</td>\n",
       "    </tr>\n",
       "    <tr>\n",
       "      <th>2020-03-17 00:00:00</th>\n",
       "      <td>61.877499</td>\n",
       "      <td>64.402496</td>\n",
       "      <td>59.599998</td>\n",
       "      <td>63.215000</td>\n",
       "      <td>324056000.0</td>\n",
       "    </tr>\n",
       "    <tr>\n",
       "      <th>...</th>\n",
       "      <td>...</td>\n",
       "      <td>...</td>\n",
       "      <td>...</td>\n",
       "      <td>...</td>\n",
       "      <td>...</td>\n",
       "    </tr>\n",
       "    <tr>\n",
       "      <th>2022-03-08 00:00:00</th>\n",
       "      <td>158.820007</td>\n",
       "      <td>162.880005</td>\n",
       "      <td>155.800003</td>\n",
       "      <td>157.440002</td>\n",
       "      <td>131148300.0</td>\n",
       "    </tr>\n",
       "    <tr>\n",
       "      <th>2022-03-09 00:00:00</th>\n",
       "      <td>161.479996</td>\n",
       "      <td>163.410004</td>\n",
       "      <td>159.410004</td>\n",
       "      <td>162.949997</td>\n",
       "      <td>91454900.0</td>\n",
       "    </tr>\n",
       "    <tr>\n",
       "      <th>2022-03-10 00:00:00</th>\n",
       "      <td>160.199997</td>\n",
       "      <td>160.389999</td>\n",
       "      <td>155.979996</td>\n",
       "      <td>158.520004</td>\n",
       "      <td>105342000.0</td>\n",
       "    </tr>\n",
       "    <tr>\n",
       "      <th>2022-03-11 00:00:00</th>\n",
       "      <td>158.929993</td>\n",
       "      <td>159.279999</td>\n",
       "      <td>154.500000</td>\n",
       "      <td>154.729996</td>\n",
       "      <td>96836300.0</td>\n",
       "    </tr>\n",
       "    <tr>\n",
       "      <th>2022-03-12</th>\n",
       "      <td>NaN</td>\n",
       "      <td>NaN</td>\n",
       "      <td>NaN</td>\n",
       "      <td>NaN</td>\n",
       "      <td>NaN</td>\n",
       "    </tr>\n",
       "  </tbody>\n",
       "</table>\n",
       "<p>507 rows × 5 columns</p>\n",
       "</div>"
      ],
      "text/plain": [
       "                           Open        High         Low       Close  \\\n",
       "Date                                                                  \n",
       "2020-03-11 00:00:00   69.347504   70.305000   67.964996   68.857498   \n",
       "2020-03-12 00:00:00   63.985001   67.500000   62.000000   62.057499   \n",
       "2020-03-13 00:00:00   66.222504   69.980003   63.237499   69.492500   \n",
       "2020-03-16 00:00:00   60.487499   64.769997   60.000000   60.552502   \n",
       "2020-03-17 00:00:00   61.877499   64.402496   59.599998   63.215000   \n",
       "...                         ...         ...         ...         ...   \n",
       "2022-03-08 00:00:00  158.820007  162.880005  155.800003  157.440002   \n",
       "2022-03-09 00:00:00  161.479996  163.410004  159.410004  162.949997   \n",
       "2022-03-10 00:00:00  160.199997  160.389999  155.979996  158.520004   \n",
       "2022-03-11 00:00:00  158.929993  159.279999  154.500000  154.729996   \n",
       "2022-03-12                  NaN         NaN         NaN         NaN   \n",
       "\n",
       "                          Volume  \n",
       "Date                              \n",
       "2020-03-11 00:00:00  255598800.0  \n",
       "2020-03-12 00:00:00  418474000.0  \n",
       "2020-03-13 00:00:00  370732000.0  \n",
       "2020-03-16 00:00:00  322423600.0  \n",
       "2020-03-17 00:00:00  324056000.0  \n",
       "...                          ...  \n",
       "2022-03-08 00:00:00  131148300.0  \n",
       "2022-03-09 00:00:00   91454900.0  \n",
       "2022-03-10 00:00:00  105342000.0  \n",
       "2022-03-11 00:00:00   96836300.0  \n",
       "2022-03-12                   NaN  \n",
       "\n",
       "[507 rows x 5 columns]"
      ]
     },
     "execution_count": 14,
     "metadata": {},
     "output_type": "execute_result"
    }
   ],
   "source": [
    "df_test.loc[date.today()] = np.full((1,5), np.nan).tolist()[0]\n",
    "df_test"
   ]
  },
  {
   "cell_type": "code",
   "execution_count": null,
   "id": "77611c8e-912b-4abb-9d72-4741acff02fa",
   "metadata": {},
   "outputs": [],
   "source": [
    "df_test_prophet"
   ]
  },
  {
   "cell_type": "code",
   "execution_count": null,
   "id": "5db8a436-5dd1-4c29-a5a1-acc19f15d0ce",
   "metadata": {},
   "outputs": [],
   "source": [
    "y_test_pred = predict_from_model(ticker, 'prophet', pd.concat([df_test_prophet[['ds']], pd.DataFrame({'ds': [date.today()]})]))\n",
    "y_test_pred"
   ]
  },
  {
   "cell_type": "code",
   "execution_count": null,
   "id": "c815d5f3-d0e4-48f5-8b9e-74e907872653",
   "metadata": {},
   "outputs": [],
   "source": [
    "np.full((1,5),np.nan).shape"
   ]
  },
  {
   "cell_type": "code",
   "execution_count": null,
   "id": "53916701-186c-4318-bf46-ba4e6dd2edab",
   "metadata": {},
   "outputs": [],
   "source": [
    "df_test"
   ]
  },
  {
   "cell_type": "code",
   "execution_count": null,
   "id": "3158e641-3664-4e89-a432-f7bd59f58deb",
   "metadata": {},
   "outputs": [],
   "source": [
    "pd.concat([df_test[['Close']], pd.DataFrame()])"
   ]
  },
  {
   "cell_type": "code",
   "execution_count": null,
   "id": "d1dc2d8e-5769-492f-a75c-d4f33d6b7fef",
   "metadata": {},
   "outputs": [],
   "source": [
    "df_test"
   ]
  },
  {
   "cell_type": "code",
   "execution_count": null,
   "id": "a656cb63-2ab8-4790-a568-422443e1f265",
   "metadata": {},
   "outputs": [],
   "source": [
    "pd.concat([pd.concat([df_test[['Close']].loc[date.today()] = np.nan]), pd.DataFrame({'Close_pred_prophet': y_test_pred.values}, index=df_test.index)], axis=1)"
   ]
  },
  {
   "cell_type": "code",
   "execution_count": null,
   "id": "8b15b86c",
   "metadata": {},
   "outputs": [],
   "source": [
    "n_days_prediction=1\n",
    "future = pd.DataFrame({'ds': [date.today()]})\n",
    "future"
   ]
  },
  {
   "cell_type": "code",
   "execution_count": null,
   "id": "739eaeec",
   "metadata": {},
   "outputs": [],
   "source": [
    "forecast = predict_from_model(ticker, 'prophet', future)\n",
    "forecast"
   ]
  },
  {
   "cell_type": "code",
   "execution_count": null,
   "id": "c3592edd",
   "metadata": {},
   "outputs": [],
   "source": [
    "mae_prophet = mean_absolute_error(df_test[:n_days_prediction]['y'], forecast['yhat'])\n",
    "mape_prophet = mean_absolute_percentage_error(df_test[:n_days_prediction]['y'], forecast['yhat'])\n",
    "print(f'MAE: {mae_prophet}')\n",
    "pbrint(f'MAPE: {mape_prophet}')"
   ]
  },
  {
   "cell_type": "code",
   "execution_count": null,
   "id": "0dd32253",
   "metadata": {},
   "outputs": [],
   "source": [
    "def predict_from_model(ticker, model_type, X):\n",
    "    \"\"\"Predicts from a saved model for a ticker and a model_type\n",
    "       Input:\n",
    "            ticker: ticker used by the model\n",
    "            model_type: type of model used such as prohet or RNN\n",
    "            X: data\n",
    "       Ouptut: return a dataframe with predicted values\"\"\"\n",
    "    model = download_model(ticker, model_type)\n",
    "    if model_type == \"prophet\":\n",
    "        y_pred = model['prophet_model'].prophet.predict(X)['yhat']\n",
    "    else:\n",
    "        y_pred = model.predict(X)\n",
    "        \n",
    "    return y_pred"
   ]
  },
  {
   "cell_type": "code",
   "execution_count": null,
   "id": "0266d821",
   "metadata": {},
   "outputs": [],
   "source": [
    "cd notebooks"
   ]
  },
  {
   "cell_type": "code",
   "execution_count": null,
   "id": "8714809e",
   "metadata": {},
   "outputs": [],
   "source": [
    "download_model(ricker, 'prophet')"
   ]
  }
 ],
 "metadata": {
  "kernelspec": {
   "display_name": "Python 3 (ipykernel)",
   "language": "python",
   "name": "python3"
  },
  "language_info": {
   "codemirror_mode": {
    "name": "ipython",
    "version": 3
   },
   "file_extension": ".py",
   "mimetype": "text/x-python",
   "name": "python",
   "nbconvert_exporter": "python",
   "pygments_lexer": "ipython3",
   "version": "3.8.12"
  },
  "toc": {
   "base_numbering": 1,
   "nav_menu": {},
   "number_sections": true,
   "sideBar": true,
   "skip_h1_title": false,
   "title_cell": "Table of Contents",
   "title_sidebar": "Contents",
   "toc_cell": false,
   "toc_position": {
    "height": "calc(100% - 180px)",
    "left": "10px",
    "top": "150px",
    "width": "272.7px"
   },
   "toc_section_display": true,
   "toc_window_display": true
  }
 },
 "nbformat": 4,
 "nbformat_minor": 5
}
